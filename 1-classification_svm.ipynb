{
  "nbformat": 4,
  "nbformat_minor": 0,
  "metadata": {
    "colab": {
      "private_outputs": true,
      "provenance": [],
      "authorship_tag": "ABX9TyNDFwBVFsg+b+o0+MJVv34c",
      "include_colab_link": true
    },
    "kernelspec": {
      "name": "python3",
      "display_name": "Python 3"
    },
    "language_info": {
      "name": "python"
    }
  },
  "cells": [
    {
      "cell_type": "markdown",
      "metadata": {
        "id": "view-in-github",
        "colab_type": "text"
      },
      "source": [
        "<a href=\"https://colab.research.google.com/github/iceman67/ai/blob/main/1-classification_svm.ipynb\" target=\"_parent\"><img src=\"https://colab.research.google.com/assets/colab-badge.svg\" alt=\"Open In Colab\"/></a>"
      ]
    },
    {
      "cell_type": "markdown",
      "source": [
        "# 3.4 참고"
      ],
      "metadata": {
        "id": "H9_yNxqRjY8C"
      }
    },
    {
      "cell_type": "code",
      "execution_count": null,
      "metadata": {
        "id": "v6CH8z5jioK8"
      },
      "outputs": [],
      "source": [
        "from sklearn import datasets\n",
        "from sklearn import svm\n",
        "import matplotlib.pyplot as plt\n",
        "\n",
        "digit=datasets.load_digits()\n",
        "\n",
        "# svm의 분류기 모델 SC를 학습\n",
        "s=svm.SVC(gamma=0.1,C=10)\n",
        "s.fit(digit.data,digit.target) # digit 데이터로 모델링\n",
        "\n",
        "# 훈련 집합의 앞에 있는 샘플 3개를 새로운 샘플로 간주하고 인식해봄\n",
        "new_d=[digit.data[0],digit.data[1],digit.data[2]]\n",
        "res=s.predict(new_d)\n",
        "print(\"예측값은\", res)\n",
        "print(\"참값은\", digit.target[0],digit.target[1],digit.target[2])\n",
        "\n",
        "# 훈련 집합을 테스트 집합으로 간주하여 인식해보고 정확률을 측정\n",
        "res=s.predict(digit.data)\n",
        "correct=[i for i in range(len(res)) if res[i]==digit.target[i]]\n",
        "accuracy=len(correct)/len(res)\n",
        "print(\"화소 특징을 사용했을 때 정확률=\",accuracy*100, \"%\")"
      ]
    },
    {
      "cell_type": "code",
      "source": [
        "plt.figure(figsize=(5,5))\n",
        "plt.imshow(digit.images[0],cmap=plt.cm.gray_r,interpolation='nearest') # 0번 샘플을 그림\n",
        "plt.show()\n",
        "print(digit.data[0]) # 0번 샘플의 화솟값을 출력\n",
        "print(\"이 숫자는 \",digit.target[0],\"입니다.\")\n"
      ],
      "metadata": {
        "id": "5W7emelhizGz"
      },
      "execution_count": null,
      "outputs": []
    },
    {
      "cell_type": "code",
      "source": [
        "# 훈련 집합의 앞에 있는 샘플 3개를 새로운 샘플로 간주하고 인식해봄\n",
        "new_d=[digit.data[0]]\n",
        "res=s.predict(new_d)\n",
        "print (res)"
      ],
      "metadata": {
        "id": "0LRlY3iBjBek"
      },
      "execution_count": null,
      "outputs": []
    }
  ]
}