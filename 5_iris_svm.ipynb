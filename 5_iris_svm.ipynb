{
  "nbformat": 4,
  "nbformat_minor": 0,
  "metadata": {
    "colab": {
      "private_outputs": true,
      "provenance": [],
      "authorship_tag": "ABX9TyM4ttCyJIzW2cg5F8asuTJF",
      "include_colab_link": true
    },
    "kernelspec": {
      "name": "python3",
      "display_name": "Python 3"
    },
    "language_info": {
      "name": "python"
    }
  },
  "cells": [
    {
      "cell_type": "markdown",
      "metadata": {
        "id": "view-in-github",
        "colab_type": "text"
      },
      "source": [
        "<a href=\"https://colab.research.google.com/github/iceman67/ai/blob/main/5_iris_svm.ipynb\" target=\"_parent\"><img src=\"https://colab.research.google.com/assets/colab-badge.svg\" alt=\"Open In Colab\"/></a>"
      ]
    },
    {
      "cell_type": "code",
      "execution_count": null,
      "metadata": {
        "id": "d0WDL72wk2_J"
      },
      "outputs": [],
      "source": [
        "from sklearn.datasets import load_iris\n",
        "from matplotlib import pyplot as plt\n",
        "import pandas as pd\n",
        "iris = load_iris()"
      ]
    },
    {
      "cell_type": "code",
      "source": [
        "dir(iris)"
      ],
      "metadata": {
        "id": "wEH1HY9mk-g4"
      },
      "execution_count": null,
      "outputs": []
    },
    {
      "cell_type": "code",
      "source": [
        "iris.feature_names"
      ],
      "metadata": {
        "id": "PVoKd12PlHO9"
      },
      "execution_count": null,
      "outputs": []
    },
    {
      "cell_type": "code",
      "source": [
        "X = iris['data']\n",
        "feature_names = iris['feature_names']\n",
        "y = iris['target']"
      ],
      "metadata": {
        "id": "qoq7HpEOlXDt"
      },
      "execution_count": null,
      "outputs": []
    },
    {
      "cell_type": "code",
      "source": [
        "X = pd.DataFrame(iris.data, columns=iris.feature_names)\n",
        "y = pd.DataFrame(iris.target, columns=['target'])\n",
        "df = pd.concat ([X,y], axis =1)"
      ],
      "metadata": {
        "id": "ZvNPSi0Kl3ed"
      },
      "execution_count": null,
      "outputs": []
    },
    {
      "cell_type": "code",
      "source": [
        "from sklearn.model_selection import train_test_split\n",
        "x_train, x_test, y_train, y_test = train_test_split(X, y, test_size=0.2, random_state=30)"
      ],
      "metadata": {
        "id": "FqyTn0FMn_Ck"
      },
      "execution_count": null,
      "outputs": []
    },
    {
      "cell_type": "code",
      "source": [
        "x_test"
      ],
      "metadata": {
        "id": "S2oxC9D1ouZ2"
      },
      "execution_count": null,
      "outputs": []
    },
    {
      "cell_type": "code",
      "source": [
        "from sklearn.svm import SVC\n",
        "from sklearn.metrics import accuracy_score\n",
        "estimator = SVC(kernel='linear', C=1.0) #linear SVM\n",
        "#estimator = SVC() #linear SVM\n",
        "\n",
        "estimator.fit(x_train, y_train)\n",
        "y_predict = estimator.predict(x_train) \n",
        "score = accuracy_score(y_train, y_predict)\n",
        "print(score) #1.0"
      ],
      "metadata": {
        "id": "TValQ1a-oSaQ"
      },
      "execution_count": null,
      "outputs": []
    },
    {
      "cell_type": "code",
      "source": [
        "y_predict = estimator.predict(x_test) \n",
        "score = accuracy_score(y_test, y_predict)\n",
        "print(score) #1.0"
      ],
      "metadata": {
        "id": "qepxKhSdplD8"
      },
      "execution_count": null,
      "outputs": []
    },
    {
      "cell_type": "code",
      "source": [
        "x_test"
      ],
      "metadata": {
        "id": "mXWl9VJPqFDE"
      },
      "execution_count": null,
      "outputs": []
    },
    {
      "cell_type": "code",
      "source": [
        "y_test.target"
      ],
      "metadata": {
        "id": "-EIGk3rNgtP-"
      },
      "execution_count": null,
      "outputs": []
    },
    {
      "cell_type": "code",
      "source": [
        "x_test_sample = [[6.3, 2.3, 4.4, 1.2]]\n",
        "y_test_predict = estimator.predict(x_test_sample) \n",
        "\n",
        "print (y_test_predict)"
      ],
      "metadata": {
        "id": "LOGkNB3QprA4"
      },
      "execution_count": null,
      "outputs": []
    }
  ]
}