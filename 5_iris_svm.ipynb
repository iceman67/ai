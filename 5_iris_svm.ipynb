{
  "nbformat": 4,
  "nbformat_minor": 0,
  "metadata": {
    "colab": {
      "private_outputs": true,
      "provenance": [],
      "authorship_tag": "ABX9TyNo9JrFujW5UNcGGK7qXJ79",
      "include_colab_link": true
    },
    "kernelspec": {
      "name": "python3",
      "display_name": "Python 3"
    },
    "language_info": {
      "name": "python"
    }
  },
  "cells": [
    {
      "cell_type": "markdown",
      "metadata": {
        "id": "view-in-github",
        "colab_type": "text"
      },
      "source": [
        "<a href=\"https://colab.research.google.com/github/iceman67/ai/blob/main/5_iris_svm.ipynb\" target=\"_parent\"><img src=\"https://colab.research.google.com/assets/colab-badge.svg\" alt=\"Open In Colab\"/></a>"
      ]
    },
    {
      "cell_type": "code",
      "execution_count": null,
      "metadata": {
        "id": "d0WDL72wk2_J"
      },
      "outputs": [],
      "source": [
        "from sklearn.datasets import load_iris\n",
        "from matplotlib import pyplot as plt\n",
        "iris = load_iris()"
      ]
    },
    {
      "cell_type": "code",
      "source": [
        "dir(iris)"
      ],
      "metadata": {
        "id": "wEH1HY9mk-g4"
      },
      "execution_count": null,
      "outputs": []
    },
    {
      "cell_type": "code",
      "source": [
        "iris.feature_names"
      ],
      "metadata": {
        "id": "PVoKd12PlHO9"
      },
      "execution_count": null,
      "outputs": []
    },
    {
      "cell_type": "code",
      "source": [
        "features = iris['data']\n",
        "feature_names = iris['feature_names']\n",
        "target = iris['target']\n",
        "print (features[:5])\n",
        "print (target[0:5])"
      ],
      "metadata": {
        "id": "qoq7HpEOlXDt"
      },
      "execution_count": null,
      "outputs": []
    },
    {
      "cell_type": "code",
      "source": [
        "target"
      ],
      "metadata": {
        "id": "ZvNPSi0Kl3ed"
      },
      "execution_count": null,
      "outputs": []
    },
    {
      "cell_type": "code",
      "source": [
        "import pandas as pd # 데이터 프레임으로 변환을 위해 임포트\n",
        "import numpy as np # 고수학 연산을 위해 임포트\n",
        "\n",
        "# feature_names 와 target을 레코드로 갖는 데이터프레임 생성\n",
        "df = pd.DataFrame(data=iris.data, columns=iris.feature_names)\n",
        "X = df\n",
        "df['target'] = iris.target\n",
        "y = iris.target"
      ],
      "metadata": {
        "id": "MR64aix5mBdU"
      },
      "execution_count": null,
      "outputs": []
    },
    {
      "cell_type": "code",
      "source": [
        "type(iris.target.dtype)"
      ],
      "metadata": {
        "id": "JoE1I0bGolPX"
      },
      "execution_count": null,
      "outputs": []
    },
    {
      "cell_type": "code",
      "source": [
        "from sklearn.model_selection import train_test_split\n",
        "x_train, x_test, y_train, y_test = train_test_split(X, y, test_size=0.2, random_state=30)"
      ],
      "metadata": {
        "id": "FqyTn0FMn_Ck"
      },
      "execution_count": null,
      "outputs": []
    },
    {
      "cell_type": "code",
      "source": [
        "y[0]"
      ],
      "metadata": {
        "id": "S2oxC9D1ouZ2"
      },
      "execution_count": null,
      "outputs": []
    },
    {
      "cell_type": "code",
      "source": [
        "from sklearn.svm import SVC\n",
        "from sklearn.metrics import accuracy_score\n",
        "#estimator = SVC(kernel='linear', C=1.0) #linear SVM\n",
        "estimator = SVC() #linear SVM\n",
        "\n",
        "estimator.fit(x_train, y_train)\n",
        "y_predict = estimator.predict(x_train) \n",
        "score = accuracy_score(y_train, y_predict)\n",
        "print(score) #1.0"
      ],
      "metadata": {
        "id": "TValQ1a-oSaQ"
      },
      "execution_count": null,
      "outputs": []
    }
  ]
}