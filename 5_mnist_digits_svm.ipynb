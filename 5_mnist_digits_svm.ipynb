{
  "nbformat": 4,
  "nbformat_minor": 0,
  "metadata": {
    "colab": {
      "private_outputs": true,
      "provenance": [],
      "authorship_tag": "ABX9TyOqDQ7TSkk8uim/+8Df2mAT",
      "include_colab_link": true
    },
    "kernelspec": {
      "name": "python3",
      "display_name": "Python 3"
    },
    "language_info": {
      "name": "python"
    }
  },
  "cells": [
    {
      "cell_type": "markdown",
      "metadata": {
        "id": "view-in-github",
        "colab_type": "text"
      },
      "source": [
        "<a href=\"https://colab.research.google.com/github/iceman67/ai/blob/main/5_mnist_digits_svm.ipynb\" target=\"_parent\"><img src=\"https://colab.research.google.com/assets/colab-badge.svg\" alt=\"Open In Colab\"/></a>"
      ]
    },
    {
      "cell_type": "code",
      "execution_count": null,
      "metadata": {
        "id": "bIyhAMOcamjM"
      },
      "outputs": [],
      "source": [
        "from sklearn.datasets import load_digits\n",
        "digits = load_digits()"
      ]
    },
    {
      "cell_type": "code",
      "source": [
        "dir(digits)"
      ],
      "metadata": {
        "id": "G-MXEdN1awbA"
      },
      "execution_count": null,
      "outputs": []
    },
    {
      "cell_type": "code",
      "source": [
        "digits.feature_names"
      ],
      "metadata": {
        "id": "aQdisrg2a12n"
      },
      "execution_count": null,
      "outputs": []
    },
    {
      "cell_type": "code",
      "source": [
        "digits.data"
      ],
      "metadata": {
        "id": "ZB2EOfdsbFhh"
      },
      "execution_count": null,
      "outputs": []
    },
    {
      "cell_type": "code",
      "source": [
        "digits.data.shape"
      ],
      "metadata": {
        "id": "h1QHiOtWa-Zv"
      },
      "execution_count": null,
      "outputs": []
    },
    {
      "cell_type": "code",
      "source": [
        "import pandas as pd"
      ],
      "metadata": {
        "id": "QZPaOwJNbaAb"
      },
      "execution_count": null,
      "outputs": []
    },
    {
      "cell_type": "code",
      "source": [
        "from os import XATTR_CREATE\n",
        "# feature_names 와 target을 레코드로 갖는 데이터프레임 생성\n",
        "df = pd.DataFrame(data=digits.data, columns=digits.feature_names)\n",
        "X = df\n",
        "df['target'] = digits.target\n",
        "y = digits.target"
      ],
      "metadata": {
        "id": "qBd0r-T8bXuX"
      },
      "execution_count": null,
      "outputs": []
    },
    {
      "cell_type": "code",
      "source": [
        "from sklearn.model_selection import train_test_split\n",
        "x_train, x_test, y_train, y_test = train_test_split(X, y, test_size=0.2,random_state=5)"
      ],
      "metadata": {
        "id": "UkcamMSEbrCf"
      },
      "execution_count": null,
      "outputs": []
    },
    {
      "cell_type": "code",
      "source": [
        "from sklearn.svm import SVC\n",
        "from sklearn.metrics import accuracy_score\n",
        "#estimator = SVC(kernel='linear', C=1.0) #linear SVM\n",
        "estimator = SVC() #linear SVM\n",
        "\n",
        "estimator.fit(x_train, y_train)\n",
        "y_predict = estimator.predict(x_train) \n",
        "score = accuracy_score(y_train, y_predict)\n",
        "print(score) #1.0"
      ],
      "metadata": {
        "id": "vnrKM9p5b_oR"
      },
      "execution_count": null,
      "outputs": []
    },
    {
      "cell_type": "code",
      "source": [
        "y_predict = estimator.predict(x_test) \n",
        "score = accuracy_score(y_test, y_predict)\n",
        "print(score) #1.0"
      ],
      "metadata": {
        "id": "C6HHskJecNIj"
      },
      "execution_count": null,
      "outputs": []
    },
    {
      "cell_type": "code",
      "source": [
        "from sklearn.metrics import classification_report, confusion_matrix\n",
        "print(confusion_matrix(y_test,y_predict))\n",
        "print(classification_report(y_test,y_predict))"
      ],
      "metadata": {
        "id": "wRzU5mmsefiK"
      },
      "execution_count": null,
      "outputs": []
    }
  ]
}