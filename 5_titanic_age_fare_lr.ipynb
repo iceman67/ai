{
  "nbformat": 4,
  "nbformat_minor": 0,
  "metadata": {
    "colab": {
      "private_outputs": true,
      "provenance": [],
      "authorship_tag": "ABX9TyP/gali5FO+hxepQF3N+f6N",
      "include_colab_link": true
    },
    "kernelspec": {
      "name": "python3",
      "display_name": "Python 3"
    },
    "language_info": {
      "name": "python"
    }
  },
  "cells": [
    {
      "cell_type": "markdown",
      "metadata": {
        "id": "view-in-github",
        "colab_type": "text"
      },
      "source": [
        "<a href=\"https://colab.research.google.com/github/iceman67/ai/blob/main/5_titanic_age_fare_lr.ipynb\" target=\"_parent\"><img src=\"https://colab.research.google.com/assets/colab-badge.svg\" alt=\"Open In Colab\"/></a>"
      ]
    },
    {
      "cell_type": "code",
      "execution_count": null,
      "metadata": {
        "id": "cWszbvlwNk4f"
      },
      "outputs": [],
      "source": [
        "import numpy as np\n",
        "import pandas as pd\n",
        "import matplotlib.pyplot as plt\n",
        "from sklearn import linear_model\n",
        "\n",
        "df = pd.read_csv(\"train.csv\")\n",
        "print (df.head())\n",
        "\n",
        "df = df.fillna(df.mean())"
      ]
    },
    {
      "cell_type": "code",
      "source": [
        "# numpy 배열로 변환 \n",
        "X = df['Age'].to_numpy()\n",
        "y = df['Fare'].to_numpy()\n",
        "X = X[:, np.newaxis]\n",
        "\n",
        "print (f' X의 형태 = {X.shape}, y의 형태 = {y.shape}')"
      ],
      "metadata": {
        "id": "1FLwWvAnPBZn"
      },
      "execution_count": null,
      "outputs": []
    },
    {
      "cell_type": "code",
      "source": [
        "model = linear_model.LinearRegression()\n",
        "model.fit(X, y)"
      ],
      "metadata": {
        "id": "46t1pd7DRi5f"
      },
      "execution_count": null,
      "outputs": []
    },
    {
      "cell_type": "code",
      "source": [
        "plt.scatter(X[0], _y)"
      ],
      "metadata": {
        "id": "fk4ufgGYSOdN"
      },
      "execution_count": null,
      "outputs": []
    },
    {
      "cell_type": "code",
      "source": [
        "Xtest = [[2]]\n",
        "_y = model.predict(Xtest)\n",
        "print (_y)"
      ],
      "metadata": {
        "id": "SgpMwSLXRthd"
      },
      "execution_count": null,
      "outputs": []
    }
  ]
}