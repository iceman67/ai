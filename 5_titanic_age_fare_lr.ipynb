{
  "nbformat": 4,
  "nbformat_minor": 0,
  "metadata": {
    "colab": {
      "private_outputs": true,
      "provenance": [],
      "authorship_tag": "ABX9TyM3vnW99IbSwwfqZRg0Udaj",
      "include_colab_link": true
    },
    "kernelspec": {
      "name": "python3",
      "display_name": "Python 3"
    },
    "language_info": {
      "name": "python"
    }
  },
  "cells": [
    {
      "cell_type": "markdown",
      "metadata": {
        "id": "view-in-github",
        "colab_type": "text"
      },
      "source": [
        "<a href=\"https://colab.research.google.com/github/iceman67/ai/blob/main/5_titanic_age_fare_lr.ipynb\" target=\"_parent\"><img src=\"https://colab.research.google.com/assets/colab-badge.svg\" alt=\"Open In Colab\"/></a>"
      ]
    },
    {
      "cell_type": "code",
      "execution_count": null,
      "metadata": {
        "id": "cWszbvlwNk4f"
      },
      "outputs": [],
      "source": [
        "import numpy as np\n",
        "import pandas as pd\n",
        "import matplotlib.pyplot as plt\n",
        "from sklearn import linear_model\n",
        "\n",
        "df = pd.read_csv(\"train.csv\")\n",
        "#print (df.head())\n",
        "\n",
        "df = df.fillna(df.mean())"
      ]
    },
    {
      "cell_type": "code",
      "source": [
        "# numpy 배열로 변환 \n",
        "X = df['Age'].to_numpy()\n",
        "y = df['Fare'].to_numpy()\n",
        "X = X[:, np.newaxis]\n",
        "\n",
        "print (f' X의 형태 = {X.shape}, y의 형태 = {y.shape}')"
      ],
      "metadata": {
        "id": "1FLwWvAnPBZn"
      },
      "execution_count": null,
      "outputs": []
    },
    {
      "cell_type": "code",
      "source": [
        "model = linear_model.LinearRegression()\n",
        "# X의 값을 추출하여 100 * 1의 2차원 배열로 구성\n",
        "# y를 데이터프레임 Fare를 추출함\n",
        "X = df['Age']\n",
        "y = df['Fare']\n",
        "model.fit(X.values.reshape(-1,1), y)"
      ],
      "metadata": {
        "id": "46t1pd7DRi5f"
      },
      "execution_count": null,
      "outputs": []
    },
    {
      "cell_type": "code",
      "source": [
        "Xtest = [[2]]\n",
        "_y = model.predict(Xtest)\n",
        "print (_y)"
      ],
      "metadata": {
        "id": "SgpMwSLXRthd"
      },
      "execution_count": null,
      "outputs": []
    },
    {
      "cell_type": "code",
      "source": [
        "coef = model.coef_\n",
        "intercept = model.intercept_\n",
        "\n",
        "print (f'coef = {coef},intercept = {intercept} ')"
      ],
      "metadata": {
        "id": "exuvQju2MjN8"
      },
      "execution_count": null,
      "outputs": []
    },
    {
      "cell_type": "code",
      "source": [
        "plt.scatter(X, y,color='g') \n",
        "plt.plot(X, coef[0]*X + model.intercept_, '-r')\n",
        "plt.scatter(Xtest[0], _y,color='r') "
      ],
      "metadata": {
        "id": "ARw8XrJvMRoo"
      },
      "execution_count": null,
      "outputs": []
    }
  ]
}