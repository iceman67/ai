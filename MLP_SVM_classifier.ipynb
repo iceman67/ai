{
  "nbformat": 4,
  "nbformat_minor": 0,
  "metadata": {
    "colab": {
      "private_outputs": true,
      "provenance": [],
      "authorship_tag": "ABX9TyOF/6dv2JlAI9Jcinoi+tiN",
      "include_colab_link": true
    },
    "kernelspec": {
      "name": "python3",
      "display_name": "Python 3"
    },
    "language_info": {
      "name": "python"
    }
  },
  "cells": [
    {
      "cell_type": "markdown",
      "metadata": {
        "id": "view-in-github",
        "colab_type": "text"
      },
      "source": [
        "<a href=\"https://colab.research.google.com/github/iceman67/ai/blob/main/MLP_SVM_classifier.ipynb\" target=\"_parent\"><img src=\"https://colab.research.google.com/assets/colab-badge.svg\" alt=\"Open In Colab\"/></a>"
      ]
    },
    {
      "cell_type": "code",
      "execution_count": null,
      "metadata": {
        "id": "XkFdSdmQvm9b"
      },
      "outputs": [],
      "source": [
        "from sklearn import datasets\n",
        "from sklearn.neural_network import MLPClassifier\n",
        "from sklearn.model_selection import train_test_split\n",
        "import numpy as np"
      ]
    },
    {
      "cell_type": "code",
      "source": [
        "# 데이터셋을 읽고 훈련 집합과 테스트 집합으로 분할\n",
        "digit=datasets.load_digits()\n",
        "x_train,x_test,y_train,y_test=train_test_split(digit.data,digit.target,train_size=0.8)"
      ],
      "metadata": {
        "id": "roYCi5Aq9yOy"
      },
      "execution_count": null,
      "outputs": []
    },
    {
      "cell_type": "code",
      "source": [
        "# MLP 분류기 모델을 학습\n",
        "mlp=MLPClassifier(hidden_layer_sizes=(100),learning_rate_init=0.001,batch_size=32,max_iter=300,solver='sgd',verbose=True)\n",
        "mlp.fit(x_train,y_train)"
      ],
      "metadata": {
        "id": "O5usIVfT-nBP"
      },
      "execution_count": null,
      "outputs": []
    },
    {
      "cell_type": "code",
      "source": [
        "res=mlp.predict(x_test) # 테스트 집합으로 예측"
      ],
      "metadata": {
        "id": "1vWnHXZe-8A7"
      },
      "execution_count": null,
      "outputs": []
    },
    {
      "cell_type": "code",
      "source": [
        "# 혼동 행렬\n",
        "conf=np.zeros((10,10))\n",
        "for i in range(len(res)):\n",
        "    conf[res[i]][y_test[i]]+=1\n",
        "print(conf)"
      ],
      "metadata": {
        "id": "fejrn7R__QzC"
      },
      "execution_count": null,
      "outputs": []
    },
    {
      "cell_type": "code",
      "source": [
        "# 정확률 계산\n",
        "no_correct=0\n",
        "for i in range(10):\n",
        "    no_correct+=conf[i][i]\n",
        "accuracy=no_correct/len(res)\n",
        "print(\"테스트 집합에 대한 정확률은 \", accuracy*100, \"%입니다.\")"
      ],
      "metadata": {
        "id": "7W_O5aD8_h_B"
      },
      "execution_count": null,
      "outputs": []
    },
    {
      "cell_type": "markdown",
      "source": [
        "## SVM 분류기"
      ],
      "metadata": {
        "id": "UjZz6X0DFPeN"
      }
    },
    {
      "cell_type": "code",
      "source": [
        "from sklearn import svm\n",
        "# svm의 분류기 모델 SC를 학습\n",
        "\n",
        "digit=datasets.load_digits()\n",
        "x_train,x_test,y_train,y_test=train_test_split(digit.data,digit.target,train_size=0.6)\n",
        "\n",
        "s=svm.SVC(kernel='linear')\n",
        "#s=svm.SVC(kernel='poly')\n",
        "\n",
        "s.fit(x_train,y_train)\n",
        "\n",
        "\n",
        "# 훈련 집합의 앞에 있는 샘플 3개를 새로운 샘플로 간주하고 인식해봄\n",
        "new_d=[x_test[0],x_test[1],x_test[2]]\n",
        "res=s.predict(new_d)\n",
        "print(\"예측값은\", res)\n",
        "print(\"참값은\", y_test[0],y_test[1],y_test[2])\n"
      ],
      "metadata": {
        "id": "G0Z_IRYaAUNZ"
      },
      "execution_count": null,
      "outputs": []
    },
    {
      "cell_type": "code",
      "source": [
        "from sklearn import metrics\n",
        "res=s.predict(x_test) # 테스트 집합으로 예측\n",
        "print(metrics.confusion_matrix(y_true=y_test, y_pred=res))"
      ],
      "metadata": {
        "id": "NAxD57pKCxvi"
      },
      "execution_count": null,
      "outputs": []
    },
    {
      "cell_type": "code",
      "source": [
        "scores=metrics.classification_report(y_test, res, labels=[0, 1, 2, 3, 4, 5, 6, 7, 8, 9])\n",
        "print(scores)"
      ],
      "metadata": {
        "id": "GKW7sBqqDLnL"
      },
      "execution_count": null,
      "outputs": []
    }
  ]
}