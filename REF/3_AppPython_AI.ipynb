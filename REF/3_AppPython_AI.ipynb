{
  "nbformat": 4,
  "nbformat_minor": 0,
  "metadata": {
    "colab": {
      "private_outputs": true,
      "provenance": [],
      "toc_visible": true,
      "include_colab_link": true
    },
    "kernelspec": {
      "name": "python3",
      "display_name": "Python 3"
    },
    "language_info": {
      "name": "python"
    }
  },
  "cells": [
    {
      "cell_type": "markdown",
      "metadata": {
        "id": "view-in-github",
        "colab_type": "text"
      },
      "source": [
        "<a href=\"https://colab.research.google.com/github/iceman67/ai/blob/main/3_AppPython_AI.ipynb\" target=\"_parent\"><img src=\"https://colab.research.google.com/assets/colab-badge.svg\" alt=\"Open In Colab\"/></a>"
      ]
    },
    {
      "cell_type": "markdown",
      "metadata": {
        "id": "D1OczWyvi3VS"
      },
      "source": [
        "# Python 언어 특징\n",
        "* **코드의 간결성**\n",
        "* 높은 생산성\n",
        "\n",
        "> 파이썬을 배우는 이유는 \"쉽고 간단함\", \"높은생산성\""
      ]
    },
    {
      "cell_type": "markdown",
      "metadata": {
        "id": "N6XxkWEEohuv"
      },
      "source": [
        "## 코드의 간결성"
      ]
    },
    {
      "cell_type": "code",
      "metadata": {
        "id": "zyL126TeG0px"
      },
      "source": [
        "print(\"Hello world\")"
      ],
      "execution_count": null,
      "outputs": []
    },
    {
      "cell_type": "code",
      "metadata": {
        "id": "lvSyI9gnHdeu"
      },
      "source": [
        "# 간결한 반복문\n",
        "for i in range(1, 11):\n",
        "    print (i, end=\" \")"
      ],
      "execution_count": null,
      "outputs": []
    },
    {
      "cell_type": "markdown",
      "metadata": {
        "id": "9x6fwLUl0iU0"
      },
      "source": [
        "English like Syntax"
      ]
    },
    {
      "cell_type": "code",
      "metadata": {
        "id": "gpKgzOf20gge"
      },
      "source": [
        "a = 1\n",
        "b = 1\n",
        "if a is b:\n",
        "\tprint(\"Hi\")\n",
        "a = 2000\n",
        "print(\"Yeah!\") if a % 2 == 0 else print(\"No!\")"
      ],
      "execution_count": null,
      "outputs": []
    },
    {
      "cell_type": "markdown",
      "metadata": {
        "id": "sLbZdqCF04_0"
      },
      "source": [
        "C 언어와 파이썬 언어 차이점 이해하기\n",
        "* C 언어\n",
        "```\n",
        "#include <stdio.h>\n",
        "int main() {\n",
        "\tint a = 1;\n",
        "\tprintf(\"%d\", a);\n",
        "\treturn 0;\n",
        "}\n",
        "```\n",
        "* 파이썬 언어\n",
        "```\n",
        "a = 1\n",
        "print(a)\n",
        "```"
      ]
    },
    {
      "cell_type": "markdown",
      "metadata": {
        "id": "mbWFwRkatXPO"
      },
      "source": [
        "다음의 파이썬 코드의 오류를 찾아 올바르게 수정하시오.\n",
        "```\n",
        "x=4\n",
        "if (x == 4)\n",
        "{\n",
        " printf (\"x is equal to four\\n\");\n",
        " printf (\"Nothing more to do here.\");\n",
        "}\n",
        "```"
      ]
    },
    {
      "cell_type": "markdown",
      "metadata": {
        "id": "Rgrjyh-6p6XC"
      },
      "source": [
        "(수정) 오류 수정 "
      ]
    },
    {
      "cell_type": "code",
      "metadata": {
        "id": "L3YQAdijtk7C"
      },
      "source": [
        "x=4\n",
        "if (x == 4):\n",
        "  print (\"x is equal to four\\n\")\n",
        "  print (\"Nothing more to do here.\")\n"
      ],
      "execution_count": null,
      "outputs": []
    },
    {
      "cell_type": "markdown",
      "metadata": {
        "id": "LsoWTrZGIj0a"
      },
      "source": [
        "오류의 원인은 무엇인가\n",
        "\n",
        "> Stack Overflow 에서 문제해결하기"
      ]
    },
    {
      "cell_type": "code",
      "metadata": {
        "id": "FW0OTrbjIUq0"
      },
      "source": [
        "for i in 10:\n",
        "    print (i, end=\" \")"
      ],
      "execution_count": null,
      "outputs": []
    },
    {
      "cell_type": "markdown",
      "metadata": {
        "id": "l6rQY7WtKHaO"
      },
      "source": [
        "## 높은 생산성\n",
        "> 다양한 분야 응용 개발을 위한 패키지 활용\n",
        "* flask 로 웹응용 만들기\n",
        "* requests 로 공공개방데이터 수집하기\n",
        "* 수집자료 matplotlib 으로 시각화하기\n",
        "\n",
        "[텍스트 분석 사례](https://colab.research.google.com/drive/1Ei9i9UZXXn4MuSqiwu6RZp64BLlLsj8m)"
      ]
    },
    {
      "cell_type": "markdown",
      "metadata": {
        "id": "tcwpY9smi-5l"
      },
      "source": [
        "## (실습)코드의 간결함\n",
        "> 정수값을 입력받은 후 해당 정수값의 팩토리얼 값을 출력함"
      ]
    },
    {
      "cell_type": "code",
      "metadata": {
        "id": "C4JV2dKqam8v"
      },
      "source": [
        "a = int (input(\"input number:\"))"
      ],
      "execution_count": null,
      "outputs": []
    },
    {
      "cell_type": "code",
      "metadata": {
        "id": "44tMBWX1azpt"
      },
      "source": [
        "def factorial(n):\n",
        "  if n == 1:\n",
        "    return 1\n",
        "  else:\n",
        "    return n * factorial (n-1)"
      ],
      "execution_count": null,
      "outputs": []
    },
    {
      "cell_type": "code",
      "metadata": {
        "id": "TQs3FKfClyWG"
      },
      "source": [
        "print (factorial(a))"
      ],
      "execution_count": null,
      "outputs": []
    },
    {
      "cell_type": "markdown",
      "metadata": {
        "id": "DsbXCp-Mqonc"
      },
      "source": [
        "### factorial() 함수 작성 방법\n",
        "> 재귀호출과 반복문 사용"
      ]
    },
    {
      "cell_type": "code",
      "metadata": {
        "id": "VGXGZ_JbI3zx"
      },
      "source": [
        "def factorial(x):\n",
        "    if x == 0:\n",
        "        return 1\n",
        "    else:\n",
        "        return x * factorial(x - 1)\n",
        "\n",
        "print (factorial(5))"
      ],
      "execution_count": null,
      "outputs": []
    },
    {
      "cell_type": "code",
      "metadata": {
        "id": "nUWL0Isv6L6R"
      },
      "source": [
        "def factorial(x):\n",
        "    fac = 1\n",
        "    for i in range(1,x+1):\n",
        "        fac *= i\n",
        "    return fac\n",
        "\n",
        "print (factorial(5))"
      ],
      "execution_count": null,
      "outputs": []
    },
    {
      "cell_type": "markdown",
      "metadata": {
        "id": "SpBwsilZHxvp"
      },
      "source": [
        "## Python3 차이점 \n",
        " * long 형 자료형이 int형으로 통일됨\n",
        " * print() 문 차이점 \n"
      ]
    },
    {
      "cell_type": "code",
      "metadata": {
        "id": "3r2_zwMTAYEG"
      },
      "source": [
        " print 'hello Python'"
      ],
      "execution_count": null,
      "outputs": []
    },
    {
      "cell_type": "markdown",
      "metadata": {
        "id": "VI83N7slqrkE"
      },
      "source": [
        "### Colab에서 **파이썬 버젼** 확인하기"
      ]
    },
    {
      "cell_type": "code",
      "metadata": {
        "id": "rRIn3_nbqiHK"
      },
      "source": [
        "!python --version"
      ],
      "execution_count": null,
      "outputs": []
    },
    {
      "cell_type": "code",
      "metadata": {
        "id": "8zz4haUz8YQ4"
      },
      "source": [
        "!ls"
      ],
      "execution_count": null,
      "outputs": []
    },
    {
      "cell_type": "markdown",
      "metadata": {
        "id": "DtKLj_PGkFXj"
      },
      "source": [
        "# 연산 (operation)과 자료(value)"
      ]
    },
    {
      "cell_type": "markdown",
      "metadata": {
        "id": "5R_T2-hizRqr"
      },
      "source": [
        "> 파이썬 대화형 인터프리터(파이썬 셸)를 실행하여 더하기(+) 연산의 결과를 확인할수 있음"
      ]
    },
    {
      "cell_type": "code",
      "metadata": {
        "id": "5I0tR_kOnLDT"
      },
      "source": [
        "3+5"
      ],
      "execution_count": null,
      "outputs": []
    },
    {
      "cell_type": "code",
      "metadata": {
        "id": "24Ldoqm6nQmA"
      },
      "source": [
        "# 문자열 string형 자료\n",
        "\"hello\"\n"
      ],
      "execution_count": null,
      "outputs": []
    },
    {
      "cell_type": "code",
      "metadata": {
        "id": "UfuFj_oI9STl"
      },
      "source": [
        "\"hello\" + \"world\""
      ],
      "execution_count": null,
      "outputs": []
    },
    {
      "cell_type": "code",
      "metadata": {
        "id": "5STVUDwL9iFK"
      },
      "source": [
        "\"hello\" + str(1)"
      ],
      "execution_count": null,
      "outputs": []
    },
    {
      "cell_type": "code",
      "metadata": {
        "id": "rR1fFH7CnUxq"
      },
      "source": [
        "5/3"
      ],
      "execution_count": null,
      "outputs": []
    },
    {
      "cell_type": "markdown",
      "metadata": {
        "id": "zkSu_EN2nT-T"
      },
      "source": [
        "> print() 함수를 사용하여 위의 처리결과에서 소수점이하 2자리까지만 출력하도록 하고자한다  "
      ]
    },
    {
      "cell_type": "code",
      "metadata": {
        "id": "FjaKM4Xknm4j"
      },
      "source": [
        "a = 5/3\n",
        "print(\"%.2f\" % a)"
      ],
      "execution_count": null,
      "outputs": []
    },
    {
      "cell_type": "code",
      "metadata": {
        "id": "3Yxvbeo0rpky"
      },
      "source": [
        "5//3"
      ],
      "execution_count": null,
      "outputs": []
    },
    {
      "cell_type": "code",
      "metadata": {
        "id": "43zov4kTsIB9"
      },
      "source": [
        "num1=3\n",
        "num2=5\n",
        "\n",
        "num2//num1"
      ],
      "execution_count": null,
      "outputs": []
    },
    {
      "cell_type": "code",
      "metadata": {
        "id": "FqeLka_KRw9x"
      },
      "source": [
        " # 함수를 사용한 연산 수행\n",
        " divmod(45,6)"
      ],
      "execution_count": null,
      "outputs": []
    },
    {
      "cell_type": "code",
      "metadata": {
        "id": "4QomMJng4hAZ"
      },
      "source": [
        "round(100.967,2)"
      ],
      "execution_count": null,
      "outputs": []
    },
    {
      "cell_type": "markdown",
      "metadata": {
        "id": "N09VkffIRxei"
      },
      "source": [
        "###  올바른 연산 수행을 위해 연산자 우선순위(precedence)를 고려하여야 함\n",
        "> 변수 사용을 이해한 후 실습을 진행한다\n",
        "* ** 는 지수 연산자를 의미한다\n",
        "\n",
        "```\n",
        "+ -  << * / % // << ~, +, - (단항연산자) << ** <<  (   )\n",
        "```\n"
      ]
    },
    {
      "cell_type": "code",
      "metadata": {
        "id": "Hn5u6YJHTq6i"
      },
      "source": [
        "100 + 200 + 300 /3"
      ],
      "execution_count": null,
      "outputs": []
    },
    {
      "cell_type": "code",
      "metadata": {
        "id": "M0LT5hlTTzYd"
      },
      "source": [
        "(100 + 200 + 300) /3"
      ],
      "execution_count": null,
      "outputs": []
    },
    {
      "cell_type": "markdown",
      "metadata": {
        "id": "ygutFXdYT6oj"
      },
      "source": [
        "* (실습) 연산자 우선순위 이해하기"
      ]
    },
    {
      "cell_type": "code",
      "metadata": {
        "id": "gYwN6bhXRwz_"
      },
      "source": [
        "# 3개의 수를 입력 받아 평균을 구하고자 한다\n",
        "\n",
        "x = 100\n",
        "y = 200\n",
        "z = 300\n",
        "\n",
        "avg = x + y + z /3\n",
        "\n",
        "print (\"평균  = \", avg)"
      ],
      "execution_count": null,
      "outputs": []
    },
    {
      "cell_type": "markdown",
      "metadata": {
        "id": "nv8Rf-daTJMG"
      },
      "source": [
        "* 평균을 구하는 프로그램의 올바르게 수정하여 작성하시오"
      ]
    },
    {
      "cell_type": "markdown",
      "metadata": {
        "id": "l2qluYMlUFBf"
      },
      "source": [
        "(심화실습) 사용자로 부터 입력받은 3개의 수의 평균을 연산자 우선순위를 고려하여 작성하시오\n"
      ]
    },
    {
      "cell_type": "code",
      "metadata": {
        "id": "pz8kdS_WUkCz"
      },
      "source": [
        "x, y, z = map (int, input('세 정수를 입력하시오').split())\n",
        "avg = (x + y + z) /3\n",
        "\n",
        "print (\"평균  = \", avg)"
      ],
      "execution_count": null,
      "outputs": []
    },
    {
      "cell_type": "markdown",
      "source": [
        "Ternary Expression"
      ],
      "metadata": {
        "id": "2oT_araNw6PW"
      }
    },
    {
      "cell_type": "code",
      "source": [
        "number = 1\n",
        "parity = \"even\" if number % 2 == 0 else \"odd\"\n",
        "print(parity)\n",
        "# odd"
      ],
      "metadata": {
        "id": "_1fVm1Cjw3W1"
      },
      "execution_count": null,
      "outputs": []
    },
    {
      "cell_type": "markdown",
      "source": [
        "Ternary Expression (활용)"
      ],
      "metadata": {
        "id": "K7IfyGUfxG-L"
      }
    },
    {
      "cell_type": "code",
      "source": [
        "def add(a,b):\n",
        "    return a+b\n",
        "\n",
        "def multiply(a,b):\n",
        "    return a * b\n",
        "\n",
        "a, b = 3, 5\n",
        "res = (multiply if a > b else add) (a,b)\n",
        "print(res)\n",
        "# 8"
      ],
      "metadata": {
        "id": "WNfLwntOxFdW"
      },
      "execution_count": null,
      "outputs": []
    },
    {
      "cell_type": "markdown",
      "metadata": {
        "id": "0fB-iwclr7FI"
      },
      "source": [
        "# 변수\n",
        "* 변수(Variable)는 값(자료값)을 **저장하는 공간**임\n",
        "* 변수를 만든다는 것은 숫자나 문자열과 같은 데이터를 저장할 수 있는 공간을 마련하는 것임\n",
        "* 변수 명(식별자)는 자료형을 지정하지 않고 값을 변수에 저장할 수 있음 (by 배정문) \n",
        "* C 언어와 동일하게 식별자로 변수명을 사용함\n",
        "\n",
        "\n",
        "> id(x) 는 변수 x 에 저장된 참조값(주소)를 얻기 위해 사용함 "
      ]
    },
    {
      "cell_type": "code",
      "metadata": {
        "id": "Ml2xD1L3uy8n"
      },
      "source": [
        "# = 는 같다는 의미가 아닌  배정 연산자로서 = 의 오른쪽의 값을 왼쪽 변수에 저장하는 것을 의미함 \n",
        "x=100"
      ],
      "execution_count": null,
      "outputs": []
    },
    {
      "cell_type": "code",
      "metadata": {
        "id": "kbwQGoxFtiwZ"
      },
      "source": [
        "id(x)"
      ],
      "execution_count": null,
      "outputs": []
    },
    {
      "cell_type": "code",
      "metadata": {
        "id": "rnIG5nGcuuE1"
      },
      "source": [
        "y=100"
      ],
      "execution_count": null,
      "outputs": []
    },
    {
      "cell_type": "code",
      "metadata": {
        "id": "xNxAj74Aux3a"
      },
      "source": [
        "id(y)"
      ],
      "execution_count": null,
      "outputs": []
    },
    {
      "cell_type": "code",
      "metadata": {
        "id": "9yXa3gxVtoUU"
      },
      "source": [
        "x =1000"
      ],
      "execution_count": null,
      "outputs": []
    },
    {
      "cell_type": "code",
      "metadata": {
        "id": "JQvjjqDytsed"
      },
      "source": [
        "id(x)"
      ],
      "execution_count": null,
      "outputs": []
    },
    {
      "cell_type": "code",
      "source": [
        "del x"
      ],
      "metadata": {
        "id": "TAfJd9wBUNd7"
      },
      "execution_count": null,
      "outputs": []
    },
    {
      "cell_type": "code",
      "source": [
        "print (x)"
      ],
      "metadata": {
        "id": "wau8FB8UUPwd"
      },
      "execution_count": null,
      "outputs": []
    },
    {
      "cell_type": "code",
      "source": [
        "x =3"
      ],
      "metadata": {
        "id": "gitTWdGlUZP6"
      },
      "execution_count": null,
      "outputs": []
    },
    {
      "cell_type": "code",
      "source": [
        "%whos"
      ],
      "metadata": {
        "id": "McJQv13uUbL6"
      },
      "execution_count": null,
      "outputs": []
    },
    {
      "cell_type": "markdown",
      "metadata": {
        "id": "T54h2Hf_xWP8"
      },
      "source": [
        "x, y = 100, 200과 같이 한 줄에 여러 개의 변수를 선언하고 이 변수에 값을 동시에 할당할 수도 있음"
      ]
    },
    {
      "cell_type": "code",
      "metadata": {
        "id": "DqjH7iJJxVaE"
      },
      "source": [
        "x, y = 100, 200"
      ],
      "execution_count": null,
      "outputs": []
    },
    {
      "cell_type": "code",
      "metadata": {
        "id": "X0H1_yzJ7uoJ"
      },
      "source": [
        "# x와 y의 을 교환\n",
        "x,y = y, x"
      ],
      "execution_count": null,
      "outputs": []
    },
    {
      "cell_type": "code",
      "source": [
        "%whos"
      ],
      "metadata": {
        "id": "Pwfmx7CpVdK4"
      },
      "execution_count": null,
      "outputs": []
    },
    {
      "cell_type": "code",
      "metadata": {
        "id": "zhBs_p6W7527"
      },
      "source": [
        "print (x,y)"
      ],
      "execution_count": null,
      "outputs": []
    },
    {
      "cell_type": "code",
      "metadata": {
        "id": "0iWALuAIxi6Y"
      },
      "source": [
        "result = x + y\n",
        "print (result)"
      ],
      "execution_count": null,
      "outputs": []
    },
    {
      "cell_type": "markdown",
      "metadata": {
        "id": "-QeVa9hLtATI"
      },
      "source": [
        "## 변수 이름 규칙\n",
        "* 영문 문자와 숫자를 사용할 수 있음\n",
        "* _(밑줄 문자)로 시작할 수 있음\n",
        "* 대소문자를 구분함 ( 변수 X 와 변수 x 는 다른 변수임)\n",
        "* 문자부터 시작해야 하며 숫자부터 시작하면 안됨\n",
        "* 특수 문자(+, -, *, /, $, @, &, % 등)는 사용할 수 없음\n",
        "* 파이썬의 키워드(if, for, while, and, or 등)는 사용할 수 없음\n",
        "\n",
        "> 좋은 변수 이름은 전체 프로그램을 읽기 쉽게 만듬\n"
      ]
    },
    {
      "cell_type": "markdown",
      "metadata": {
        "id": "b9rUnDNJGn1S"
      },
      "source": [
        "* 변수명은 소문자로 복합단어로 구성하는 경우 \"_\" 를 붙인다\n",
        "* 클래스명 대문자로 시작한다\n",
        "* 함수명 변수명과 동일한 방법으로 작성한다"
      ]
    },
    {
      "cell_type": "code",
      "metadata": {
        "id": "zUWNgB1bvkSG"
      },
      "source": [
        "12month = '봄' \n",
        "month_12\n",
        "# PEP8"
      ],
      "execution_count": null,
      "outputs": []
    },
    {
      "cell_type": "markdown",
      "metadata": {
        "id": "-EvtCnu1siH8"
      },
      "source": [
        "## 객체 \n",
        "\n",
        "* 객체는 변수 형태의 속성(attribute)과 함수 형태의 메소드(method)를 가진것\n",
        "* 개별 객체는 자기의 속성(내부 데이터)와 메소드(내부연산)을 가짐\n",
        "* 파이썬에서는 모든 변수와 자료형이 객체로 되어 있음\n",
        "\n",
        "\n",
        "\n",
        "* 100이라는 값이 메모리에 할당되는데, 이를 객체(object)라고 부름\n",
        "* 변수 x는 100이라는 값의 객체를 가리킴\n",
        "```\n",
        "id(x)\n",
        "```"
      ]
    },
    {
      "cell_type": "markdown",
      "metadata": {
        "id": "QnussHvBTGqT"
      },
      "source": [
        "## 변수사용"
      ]
    },
    {
      "cell_type": "code",
      "metadata": {
        "id": "g803nucZK3UM"
      },
      "source": [
        "name = \"Bob\" \n",
        "age = name\n",
        "print (type(age))\n",
        "age = 15 \n",
        "age += 1 # increment age by 1 \n",
        "print(age)\n",
        "print (type(age))"
      ],
      "execution_count": null,
      "outputs": []
    },
    {
      "cell_type": "code",
      "metadata": {
        "id": "WFOBR-gAHdv-"
      },
      "source": [
        "del foo\n",
        "print (foo)"
      ],
      "execution_count": null,
      "outputs": []
    },
    {
      "cell_type": "code",
      "metadata": {
        "id": "qYa7SORwOvDv"
      },
      "source": [
        "a = b = c = 1"
      ],
      "execution_count": null,
      "outputs": []
    },
    {
      "cell_type": "code",
      "metadata": {
        "id": "czY0fZgzaWkk"
      },
      "source": [
        "a"
      ],
      "execution_count": null,
      "outputs": []
    },
    {
      "cell_type": "code",
      "metadata": {
        "id": "scj-SFU5aZIs"
      },
      "source": [
        "b"
      ],
      "execution_count": null,
      "outputs": []
    },
    {
      "cell_type": "code",
      "metadata": {
        "id": "PB6U8dlPP1N1"
      },
      "source": [
        "a, b = 3, 4\n",
        "print(a,b)"
      ],
      "execution_count": null,
      "outputs": []
    },
    {
      "cell_type": "code",
      "metadata": {
        "id": "FC1-MuH5ah_N"
      },
      "source": [
        "a, b = b, a"
      ],
      "execution_count": null,
      "outputs": []
    },
    {
      "cell_type": "markdown",
      "metadata": {
        "id": "ul8Rx0a6LDZd"
      },
      "source": [
        "# 자료형\n",
        "\n",
        "* 숫자형(Number)\n",
        "> 정수형, 실수형, 복소수\n",
        "\n",
        "* 문자열(String)\n",
        "> 텍스트 데이터를 문자열이라고 하고 문자, 단어 등으로 구성된 문자들의 집합\n",
        "\n",
        "* 불(bool)\n",
        ">  참(True)과 거짓(False)을 나타내는 자료형\n",
        "\n",
        "* 리스트(List)\n",
        ">  값의 생성, 삭제, 수정이 가능한 가변 배열\n",
        "\n",
        "*  튜플(Tuple)\n",
        ">  값을 변경할 수 없는 리스트\n",
        "\n",
        "*  딕셔너리(Dictionary)\n",
        "> 키를 사용하여 값을 접근하는 연관 배열(Associative array)\n",
        "\n",
        "*  집합(Set)\n",
        "> 중복을 허용하지 않고 순서가 없는 리스트\n",
        "\n",
        "\n",
        "\\* (참고) https://www.w3schools.com/python/python_datatypes.asp"
      ]
    },
    {
      "cell_type": "code",
      "metadata": {
        "id": "MJAJCiaILI99"
      },
      "source": [
        "# 숫자형 ( 8진수와 16진수)\n",
        "\n",
        "x = 1 # int\n",
        "y = 2.8 # float\n",
        "z = 1j # complex\n",
        "print(type(x))\n",
        "print(type(y))\n",
        "print(type(z))"
      ],
      "execution_count": null,
      "outputs": []
    },
    {
      "cell_type": "code",
      "metadata": {
        "id": "_hXJD9rF40H0"
      },
      "source": [
        "# 10진수 정수값은 2진수 문자열로 변환\n",
        "bin(999)"
      ],
      "execution_count": null,
      "outputs": []
    },
    {
      "cell_type": "markdown",
      "metadata": {
        "id": "IsC9CXmQ5ZQ0"
      },
      "source": [
        "(심화) 진법변환 함수"
      ]
    },
    {
      "cell_type": "code",
      "metadata": {
        "id": "qEzmoY1x5Fno"
      },
      "source": [
        "def convert_to_decimal(number, base):\n",
        "    multiplier, result = 1, 0\n",
        "    while number > 0:\n",
        "       result += number%10*multiplier\n",
        "       multiplier *= base\n",
        "       number = number//10\n",
        "    return result\n",
        "\n",
        "convert_to_decimal(1111100111, 2)"
      ],
      "execution_count": null,
      "outputs": []
    },
    {
      "cell_type": "code",
      "metadata": {
        "id": "GMoDw5mj2G21"
      },
      "source": [
        " (10000000000000000).bit_length()"
      ],
      "execution_count": null,
      "outputs": []
    },
    {
      "cell_type": "code",
      "metadata": {
        "id": "7ZX0UwV-PWP7"
      },
      "source": [
        "# 문자열 \n",
        "\n",
        "mystring = 'hello'\n",
        "print(mystring)\n",
        "mystring = \"hello\"\n",
        "print(mystring)"
      ],
      "execution_count": null,
      "outputs": []
    },
    {
      "cell_type": "code",
      "metadata": {
        "id": "fMJTaex4JGPu"
      },
      "source": [
        "mystring = ''' \n",
        "hello.  world\n",
        "'''\n",
        "mystring"
      ],
      "execution_count": null,
      "outputs": []
    },
    {
      "cell_type": "markdown",
      "metadata": {
        "id": "hGKmJvIMoX2c"
      },
      "source": [
        "(문제) 문자열 a가 아래와 같이 정의되어있다. 다음 실행 결과로 에러가 발생하는 것을 찾으시오\n",
        "\n",
        "a='I like Python'\n",
        "\n",
        "```\n",
        "① print(a)                      ② print(I like \"Python\") \n",
        "③ print('I like \"Python\"')      ④ print(\"a\")\n",
        "\n",
        "```"
      ]
    },
    {
      "cell_type": "markdown",
      "metadata": {
        "id": "15OVAzRvor4p"
      },
      "source": [
        "인용부호( ' 또는 ” )를 출력하는 방법으로 잘못된 것을 찾으시오.\n",
        "```\n",
        " ① print('Python-\"8\"')           ② print('Python-\\'8\\'')\n",
        " ③ print(\"Python-\\'8\\'\")         ④ print(\"Python-\"8\"\")\n",
        "\n",
        "```"
      ]
    },
    {
      "cell_type": "markdown",
      "metadata": {
        "id": "askVff2gzKRY"
      },
      "source": [
        "## (실습) 피자(원) 넓이 구하기"
      ]
    },
    {
      "cell_type": "code",
      "metadata": {
        "id": "yZh-emuUy_oI"
      },
      "source": [
        "# 원의 넓이 PI * r ** 2 를 구하기 위해 필요한 변수를 정하고  코드를 작성한다\n",
        "radius = input (\"read radius\")\n",
        "print (type(radius))\n",
        "\n",
        "radius = float(radius)\n",
        "# 상수값은 사용하는 변수 전체 대문자로 변수명을 지정한다\n",
        "PI = 3.1415\n",
        "\n",
        "# area = PI * radius * radius\n",
        "area = PI * radius ** 2\n",
        "\n",
        "print (area)\n"
      ],
      "execution_count": null,
      "outputs": []
    },
    {
      "cell_type": "markdown",
      "metadata": {
        "id": "ZJpcEz6-7SGM"
      },
      "source": [
        "## 형변환 "
      ]
    },
    {
      "cell_type": "code",
      "metadata": {
        "id": "WQVLzY_l9Tod"
      },
      "source": [
        "x = \"10.5\"\n",
        "x = int (x)\n",
        "x"
      ],
      "execution_count": null,
      "outputs": []
    },
    {
      "cell_type": "code",
      "metadata": {
        "id": "-O2weEB67Pia"
      },
      "source": [
        "x = int(1)   # x will be 1\n",
        "y = int(2.8) # y will be 2\n",
        "z = int(\"3\") # z will be 3\n",
        "type (z)\n",
        "print (y)\n",
        "print (z)"
      ],
      "execution_count": null,
      "outputs": []
    },
    {
      "cell_type": "code",
      "metadata": {
        "id": "6vkj1TEz7vV0"
      },
      "source": [
        "x = float(1)     # x will be 1.0\n",
        "y = float(2.8)   # y will be 2.8\n",
        "x"
      ],
      "execution_count": null,
      "outputs": []
    },
    {
      "cell_type": "code",
      "metadata": {
        "id": "aIN82DTX72_2"
      },
      "source": [
        "y = str(2)    # y will be '2'\n",
        "z = str(3.0)  # z will be '3.0'\n",
        "print(z)"
      ],
      "execution_count": null,
      "outputs": []
    },
    {
      "cell_type": "code",
      "metadata": {
        "id": "sl3knG4L3Ttq"
      },
      "source": [
        "s = \"11\"\n",
        "print(type(s))\n",
        "d = int(s)\n",
        "d"
      ],
      "execution_count": null,
      "outputs": []
    },
    {
      "cell_type": "code",
      "metadata": {
        "id": "k2U3Xmvf3dFP"
      },
      "source": [
        "# 자료변환 함수 int 의 2번쨰 인수는 base를 의미함\n",
        "d = int (s,2)\n",
        "d"
      ],
      "execution_count": null,
      "outputs": []
    },
    {
      "cell_type": "markdown",
      "metadata": {
        "id": "wJAZlzLI3-BM"
      },
      "source": [
        "다음의 자료변환 함수 int()의 오류 원인을 찾아본다"
      ]
    },
    {
      "cell_type": "code",
      "metadata": {
        "id": "W-3THwLZ33Pj"
      },
      "source": [
        "s ='1234567A'\n",
        "d = int (s,16)\n",
        "d"
      ],
      "execution_count": null,
      "outputs": []
    },
    {
      "cell_type": "code",
      "metadata": {
        "id": "JUmvM-D0FqYC"
      },
      "source": [],
      "execution_count": null,
      "outputs": []
    },
    {
      "cell_type": "code",
      "metadata": {
        "id": "wWPEA_NvPNs4"
      },
      "source": [
        "myfloat = 7.0\n",
        "print(myfloat)\n",
        "myfloat = float(7)\n",
        "print(myfloat)"
      ],
      "execution_count": null,
      "outputs": []
    },
    {
      "cell_type": "code",
      "metadata": {
        "id": "iYrsbr49Pc-x"
      },
      "source": [
        "# 오류 원인 찾기\n",
        "mystring = 'Hello Python\\t world\"\n",
        "print(mystring)"
      ],
      "execution_count": null,
      "outputs": []
    },
    {
      "cell_type": "code",
      "metadata": {
        "id": "UB_EVNEmRTxw"
      },
      "source": [
        "type(\"I am a string.\")"
      ],
      "execution_count": null,
      "outputs": []
    },
    {
      "cell_type": "markdown",
      "metadata": {
        "id": "ytKArsd2hvR5"
      },
      "source": [
        "### (실습) 기초 프로그램 작성 1\n",
        "* 직각삼각형의 빗변의 길이 구하기 "
      ]
    },
    {
      "cell_type": "code",
      "metadata": {
        "id": "KTknK_MXcoy_"
      },
      "source": [
        "bottom =  float(input('직각삼각형의 밑변의 길이를 입력하시오: '))"
      ],
      "execution_count": null,
      "outputs": []
    },
    {
      "cell_type": "code",
      "metadata": {
        "id": "YAz-VRj8h1iG"
      },
      "source": [
        "height =  float(input('직각삼각형의  높이를 입력하시오: '))"
      ],
      "execution_count": null,
      "outputs": []
    },
    {
      "cell_type": "code",
      "metadata": {
        "id": "HEt3sxV8j6bU"
      },
      "source": [
        "hypotenuse = (bottom ** 2 + height ** 2) ** 0.5\n",
        "print (\"빗변은\", hypotenuse, \"입니다\")"
      ],
      "execution_count": null,
      "outputs": []
    },
    {
      "cell_type": "code",
      "metadata": {
        "id": "F0rbi4WtkExw"
      },
      "source": [
        "from math import sqrt\n",
        "\n",
        "bottom =  float(input('직각삼각형의 밑변의 길이를 입력하시오: '))\n",
        "height =  float(input('직각삼각형의  높이를 입력하시오: '))\n",
        "hypotenuse = sqrt((bottom ** 2 + height ** 2))\n",
        "print (\"빗변은\", hypotenuse, \"입니다\")"
      ],
      "execution_count": null,
      "outputs": []
    },
    {
      "cell_type": "markdown",
      "metadata": {
        "id": "pROcdULwkjCC"
      },
      "source": [
        "### (실습) 기초 프로그램 작성 2\n",
        "* 작업시간과 시급를 입력으로 받아 급여지급를 출력하고자 한다\n",
        "* hour     rate 를 변수로 사용한다"
      ]
    },
    {
      "cell_type": "code",
      "metadata": {
        "id": "qIAwVQm35VE-"
      },
      "source": [
        "hour = input(\"작업시간 \")\n",
        "rate = input (\"시급 \")\n",
        "\n",
        "hour = int(hour)\n",
        "rate = int(rate)\n",
        "pay = hour * rate\n",
        "print (\"급여는 \", pay)"
      ],
      "execution_count": null,
      "outputs": []
    },
    {
      "cell_type": "markdown",
      "metadata": {
        "id": "BaT35EX3WIlP"
      },
      "source": [
        "### (실습) 기초 프로그램 작성 3\n",
        "* 화씨 온도를 섭씨온도로 변환하기"
      ]
    },
    {
      "cell_type": "code",
      "metadata": {
        "id": "PwnvjuRLWIlP"
      },
      "source": [
        "fahrenheit = int(input(\"화씨온도: \"))\n",
        "celsius =  (fahrenheit - 32) * (5/9)\n",
        "print (\"섭씨온도 : \", round(celsius,2))"
      ],
      "execution_count": null,
      "outputs": []
    },
    {
      "cell_type": "code",
      "metadata": {
        "id": "2lbnkRKyCJt7"
      },
      "source": [
        "# 절대 온도를 섭씨온도로 변환하기\n",
        "kelvin = int(input(\"절대온도: \"))\n",
        "celsius =   kelvin - 273\n",
        "print (\"섭씨온도 : \", round(celsius,2))"
      ],
      "execution_count": null,
      "outputs": []
    },
    {
      "cell_type": "markdown",
      "metadata": {
        "id": "IDCq3kbKSPWJ"
      },
      "source": [
        "# 문자열 \n",
        "* 문자열의 인텍스를 통해 구성 문자를 지정할 수 있으며 인텍스의 시작은 0이며 마지막을 문자열 길이 -1 임\n",
        "\n",
        "* 인덱스의 범위를 지정하여 내부 문자열의 일부를 지정할 수 있으며 :의 왼쪽 값은 범위 시작, 오른쪽은 범위의 끝 인텍스(**자신을 포함하지 않음**)를 나타냄"
      ]
    },
    {
      "cell_type": "markdown",
      "metadata": {
        "id": "eRJLy_WaAfeH"
      },
      "source": [
        "* 문자열 생성\n",
        "> 문자열은 문자 리스트임"
      ]
    },
    {
      "cell_type": "code",
      "metadata": {
        "id": "cTBMsJOQAXoX"
      },
      "source": [
        "string = \"Hello, my name is 윤희 :)\""
      ],
      "execution_count": null,
      "outputs": []
    },
    {
      "cell_type": "code",
      "metadata": {
        "id": "deR4LtKDAhjn"
      },
      "source": [
        "type(string)"
      ],
      "execution_count": null,
      "outputs": []
    },
    {
      "cell_type": "markdown",
      "metadata": {
        "id": "pBAGdzuHluwc"
      },
      "source": [
        "* 문자열은 문자 집합으로 문자열의 구성내용을 접근하기 위해서는 인덱스(index)를 사용한다\n",
        ">다음 문장의 결과를 예상하시오. "
      ]
    },
    {
      "cell_type": "code",
      "metadata": {
        "id": "KKXrC171Aojp"
      },
      "source": [
        "print(string[1])\n",
        "print(string[0])\n",
        "print(string[-1])\n"
      ],
      "execution_count": null,
      "outputs": []
    },
    {
      "cell_type": "markdown",
      "metadata": {
        "id": "3KIysbHhBZeN"
      },
      "source": [
        "문자열의 구성 문자를 출력함"
      ]
    },
    {
      "cell_type": "code",
      "metadata": {
        "id": "WZLCq8trraQa"
      },
      "source": [
        "'I'"
      ],
      "execution_count": null,
      "outputs": []
    },
    {
      "cell_type": "code",
      "metadata": {
        "id": "3hTMzL0ArVxO"
      },
      "source": [
        "'I love Python'"
      ],
      "execution_count": null,
      "outputs": []
    },
    {
      "cell_type": "code",
      "metadata": {
        "id": "Ju9iEVWjrfgI"
      },
      "source": [
        "\"I 'm a Python programmer\"  #문자열에 '가 포함되는 경우 "
      ],
      "execution_count": null,
      "outputs": []
    },
    {
      "cell_type": "code",
      "metadata": {
        "id": "5hatmFe7qsux"
      },
      "source": [
        "'2.3' + 4 # 오류 원인을 찾아본다"
      ],
      "execution_count": null,
      "outputs": []
    },
    {
      "cell_type": "code",
      "metadata": {
        "id": "7hhxgNXtSI-V"
      },
      "source": [
        "mystring = \"Hello Python world\""
      ],
      "execution_count": null,
      "outputs": []
    },
    {
      "cell_type": "code",
      "metadata": {
        "id": "QyYRoVqkSx72"
      },
      "source": [
        "mystring[0]"
      ],
      "execution_count": null,
      "outputs": []
    },
    {
      "cell_type": "code",
      "metadata": {
        "id": "uU0N0HDWcoKF"
      },
      "source": [
        "print(mystring[-1])\n",
        "print(mystring[len(mystring)-1])"
      ],
      "execution_count": null,
      "outputs": []
    },
    {
      "cell_type": "code",
      "metadata": {
        "id": "mqSgtaMsHMka"
      },
      "source": [
        "for i in mystring:\n",
        "    print (i, end =\",\")"
      ],
      "execution_count": null,
      "outputs": []
    },
    {
      "cell_type": "markdown",
      "metadata": {
        "id": "zEtgCIOFo_Vb"
      },
      "source": [
        "### 문자열 슬라이싱 \n",
        "> 문자열 범위 나누기 \n",
        "* [시작위치:] 시작위치부터 끝까지 출력\n",
        "* [:끝위치] 처음부터 (끝위치-1)까지 출력\n",
        "* [:] 문자열  전체 출력\n",
        "* [-n:] 끝에서 n문자 출력\n",
        "* [:-n] 처음에서 (-n-1)까지 출력\n",
        "\n",
        "\n",
        "다음의 문자열 a에 대해 슬라이싱을 적용하시오.\n",
        "\n",
        "```\n",
        "a='Hello Python!'\n",
        "\n",
        "a[6:]  \n",
        "a[:5]\n",
        "a[:]\n",
        "a[-7:]\n",
        "a[:-7] \n",
        "\n",
        "```"
      ]
    },
    {
      "cell_type": "code",
      "metadata": {
        "id": "Rv7JVujxTh9h"
      },
      "source": [
        "mystring[1:4]"
      ],
      "execution_count": null,
      "outputs": []
    },
    {
      "cell_type": "code",
      "metadata": {
        "id": "3dzsJu1SHvn3"
      },
      "source": [
        "mystring[:]"
      ],
      "execution_count": null,
      "outputs": []
    },
    {
      "cell_type": "code",
      "metadata": {
        "id": "pKV2viuRH0It"
      },
      "source": [
        "mystring"
      ],
      "execution_count": null,
      "outputs": []
    },
    {
      "cell_type": "code",
      "metadata": {
        "id": "Hvb0IdGZIIsn"
      },
      "source": [
        "yourstring = mystring"
      ],
      "execution_count": null,
      "outputs": []
    },
    {
      "cell_type": "code",
      "metadata": {
        "id": "hdmIddPmH1cR"
      },
      "source": [
        "print (id(yourstring))\n",
        "print (id(mystring))"
      ],
      "execution_count": null,
      "outputs": []
    },
    {
      "cell_type": "code",
      "metadata": {
        "id": "bIecpWHRIY6K"
      },
      "source": [
        "yourstring = mystring +\" \""
      ],
      "execution_count": null,
      "outputs": []
    },
    {
      "cell_type": "code",
      "metadata": {
        "id": "omUAgekTIeGY"
      },
      "source": [
        "print (id(yourstring))\n",
        "print (id(mystring))"
      ],
      "execution_count": null,
      "outputs": []
    },
    {
      "cell_type": "code",
      "metadata": {
        "id": "j81XBq7sXS9K"
      },
      "source": [
        "b=\"Hello, World!\"  \n",
        "print(b[2:5]) "
      ],
      "execution_count": null,
      "outputs": []
    },
    {
      "cell_type": "markdown",
      "metadata": {
        "id": "R2uPJZCO-5_G"
      },
      "source": [
        "* 문자열은 내부적으로 상수로 취급되어 수정이 불가능"
      ]
    },
    {
      "cell_type": "code",
      "metadata": {
        "id": "Nz35mPf2_BPb"
      },
      "source": [
        "message = \"Welcome to Python\"\n",
        "message[0] = 'p'\n",
        "print(message)"
      ],
      "execution_count": null,
      "outputs": []
    },
    {
      "cell_type": "markdown",
      "metadata": {
        "id": "qMPQ4uyHP-iS"
      },
      "source": [
        "* 숫자형과 문자열 결합 연산"
      ]
    },
    {
      "cell_type": "code",
      "metadata": {
        "id": "HgCZtqH9P5l2"
      },
      "source": [
        "one = 1\n",
        "two = 2\n",
        "hello = \"hello\"\n",
        "\n",
        "print(str(one) + str(two) + hello)"
      ],
      "execution_count": null,
      "outputs": []
    },
    {
      "cell_type": "markdown",
      "metadata": {
        "id": "mAAcrRrcAMXp"
      },
      "source": [
        "### strip()\n",
        "* 문자열의 공백문자를 제거하기 위해 사용함 "
      ]
    },
    {
      "cell_type": "code",
      "metadata": {
        "id": "NZqc2C59ASUS"
      },
      "source": [
        " h=\"    Hello, World!\"\n",
        "# 공백문자 제거  \n",
        "print(f\"h={h.strip()}\")"
      ],
      "execution_count": null,
      "outputs": []
    },
    {
      "cell_type": "markdown",
      "metadata": {
        "id": "BxI1u09x0JnE"
      },
      "source": [
        "> 문자열의 시작과 뒤부분에 공백문자 제거"
      ]
    },
    {
      "cell_type": "code",
      "metadata": {
        "id": "fkPmAemuBtTV"
      },
      "source": [
        "h = \"    This string starts and ends with spaaaace               \""
      ],
      "execution_count": null,
      "outputs": []
    },
    {
      "cell_type": "code",
      "metadata": {
        "id": "abypWQwgB0I3"
      },
      "source": [
        "print(h.strip())"
      ],
      "execution_count": null,
      "outputs": []
    },
    {
      "cell_type": "code",
      "metadata": {
        "id": "QF0UHvGBN5me"
      },
      "source": [
        "h"
      ],
      "execution_count": null,
      "outputs": []
    },
    {
      "cell_type": "code",
      "metadata": {
        "id": "yoi5ITI5iD-o"
      },
      "source": [
        "h= h.strip()\n",
        "h"
      ],
      "execution_count": null,
      "outputs": []
    },
    {
      "cell_type": "code",
      "metadata": {
        "id": "9KjNQxMdzWmP"
      },
      "source": [
        "h = \"    This string starts and ends with spaaaace               \""
      ],
      "execution_count": null,
      "outputs": []
    },
    {
      "cell_type": "code",
      "metadata": {
        "id": "8fCdrkrPzZNT"
      },
      "source": [
        "print(h.rstrip())"
      ],
      "execution_count": null,
      "outputs": []
    },
    {
      "cell_type": "code",
      "metadata": {
        "id": "YLVgiOgezevS"
      },
      "source": [
        "h = \"    This string starts and ends with spaaaace               \""
      ],
      "execution_count": null,
      "outputs": []
    },
    {
      "cell_type": "code",
      "metadata": {
        "id": "wn89LC6zzf3q"
      },
      "source": [
        "print(h.lstrip())"
      ],
      "execution_count": null,
      "outputs": []
    },
    {
      "cell_type": "markdown",
      "metadata": {
        "id": "6SUbKOtlK2HG"
      },
      "source": [
        "### replace()"
      ]
    },
    {
      "cell_type": "code",
      "metadata": {
        "id": "QuZvfbtmB_1s"
      },
      "source": [
        "a = \"I love Data Science\"\n",
        "a = a.replace(\"Data\", \"Computer\")"
      ],
      "execution_count": null,
      "outputs": []
    },
    {
      "cell_type": "code",
      "metadata": {
        "id": "EnSEjhV5OmuA"
      },
      "source": [
        "a"
      ],
      "execution_count": null,
      "outputs": []
    },
    {
      "cell_type": "markdown",
      "metadata": {
        "id": "bmoFn5TaLBCd"
      },
      "source": [
        "### isalpha()"
      ]
    },
    {
      "cell_type": "code",
      "metadata": {
        "id": "v6Q0vuqxCM4T"
      },
      "source": [
        "numbers = \"2\"\n",
        "nonumbs = \"two\"\n",
        "print(numbers.isalpha())\n",
        "print(nonumbs.isalpha())\n",
        "print(numbers.isalnum())\n",
        "print(nonumbs.isalnum())"
      ],
      "execution_count": null,
      "outputs": []
    },
    {
      "cell_type": "markdown",
      "metadata": {
        "id": "14A4BowJC_6g"
      },
      "source": [
        "### rfind() \n",
        "* 문자열의 위치 인덱스를 반환함 \n",
        "> find는 앞에서 부터 찾고, rfind는 뒤에서 부터 찾음"
      ]
    },
    {
      "cell_type": "code",
      "metadata": {
        "id": "dN-U0FE5ChhS"
      },
      "source": [
        "txt = \"I like fish. I like tacos. So I like fish tacos!\"\n",
        "x = txt.rfind(\"fish\")\n",
        "z = txt.rfind(\"!\")\n",
        "print(x, z)\n",
        "txt[x:z+1]"
      ],
      "execution_count": null,
      "outputs": []
    },
    {
      "cell_type": "markdown",
      "metadata": {
        "id": "gZagbkiRmfYW"
      },
      "source": [
        "### len()\n",
        "> 리스트 또는 문자열의 길이를 얻음"
      ]
    },
    {
      "cell_type": "code",
      "metadata": {
        "id": "XTuV4zjimdMF"
      },
      "source": [
        "name = \"Jamie\" \n",
        "print(len(name)) # 5 "
      ],
      "execution_count": null,
      "outputs": []
    },
    {
      "cell_type": "code",
      "metadata": {
        "id": "afF2lm1gmlA4"
      },
      "source": [
        "names = [\"Bob\", \"Jane\", \"James\", 0] \n",
        "print(len(names)) # 4"
      ],
      "execution_count": null,
      "outputs": []
    },
    {
      "cell_type": "code",
      "metadata": {
        "id": "zGLz1prH8Z-6"
      },
      "source": [
        "a = \"Hello, World!\"\n",
        "print(len(a))"
      ],
      "execution_count": null,
      "outputs": []
    },
    {
      "cell_type": "code",
      "metadata": {
        "id": "UTOdsjk9RdTJ"
      },
      "source": [
        "a[len(a)-1]"
      ],
      "execution_count": null,
      "outputs": []
    },
    {
      "cell_type": "markdown",
      "metadata": {
        "id": "oIo1Mjloc1YL"
      },
      "source": [
        "### join()"
      ]
    },
    {
      "cell_type": "code",
      "metadata": {
        "id": "ODsNacAEcqwE"
      },
      "source": [
        "print(\",\".join('abcd'))\n",
        "print(\",\".join(['a', 'b', 'c', 'd']))\n"
      ],
      "execution_count": null,
      "outputs": []
    },
    {
      "cell_type": "markdown",
      "metadata": {
        "id": "CwoYaDfWurJa"
      },
      "source": [
        "### split()\n",
        "*  문자열을 줄 단위로 분리하며, 분리되어진 값은 리스트의 원소로서 구성됨"
      ]
    },
    {
      "cell_type": "code",
      "metadata": {
        "id": "fiz8MkNeuSeU"
      },
      "source": [
        "a='Hello\\nPython\\n!'  \n",
        "print(a)\n",
        "a.split(\"\\n\")"
      ],
      "execution_count": null,
      "outputs": []
    },
    {
      "cell_type": "markdown",
      "metadata": {
        "id": "agdXD0yU8lmc"
      },
      "source": [
        "* split()를 사용하여 문자열을 “,\" 로 분리한 후 리스트를 출력"
      ]
    },
    {
      "cell_type": "code",
      "metadata": {
        "id": "lARe8wOr8rul"
      },
      "source": [
        "a = \"Hello, World!\"\n",
        "print(a.split(\",\")) # returns ['Hello', ' World!']"
      ],
      "execution_count": null,
      "outputs": []
    },
    {
      "cell_type": "code",
      "metadata": {
        "id": "ebIw0mnXfvyi"
      },
      "source": [
        "a = \"Life is too short\"\n",
        "a.split()"
      ],
      "execution_count": null,
      "outputs": []
    },
    {
      "cell_type": "code",
      "metadata": {
        "id": "AO2APWw_f51P"
      },
      "source": [
        "a = \"Art is long. Life is too short\"\n",
        "a.split('.')"
      ],
      "execution_count": null,
      "outputs": []
    },
    {
      "cell_type": "markdown",
      "metadata": {
        "id": "77_jv1zIACbj"
      },
      "source": [
        "### count() \n",
        "* str.count(sub[, start[, end]])\n",
        "* [start, end] 범위 안에서 sub가 몇 번 있는지 센 결과를 return 함\n",
        "*  특정문자의 갯수를 구함"
      ]
    },
    {
      "cell_type": "code",
      "metadata": {
        "id": "Wm0sRNh0Gyut"
      },
      "source": [
        "m = \"kkkkaa\"\n",
        "\n",
        "print (\"m.count('kk'):\\t\", m.count(\"kk\"))\n",
        "print (\"m.count('a'):\\t\", m.count(\"a\"))\n",
        "print (\"m.count('a', 0, 2):\", m.count(\"a\", 0, 2))"
      ],
      "execution_count": null,
      "outputs": []
    },
    {
      "cell_type": "markdown",
      "metadata": {
        "id": "Km-BLVF2D4yX"
      },
      "source": [
        "### format ()\n",
        "* 다양한 방식의 문자열 포맷팅을 지원"
      ]
    },
    {
      "cell_type": "code",
      "metadata": {
        "id": "WEw6Kw2nECXx"
      },
      "source": [
        "s = \"Name: {0}, Age: {1}\".format(\"홍길동\", 30)\n",
        "print(s)  #출력: Name: 홍길동, Age: 30"
      ],
      "execution_count": null,
      "outputs": []
    },
    {
      "cell_type": "markdown",
      "metadata": {
        "id": "Hf6_ZH39FQmo"
      },
      "source": [
        "### f-문자열 \n",
        "* 시작인용 부호 또는 삼중 인용 부호 앞에 f 또는 F 를 붙여 문자열을 시작하며 f-문자열(f-string)을 구성"
      ]
    },
    {
      "cell_type": "code",
      "metadata": {
        "id": "y7RpPoTaFjvy"
      },
      "source": [
        "# 문자열 맨 앞에 f를 붙이고, 출력할 변수, 값을 중괄호 안에 넣습니다.\n",
        "s = 'coffee'\n",
        "n = 5\n",
        "result1 = f'저는 {s}를 좋아합니다. 하루 {n}잔 마셔요.'\n",
        "print(result1)"
      ],
      "execution_count": null,
      "outputs": []
    },
    {
      "cell_type": "markdown",
      "metadata": {
        "id": "9rp3jnwVk8m9"
      },
      "source": [
        "* 0으로 채워지는 f-문자열 사용하기"
      ]
    },
    {
      "cell_type": "code",
      "metadata": {
        "id": "LxDmBB9_k55R"
      },
      "source": [
        "product_ids = [72, 12345678, 3332483, 92541, 45249535]\n",
        "\n",
        "for product_id in product_ids:\n",
        "    print(f'{product_id:08}')"
      ],
      "execution_count": null,
      "outputs": []
    },
    {
      "cell_type": "code",
      "metadata": {
        "id": "WLMT2HBwlM0u"
      },
      "source": [
        "for i in range(10, -1, -1):\n",
        "    print(f'{i:02}')"
      ],
      "execution_count": null,
      "outputs": []
    },
    {
      "cell_type": "markdown",
      "metadata": {
        "id": "9phAAtv6lJWC"
      },
      "source": [
        "* pi 값의 소수점(정밀도) 처리 처리하기 "
      ]
    },
    {
      "cell_type": "code",
      "metadata": {
        "id": "YMsMS6JglfEU"
      },
      "source": [
        "from math import pi\n",
        "\n",
        "for i in range(1, 7):\n",
        "    print(f'{pi:.{i}f}')"
      ],
      "execution_count": null,
      "outputs": []
    },
    {
      "cell_type": "markdown",
      "metadata": {
        "id": "4SjC_T1wLAyj"
      },
      "source": [
        "* 리스트 자료 복사"
      ]
    },
    {
      "cell_type": "code",
      "metadata": {
        "id": "sr5hW846Je-W"
      },
      "source": [
        "lst = [range(10)]\n",
        "new_lst = lst[:]"
      ],
      "execution_count": null,
      "outputs": []
    },
    {
      "cell_type": "code",
      "metadata": {
        "id": "ypaWR5ECJnPE"
      },
      "source": [
        "print (id(lst))\n",
        "print (id(new_lst))"
      ],
      "execution_count": null,
      "outputs": []
    },
    {
      "cell_type": "code",
      "metadata": {
        "id": "H0dQ-FxjJxKP"
      },
      "source": [
        "lst = [range(10)]\n",
        "new_lst = lst"
      ],
      "execution_count": null,
      "outputs": []
    },
    {
      "cell_type": "code",
      "metadata": {
        "id": "NFzTVFSMJ2BA"
      },
      "source": [
        "print (id(lst))\n",
        "print (id(new_lst))"
      ],
      "execution_count": null,
      "outputs": []
    },
    {
      "cell_type": "markdown",
      "metadata": {
        "id": "gxbidoTGCDBp"
      },
      "source": [
        "# 리스트\n",
        "\n",
        "* 리스트를 만들 때는 대괄호([ ])로 감싸 주고 각 요소값은 쉼표(,)로 구분해 줌\n",
        "\n",
        "\n",
        "```\n",
        "odd = [1, 3, 5, 7, 9]\n",
        "\n",
        "리스트명 = [요소1, 요소2, 요소3, ...]\n",
        "```"
      ]
    },
    {
      "cell_type": "markdown",
      "metadata": {
        "id": "s6XZWcDuh552"
      },
      "source": [
        "다음 데이터타입의 4 위치 앞에 3 데이터를 추가하기 위한 명령어로 올바른 것은?"
      ]
    },
    {
      "cell_type": "code",
      "metadata": {
        "id": "vgClrDkNhq2H"
      },
      "source": [
        "month=[1,2,4,5]\n",
        "month.insert(2,3)"
      ],
      "execution_count": null,
      "outputs": []
    },
    {
      "cell_type": "code",
      "metadata": {
        "id": "IocxmMfFh3QN"
      },
      "source": [
        "month"
      ],
      "execution_count": null,
      "outputs": []
    },
    {
      "cell_type": "code",
      "source": [
        "month.sort() # sorted(month)"
      ],
      "metadata": {
        "id": "4MxdlyXBvwMP"
      },
      "execution_count": null,
      "outputs": []
    },
    {
      "cell_type": "code",
      "source": [
        "month"
      ],
      "metadata": {
        "id": "xQ3Hw0D3v0hC"
      },
      "execution_count": null,
      "outputs": []
    },
    {
      "cell_type": "code",
      "source": [
        "month.pop()"
      ],
      "metadata": {
        "id": "fFtDW4etvBo2"
      },
      "execution_count": null,
      "outputs": []
    },
    {
      "cell_type": "code",
      "source": [
        "month"
      ],
      "metadata": {
        "id": "dqvb_PuhvI0S"
      },
      "execution_count": null,
      "outputs": []
    },
    {
      "cell_type": "code",
      "source": [
        "month.remove(3)"
      ],
      "metadata": {
        "id": "Q1YBL_InvLgG"
      },
      "execution_count": null,
      "outputs": []
    },
    {
      "cell_type": "code",
      "source": [
        "month.remove(-1)"
      ],
      "metadata": {
        "id": "j1EzQuGSvOdH"
      },
      "execution_count": null,
      "outputs": []
    },
    {
      "cell_type": "code",
      "metadata": {
        "id": "w5dUDbxGC4JS"
      },
      "source": [
        "month[-1]"
      ],
      "execution_count": null,
      "outputs": []
    },
    {
      "cell_type": "markdown",
      "metadata": {
        "id": "R-UrTcriDhDk"
      },
      "source": [
        "두번쨰 원소에서 마지막 전 원소까지"
      ]
    },
    {
      "cell_type": "code",
      "metadata": {
        "id": "Cf1-Mnm_DEp1"
      },
      "source": [
        "month[1:-1]"
      ],
      "execution_count": null,
      "outputs": []
    },
    {
      "cell_type": "markdown",
      "metadata": {
        "id": "8S_0l98GEKG-"
      },
      "source": [
        "**슬라이싱** 실습"
      ]
    },
    {
      "cell_type": "code",
      "metadata": {
        "id": "k3of3ffkEC1J"
      },
      "source": [
        "month[:2]"
      ],
      "execution_count": null,
      "outputs": []
    },
    {
      "cell_type": "markdown",
      "metadata": {
        "id": "xXl8HgmOEipH"
      },
      "source": [
        "리스트에 포함된 특정 원소의 개수 세기(count)"
      ]
    },
    {
      "cell_type": "code",
      "metadata": {
        "id": "HAoruD9FEfwL"
      },
      "source": [
        "month.count(1)"
      ],
      "execution_count": null,
      "outputs": []
    },
    {
      "cell_type": "markdown",
      "source": [
        "리스트 내용 삭제"
      ],
      "metadata": {
        "id": "fMs6_UO7vk5z"
      }
    },
    {
      "cell_type": "code",
      "source": [
        "month.clear()"
      ],
      "metadata": {
        "id": "7BT4rDxzvSOD"
      },
      "execution_count": null,
      "outputs": []
    },
    {
      "cell_type": "markdown",
      "metadata": {
        "id": "lE5reZnbp8HU"
      },
      "source": [
        "## (심화)리스트 평균구하기\n",
        "\n",
        "\n",
        "sum(input-list)\n",
        "\n",
        "Note: average = (sum)/(count)"
      ]
    },
    {
      "cell_type": "code",
      "metadata": {
        "id": "YQqQFWbRp8Hb"
      },
      "source": [
        "inp_lst = [12, 45, 78, 36, 45, 237.11, -1, 88]\n",
        " \n",
        "sum_lst = sum(inp_lst)\n",
        "print(\"리스트 합:\") \n",
        "print(sum_lst)\n",
        "lst_avg = sum_lst/len(inp_lst) \n",
        "print(\"리스트의 평균값:\") \n",
        "print(lst_avg) \n",
        "print(round(lst_avg,3))"
      ],
      "execution_count": null,
      "outputs": []
    },
    {
      "cell_type": "markdown",
      "metadata": {
        "id": "zB-jwRdC-xyA"
      },
      "source": [
        "lambda 표현식 사용"
      ]
    },
    {
      "cell_type": "code",
      "metadata": {
        "id": "mfkYWoxOp8Hh"
      },
      "source": [
        "sum = (lambda x,y: x + y)(10, 20)\n",
        "print (sum)\n",
        "sum = lambda a, b: a+b\n",
        "sum(3,4)"
      ],
      "execution_count": null,
      "outputs": []
    },
    {
      "cell_type": "code",
      "metadata": {
        "id": "0PUq4vDQp8Hn"
      },
      "source": [
        "# 입력받은 자료형의 각 요소가 합수에 의해 수행된 결과를 묶어서 map iterator 객체로 리턴\n",
        "result = list(map(lambda x: x ** 2, range(5))) \n",
        "print(result)\n",
        "result = list(map(lambda i: i ** 2 , inp_lst))\n",
        "result"
      ],
      "execution_count": null,
      "outputs": []
    },
    {
      "cell_type": "code",
      "metadata": {
        "id": "MS-WdTUep8Hs"
      },
      "source": [
        "a = [1, 2, 3, 4, 5, 6, 7, 8, 9, 10]\n",
        "\n",
        "list(map(lambda x: str(x) if x % 3 == 0 else x, a))"
      ],
      "execution_count": null,
      "outputs": []
    },
    {
      "cell_type": "code",
      "metadata": {
        "id": "bFV_1Vfep8Hz"
      },
      "source": [
        "# 두번째 인수인 반복 가능한 자료형 요소들을 첫번째 인자 함수에 하나씩 입력하여 리턴값이 참인 것만 묶어서 반환\n",
        "result = list(filter(lambda x: x > 0, inp_lst))\n",
        "result"
      ],
      "execution_count": null,
      "outputs": []
    },
    {
      "cell_type": "code",
      "metadata": {
        "id": "ZuSPux-Yp8H4"
      },
      "source": [
        "# reduce(함수, 순서형 자료)\n",
        "from functools import reduce\n",
        "reduce(lambda x, y: x+y, [1, 2, 3, 4, 5])\n",
        "# = ((((1+2)+3)+4)+5)\n",
        "reduce(lambda x, y: x + y, [1, 2, 3, 4,5], 0)"
      ],
      "execution_count": null,
      "outputs": []
    },
    {
      "cell_type": "code",
      "metadata": {
        "id": "wGl2i8PAp8IK"
      },
      "source": [
        "# 최소값 구하기\n",
        "reduce(lambda x, y: x if x < y else y, inp_lst)"
      ],
      "execution_count": null,
      "outputs": []
    },
    {
      "cell_type": "code",
      "metadata": {
        "id": "4PVKQWVSp8IO"
      },
      "source": [
        "# 최대값 구하기\n",
        "reduce(lambda x, y: x if x > y else y, inp_lst)"
      ],
      "execution_count": null,
      "outputs": []
    },
    {
      "cell_type": "code",
      "metadata": {
        "id": "FrOkzfSSp8IQ"
      },
      "source": [
        "# python3 부터 내장함수에서 빠짐\n",
        "\n",
        "from functools import reduce\n",
        "\n",
        "# 문제1. 전통적으로 최대값 구하기\n",
        "def maximum(li):\n",
        "    default = 0\n",
        "    for e in li:\n",
        "        if default < e:\n",
        "            default = e\n",
        "    return default\n",
        "maximum(inp_lst)\n",
        "\n",
        "# 문제1. reduce 활용하여 최대값 구하기\n",
        "reduce(lambda a,b: a if a > b else b ,inp_lst)"
      ],
      "execution_count": null,
      "outputs": []
    },
    {
      "cell_type": "markdown",
      "metadata": {
        "id": "xGZJa_itiO91"
      },
      "source": [
        "* reduce 함수를 사용한 리스트 평균구하기"
      ]
    },
    {
      "cell_type": "code",
      "metadata": {
        "id": "G3yGGQzbp8IT"
      },
      "source": [
        "from functools import reduce\n",
        "\n",
        "inp_lst = [12, 45, 78, 36, 45, 237.11, -1, 88]\n",
        " \n",
        "lst_len= len(inp_lst)\n",
        " \n",
        "lst_avg = reduce(lambda x, y: x + y, inp_lst) /lst_len \n",
        "print(\"Average value of the list:\\n\") \n",
        "print(lst_avg) \n",
        "print(\"Average value of the list with precision upto 3 decimal value:\\n\")\n",
        "print(round(lst_avg,3))"
      ],
      "execution_count": null,
      "outputs": []
    },
    {
      "cell_type": "markdown",
      "metadata": {
        "id": "kMtT4cyQiJN8"
      },
      "source": [
        "* numpy 를 사용한 리스트 처리"
      ]
    },
    {
      "cell_type": "code",
      "metadata": {
        "id": "o8qS2OL_p8IW"
      },
      "source": [
        "import numpy as np\n",
        " \n",
        "inp_lst = [1, 2, 3, 4, 5]\n",
        " \n",
        "lst_avg = np.average(inp_lst)\n",
        "print(\"Average value of the list:\\n\") \n",
        "print(lst_avg) \n",
        "\n",
        "\n",
        "\n",
        "print(\"Average value of the list with precision upto 3 decimal value:\\n\")\n",
        "print(round(lst_avg,3))"
      ],
      "execution_count": null,
      "outputs": []
    },
    {
      "cell_type": "code",
      "metadata": {
        "id": "nlAiENEeyT0P"
      },
      "source": [
        "queue = [\"Jack\", \"Ann\", \"Sofie\"]\n",
        "\n",
        "for i in range(len(queue)):\n",
        "    name = queue[i]\n",
        "    print(\"{} is at {}. position\".format(name, i + 1))"
      ],
      "execution_count": null,
      "outputs": []
    },
    {
      "cell_type": "code",
      "metadata": {
        "id": "DWbl74sGyfON"
      },
      "source": [
        "queue = [\"Jack\", \"Ann\", \"Sofie\"]\n",
        "  \n",
        "for position, name in enumerate(queue):\n",
        "    print(\"{} is at {}. position\".format(name, position + 1))"
      ],
      "execution_count": null,
      "outputs": []
    },
    {
      "cell_type": "markdown",
      "metadata": {
        "id": "7C7tcuhRr_cr"
      },
      "source": [
        "# 딕셔너리"
      ]
    },
    {
      "cell_type": "markdown",
      "metadata": {
        "id": "Gutjp8AWsR_S"
      },
      "source": [
        "* Creating empty dictionary\n"
      ]
    },
    {
      "cell_type": "code",
      "metadata": {
        "id": "54x5lwZbsFWy"
      },
      "source": [
        "Dictionary = {}\n",
        "print(Dictionary)"
      ],
      "execution_count": null,
      "outputs": []
    },
    {
      "cell_type": "markdown",
      "metadata": {
        "id": "w9Z1GuwfsVBR"
      },
      "source": [
        "* Creating dictionary using integer keys"
      ]
    },
    {
      "cell_type": "code",
      "metadata": {
        "id": "pqGm5iYdsPUb"
      },
      "source": [
        "D = {1: 'lion', 2: 'tiger', 3: 'zebra'}\n",
        "print(D)"
      ],
      "execution_count": null,
      "outputs": []
    },
    {
      "cell_type": "markdown",
      "metadata": {
        "id": "H4lTXjXcsliH"
      },
      "source": [
        "* Creating dictionary using mixed keys"
      ]
    },
    {
      "cell_type": "code",
      "metadata": {
        "id": "b56AV_acsrd8"
      },
      "source": [
        "D = {'animal': 'tiger', 4: [1, 2, 3]}\n",
        "print(D)"
      ],
      "execution_count": null,
      "outputs": []
    },
    {
      "cell_type": "markdown",
      "metadata": {
        "id": "n00tqaZKs5me"
      },
      "source": [
        "* Creating dictionary using Dict() function"
      ]
    },
    {
      "cell_type": "code",
      "metadata": {
        "id": "ATEdUJuos0rY"
      },
      "source": [
        "D = dict({1: 'lion', 2: 'tiger', 3: 'zebra'})\n",
        "print(D)"
      ],
      "execution_count": null,
      "outputs": []
    },
    {
      "cell_type": "markdown",
      "metadata": {
        "id": "7LbIRjr-tFp0"
      },
      "source": [
        "* Accessing dictionary using []"
      ]
    },
    {
      "cell_type": "code",
      "metadata": {
        "id": "zrnfLaqMtMbM"
      },
      "source": [
        "d = {'animal': 'tiger', 'ani': 'zebra'}\n",
        "print(d['animal'])"
      ],
      "execution_count": null,
      "outputs": []
    },
    {
      "cell_type": "markdown",
      "metadata": {
        "id": "nmj4Y0eCtb71"
      },
      "source": [
        "* Accessing dictionary using get()"
      ]
    },
    {
      "cell_type": "code",
      "metadata": {
        "id": "EDL_5lditef-"
      },
      "source": [
        "p = {'animal': 'tiger', 'ani': 'zebra'}\n",
        "print(p.get('ani'))"
      ],
      "execution_count": null,
      "outputs": []
    },
    {
      "cell_type": "markdown",
      "metadata": {
        "id": "HRv2MHgEtt0M"
      },
      "source": [
        "* Updating a dictionary"
      ]
    },
    {
      "cell_type": "code",
      "metadata": {
        "id": "GCFF4z50tzWA"
      },
      "source": [
        "S = {'color1': 'pink', 'color2': 'red'}\n",
        "S['color1'] = 'green'\n",
        "S"
      ],
      "execution_count": null,
      "outputs": []
    },
    {
      "cell_type": "markdown",
      "metadata": {
        "id": "JDmv9NU5uFLK"
      },
      "source": [
        "* Adding an item to a dictionary"
      ]
    },
    {
      "cell_type": "code",
      "metadata": {
        "id": "7FZ5sjzhuMpX"
      },
      "source": [
        "S = {'color1': 'green', 'color2': 'red'}\n",
        "S['color3'] = 'yellow'\n",
        "S"
      ],
      "execution_count": null,
      "outputs": []
    },
    {
      "cell_type": "markdown",
      "metadata": {
        "id": "h8aydaMIujtR"
      },
      "source": [
        "* Deleting dictionary elements"
      ]
    },
    {
      "cell_type": "code",
      "metadata": {
        "id": "HsQjA_2turLT"
      },
      "source": [
        "# key가 3인 항목을 삭제함\n",
        "R = {1: 'n', 2: 'f', 3: 'w', 4: 'y', 5: 'i'}\n",
        "print(R.pop(3))\n",
        "print(R)"
      ],
      "execution_count": null,
      "outputs": []
    },
    {
      "cell_type": "code",
      "metadata": {
        "id": "ueUgOYCHvO28"
      },
      "source": [
        "R = {1: 'n', 2: 'f', 3: 'w', 4: 'y', 5: 'i'}\n",
        "# 마지막 항목을 삭제함\n",
        "print(R.popitem())\n",
        "print(R)"
      ],
      "execution_count": null,
      "outputs": []
    },
    {
      "cell_type": "markdown",
      "metadata": {
        "id": "zdnbkKnkvePm"
      },
      "source": [
        "* Removing all the items from the dictionary, making them empty."
      ]
    },
    {
      "cell_type": "code",
      "metadata": {
        "id": "16WhaEVvvm8J"
      },
      "source": [
        "R = {1: 'n', 2: 'f', 3: 'w', 4: 'y', 5: 'i'} \n",
        "print (R.clear())"
      ],
      "execution_count": null,
      "outputs": []
    },
    {
      "cell_type": "markdown",
      "metadata": {
        "id": "4Ztk_BLQv6EJ"
      },
      "source": [
        "* Deleting the entire dictionary"
      ]
    },
    {
      "cell_type": "code",
      "metadata": {
        "id": "Zi7zzOA6v9Y5"
      },
      "source": [
        "R = {1: 'n', 2: 'f', 3: 'w', 4: 'y', 5: 'i'} \n",
        "del R\n",
        "\n",
        "print (R)"
      ],
      "execution_count": null,
      "outputs": []
    },
    {
      "cell_type": "markdown",
      "metadata": {
        "id": "I0nPAgyvwNUJ"
      },
      "source": [
        "* Return a new object of the items present in a dictionary in a key-value format."
      ]
    },
    {
      "cell_type": "code",
      "metadata": {
        "id": "lPC-TPNXwR0s"
      },
      "source": [
        "P = dict({1: 'lion', 2: 'tiger', 3: 'zebra'})\n",
        "for i in P.items():\n",
        "    print(i)"
      ],
      "execution_count": null,
      "outputs": []
    },
    {
      "cell_type": "markdown",
      "metadata": {
        "id": "pjYPVF8lwujv"
      },
      "source": [
        "* Return all the dictionary keys present in the dictionary"
      ]
    },
    {
      "cell_type": "code",
      "metadata": {
        "id": "Q7vvClVbwsNc"
      },
      "source": [
        "P = dict({1: 'lion', 2: 'tiger', 3: 'zebra'})\n",
        "print(P.keys())\n"
      ],
      "execution_count": null,
      "outputs": []
    },
    {
      "cell_type": "markdown",
      "metadata": {
        "id": "Nt8ujBzYxfUE"
      },
      "source": [
        "* Dictionary membership test"
      ]
    },
    {
      "cell_type": "code",
      "metadata": {
        "id": "qiaKCyhHxSH1"
      },
      "source": [
        "D = {1: 34, 2: 23, 3: 56, 4: 99, 5: 55}\n",
        "print(1 in D)\n",
        "print(3 not in D)\n",
        "print(7 in D)\n"
      ],
      "execution_count": null,
      "outputs": []
    },
    {
      "cell_type": "markdown",
      "metadata": {
        "id": "QCPgzJeUxyI-"
      },
      "source": [
        "* Iteration using dictionary"
      ]
    },
    {
      "cell_type": "code",
      "metadata": {
        "id": "-VBxcoTExnWU"
      },
      "source": [
        "R = {1: 34, 2: 23, 3: 56, 4: 99, 5: 55}\n",
        "for d in R:\n",
        "    print(R[d])"
      ],
      "execution_count": null,
      "outputs": []
    },
    {
      "cell_type": "markdown",
      "metadata": {
        "id": "3JzBLZb3u4W-"
      },
      "source": [
        "# 프로그램시 유의사항"
      ]
    },
    {
      "cell_type": "markdown",
      "metadata": {
        "id": "iThDBLFRrNOD"
      },
      "source": [
        "## print() 문 \n",
        "* 다음 python 코드를 실행 한 후 특수문자 ('\\t'와 '\\n') 을 이해한다\n",
        "```\n",
        "print(\"안녕하세요.\\n만나서\\t\\t반갑습니다.\")\n",
        "```"
      ]
    },
    {
      "cell_type": "code",
      "metadata": {
        "id": "kH9VkBggrka9"
      },
      "source": [
        "print(\"안녕하세요.\\n만나서\\t\\t반갑습니다.\")"
      ],
      "execution_count": null,
      "outputs": []
    },
    {
      "cell_type": "code",
      "metadata": {
        "id": "QifOnSXqPq5N"
      },
      "source": [
        "one = 1\n",
        "two = 2\n",
        "three = one + two\n",
        "print(three)\n",
        "\n",
        "hello = \"hello\"\n",
        "world = \"world\"\n",
        "helloworld = hello + \" \" + world\n",
        "print(helloworld)"
      ],
      "execution_count": null,
      "outputs": []
    },
    {
      "cell_type": "markdown",
      "metadata": {
        "id": "noKZJJ3yODPu"
      },
      "source": [
        " * (문제)다음 프로그램의 수행결과를 보이시오"
      ]
    },
    {
      "cell_type": "code",
      "metadata": {
        "id": "Fn2JKGWGOHc6"
      },
      "source": [
        "x = \"awesome\"\n",
        "print(\"Python is \"+ x)\n"
      ],
      "execution_count": null,
      "outputs": []
    },
    {
      "cell_type": "markdown",
      "metadata": {
        "id": "EVI_XwjTruRJ"
      },
      "source": [
        "## 들여쓰기 \n",
        "* 들여쓰기는 코드를 읽기 쉽도록 일정한 간격을 띄워서 작성하는 방법임 \n",
        "* 파이썬에서는 수행 흐름을 제어하기는 경우 블록설정을 위해 들여쓰기를 하여야함 \n",
        "* 파이썬에서는 **들여쓰기 자체가 문법임**\n",
        "* 파이썬에서 들여쓰기 방법은 공백(스페이스) 2칸, 4칸, 탭(tab) 등 여러 가지 방법이 있음, **4칸들여쓰기** 추천\n",
        "> 파이썬 코딩 스타일 가이드(PEP 8)에서는 공백 4칸으로 규정"
      ]
    },
    {
      "cell_type": "code",
      "metadata": {
        "id": "KRcT0NKosUKO"
      },
      "source": [
        "a = 10\n",
        "if a == 10:\n",
        "   print('10입니다.')    # 들여쓰기 문법 에러"
      ],
      "execution_count": null,
      "outputs": []
    },
    {
      "cell_type": "markdown",
      "metadata": {
        "id": "XGioNmX_yMKc"
      },
      "source": [
        "## input() 함수 사용하기"
      ]
    },
    {
      "cell_type": "code",
      "metadata": {
        "id": "O2oULUF6yMKd"
      },
      "source": [
        "x = input(\"input a number\")"
      ],
      "execution_count": null,
      "outputs": []
    },
    {
      "cell_type": "code",
      "metadata": {
        "id": "yy6mPEpAyMKd"
      },
      "source": [
        "x"
      ],
      "execution_count": null,
      "outputs": []
    },
    {
      "cell_type": "code",
      "metadata": {
        "id": "z6Lmb4_fyMKd"
      },
      "source": [
        "y = input (\"input a number\")"
      ],
      "execution_count": null,
      "outputs": []
    },
    {
      "cell_type": "code",
      "metadata": {
        "id": "FElH1eQCyMKd"
      },
      "source": [
        "z = int(x) - int(y)\n",
        "z"
      ],
      "execution_count": null,
      "outputs": []
    },
    {
      "cell_type": "code",
      "metadata": {
        "id": "Y_aJNFSRyMKd"
      },
      "source": [
        "print('양수를 입력해 주세요')\n",
        "x = input()\n",
        "print('양수를 입력해 주세요')\n",
        "y = input()\n",
        "a = x\n",
        "b = y\n",
        "c = int(a) + int(y)\n",
        "print('두수의 합은 %d 입니다' % c)"
      ],
      "execution_count": null,
      "outputs": []
    },
    {
      "cell_type": "markdown",
      "metadata": {
        "id": "Or8fAtODBalU"
      },
      "source": [
        "# 컨테이너 자료형\n",
        "* 변수를 이용해서 데이터를 저장하는 경우 여러 데이터를 묶어서 저장하고 관리하는 것이 효율적임\n",
        "* 컨테이너 자료형은 다양한 자료형이 가능함 "
      ]
    },
    {
      "cell_type": "code",
      "metadata": {
        "id": "P2OoaZciBsSF"
      },
      "source": [
        "fruits = ['Apple', 'Pear', 'Peach', 'Grape']\n",
        "tools = ['Pencil', 'Knife']\n",
        "names = ['Alice', 1, 'Bob', 'David']"
      ],
      "execution_count": null,
      "outputs": []
    },
    {
      "cell_type": "code",
      "metadata": {
        "id": "kTHd3q-TCamj"
      },
      "source": [
        "for n in names:\n",
        "  print(f'{n} 의 자료형 {type(n)} ')"
      ],
      "execution_count": null,
      "outputs": []
    },
    {
      "cell_type": "markdown",
      "metadata": {
        "id": "AFLUvPnTCt0A"
      },
      "source": [
        "* 파이썬의 컨테이너 자료형은 리스트, 튜플, 딕셔너리, 집합이다\n",
        "> 리스트, 튜플, 딕셔너리를 다룸"
      ]
    },
    {
      "cell_type": "code",
      "metadata": {
        "id": "zciOaOa5DAg7"
      },
      "source": [
        "list = [1,2,3,4,5]\n",
        "tuple = (1,2,3,4,5)\n",
        "dictionary = { 'Korea' : 'Seoul', 'China' : 'Beijing'}"
      ],
      "execution_count": null,
      "outputs": []
    },
    {
      "cell_type": "code",
      "metadata": {
        "id": "PcXAjFMIDc4n"
      },
      "source": [
        "print(type(list))\n",
        "print(type(tuple))\n",
        "print (type(dictionary))"
      ],
      "execution_count": null,
      "outputs": []
    },
    {
      "cell_type": "markdown",
      "metadata": {
        "id": "YfVESX0MfE0B"
      },
      "source": [
        "### (실습) 반복문을 사용한 리스트 자료처리"
      ]
    },
    {
      "cell_type": "markdown",
      "metadata": {
        "id": "yUbKIYQcizv5"
      },
      "source": []
    },
    {
      "cell_type": "code",
      "metadata": {
        "id": "eoidWi_FqVvl"
      },
      "source": [
        "my_list = [1, 2, 3, 4, 5]\n",
        "# Forward loop\n",
        "index = 0\n",
        "while index < len(my_list):\n",
        "    print(my_list[index])\n",
        "    index += 1"
      ],
      "execution_count": null,
      "outputs": []
    },
    {
      "cell_type": "code",
      "metadata": {
        "id": "0JP4Iug_qVvu"
      },
      "source": [
        "my_list = [1, 2, 3, 4, 5]\n",
        "# Reverse loop\n",
        "index = len(my_list) - 1\n",
        "while index >= 0:\n",
        "    print(my_list[index])\n",
        "    index -= 1"
      ],
      "execution_count": null,
      "outputs": []
    },
    {
      "cell_type": "markdown",
      "metadata": {
        "id": "uWlF9UZ1i1wg"
      },
      "source": [
        "## [컨테이너 자료형 실습](https://colab.research.google.com/drive/102dKfFS-qVlphA_hnFgcj4pCG7tYoZEq)"
      ]
    },
    {
      "cell_type": "markdown",
      "metadata": {
        "id": "GN2Wsw94iQrU"
      },
      "source": [
        "## [Counter 클래스 사용하기](https://colab.research.google.com/drive/18RY0gKO7BkA6LaIgXFcamwUQIluwsLjS)"
      ]
    },
    {
      "cell_type": "markdown",
      "metadata": {
        "id": "SWPHb8rtAcVd"
      },
      "source": [
        "# 조건문\n",
        "> 조건식의 참(Ture)와 거짓(False)을 판별하여 실행할 문장을 선택하여 처리\n",
        "\n",
        "* if 문\n",
        "* if - else 문\n",
        "* if - elif -else 문\n"
      ]
    },
    {
      "cell_type": "markdown",
      "metadata": {
        "id": "c0Je0oydt_rq"
      },
      "source": [
        "다음 파이썬 코드의 출력결과를 예상하여 작성하시오\n",
        "```\n",
        "if 5 > 2:\n",
        "  print(\"Five is greater than two!\")\n",
        "```"
      ]
    },
    {
      "cell_type": "code",
      "metadata": {
        "id": "7pK8k1uCAuH1"
      },
      "source": [
        "x = 3\n",
        "y = 2"
      ],
      "execution_count": null,
      "outputs": []
    },
    {
      "cell_type": "code",
      "metadata": {
        "id": "LwoFQSmRA-Pl"
      },
      "source": [
        "x == y"
      ],
      "execution_count": null,
      "outputs": []
    },
    {
      "cell_type": "code",
      "metadata": {
        "id": "2JGl8v0-A6eS"
      },
      "source": [
        "x != y"
      ],
      "execution_count": null,
      "outputs": []
    },
    {
      "cell_type": "code",
      "metadata": {
        "id": "eqT5aEG5BA8U"
      },
      "source": [
        "x >= y"
      ],
      "execution_count": null,
      "outputs": []
    },
    {
      "cell_type": "code",
      "metadata": {
        "id": "VmMhvQWLBVp6"
      },
      "source": [
        "money = 1300\n",
        "\n",
        "if money >= 1200 and money < 2000:\n",
        "   print(\"You can take a bus!\")"
      ],
      "execution_count": null,
      "outputs": []
    },
    {
      "cell_type": "code",
      "metadata": {
        "id": "Bo9ea5zuBtZJ"
      },
      "source": [
        "money = 1000\n",
        "if money >= 1200 and money < 2000:\n",
        "   print(\"You can take a bus!\")\n",
        "else:\n",
        "   print(\"There is no enough money\")"
      ],
      "execution_count": null,
      "outputs": []
    },
    {
      "cell_type": "markdown",
      "metadata": {
        "id": "hZls4iQ8C59d"
      },
      "source": [
        "(문제)다음 조건문의 **오류** 를 찾으시오."
      ]
    },
    {
      "cell_type": "code",
      "metadata": {
        "id": "hHhSey5TB9YV"
      },
      "source": [
        "if money >= 1200 and money < 2000:\n",
        "   pass\n",
        "elif money > 2000:\n",
        "   print (\"Take a bus\")\n",
        "else:\n",
        "   print(\"Take a taxi\")\n",
        "\n",
        "print (f\"money = {money}\")"
      ],
      "execution_count": null,
      "outputs": []
    },
    {
      "cell_type": "markdown",
      "metadata": {
        "id": "_0_x5RDRDZ8U"
      },
      "source": [
        "**문제해결**"
      ]
    },
    {
      "cell_type": "code",
      "metadata": {
        "id": "Zx8wH8__DL7B"
      },
      "source": [
        "if money >= 1200 and money < 2000:\n",
        "    print (\"Take a bus\")\n",
        "elif money > 2000:\n",
        "   print (\"Take a taxi\")\n",
        "else:\n",
        "   print(\"There is no enough money\")\n",
        "\n",
        "print (f\"money = {money}\")"
      ],
      "execution_count": null,
      "outputs": []
    },
    {
      "cell_type": "code",
      "metadata": {
        "id": "F3a9LcEJFctq"
      },
      "source": [
        "sam = 10\n",
        "if sam < 8:\n",
        "   print(\"sam\")\n",
        "else:\n",
        "  print(\"10\")"
      ],
      "execution_count": null,
      "outputs": []
    },
    {
      "cell_type": "code",
      "metadata": {
        "id": "97_3vFJcFeja"
      },
      "source": [
        "# 단순화된 if 문\n",
        "sam = 10\n",
        "print(\"sam\") if sam < 8 else print(\"10\")"
      ],
      "execution_count": null,
      "outputs": []
    },
    {
      "cell_type": "markdown",
      "metadata": {
        "id": "PA2o-UR3mOIk"
      },
      "source": [
        "### (실습)조건문"
      ]
    },
    {
      "cell_type": "markdown",
      "metadata": {
        "id": "kBYMg8fk85UN"
      },
      "source": [
        "* 만약 a 가 b 보다 크면  \"Hello World“를 출력하시오. "
      ]
    },
    {
      "cell_type": "code",
      "metadata": {
        "id": "Imxh1RcH88pb"
      },
      "source": [
        "a = 5\n",
        "b = 3 \n",
        "if a  >   b:\n",
        "print(\"Hello World\")"
      ],
      "execution_count": null,
      "outputs": []
    },
    {
      "cell_type": "markdown",
      "metadata": {
        "id": "5k_G8XKC9GW2"
      },
      "source": [
        "* 만약 a와 b 가 같지 않으면  \"Hello World“를 출력하시오 "
      ]
    },
    {
      "cell_type": "code",
      "metadata": {
        "id": "hLF8o8yz9Iwe"
      },
      "source": [
        "a = 50\n",
        "b = 10\n",
        "\n",
        "if a  !=  b:\n",
        "  print(\"Hello World\")"
      ],
      "execution_count": null,
      "outputs": []
    },
    {
      "cell_type": "markdown",
      "metadata": {
        "id": "z6_JqH3w9T1P"
      },
      "source": [
        "* 만약 a와 b가 같으면  \"Yes\" 그렇지 않으며 \"No\".를 출력하시오."
      ]
    },
    {
      "cell_type": "code",
      "metadata": {
        "id": "BZ6ISN8Q9XdG"
      },
      "source": [
        "a = 50\n",
        "b = 10\n",
        "\n",
        "if a  ==  b:\n",
        "  print(\"Yes\")\n",
        "else:\n",
        "  print(\"No\")"
      ],
      "execution_count": null,
      "outputs": []
    },
    {
      "cell_type": "markdown",
      "metadata": {
        "id": "I7tE03oS9bMJ"
      },
      "source": [
        "* 만약 a와 b가 같으면 “1”, a가 b보다 크면 “2”를 그렇지 않으며 “3”을 출력하시오."
      ]
    },
    {
      "cell_type": "code",
      "metadata": {
        "id": "ovD8YDzG9fUM"
      },
      "source": [
        "a = 10\n",
        "b = 50\n",
        "if a  ==   b:\n",
        "  print(\"1\")\n",
        "elif a > b:\n",
        "  print(\"2\")\n",
        "else: \n",
        "  print(\"3\")"
      ],
      "execution_count": null,
      "outputs": []
    },
    {
      "cell_type": "markdown",
      "metadata": {
        "id": "velLD0lKD52v"
      },
      "source": [
        "**(실습)** 정수값을 입력받아 해당 정수값이 3의 배수 인지 판별하도록 369 경기 프로그램을 작성하시오"
      ]
    },
    {
      "cell_type": "code",
      "metadata": {
        "id": "9lcHjF_oENZy"
      },
      "source": [
        "#x = int (input (\"read input :\"))\n",
        "x = 1\n",
        "while x < 10:\n",
        "    if x % 3 == 0:\n",
        "        print(\"짝\")\n",
        "    else:\n",
        "        print (x)\n",
        "    x = x + 1"
      ],
      "execution_count": null,
      "outputs": []
    },
    {
      "cell_type": "markdown",
      "metadata": {
        "id": "_6217oKuDp8Q"
      },
      "source": [
        "### 컬렉션 자료에서 원소 검사\n",
        "```\n",
        "x in 리스트\n",
        "x in 튜플\n",
        "x in 문자열\n",
        "```"
      ]
    },
    {
      "cell_type": "code",
      "metadata": {
        "id": "cYAIpzxgDf7V"
      },
      "source": [
        "1 in [1,2,3]"
      ],
      "execution_count": null,
      "outputs": []
    },
    {
      "cell_type": "code",
      "metadata": {
        "id": "6cMnQ1VUDkkI"
      },
      "source": [
        "x = 4\n",
        "x in [1, 2, 3]"
      ],
      "execution_count": null,
      "outputs": []
    },
    {
      "cell_type": "code",
      "metadata": {
        "id": "36xaTv4qES_A"
      },
      "source": [
        "x = 'e'\n",
        "\n",
        "if x in ['a','e','i','o', 'u']:\n",
        "   print (f\"{x} is vowel\")\n",
        "\n"
      ],
      "execution_count": null,
      "outputs": []
    },
    {
      "cell_type": "markdown",
      "metadata": {
        "id": "nomhiw5RF1mH"
      },
      "source": [
        "### 조건 연산자\n",
        "> 변수 x와 y의 값에서 큰값을 찾아 변수 max_value 에 저장하고자 한다.  이를 조건 연산자를 사용하여 작성하면 다음과 같다.\n",
        "\n",
        "```\n",
        "max_value = (x if x > y else y)\n",
        "\n",
        "```"
      ]
    },
    {
      "cell_type": "markdown",
      "metadata": {
        "id": "AXStpfs3GOy-"
      },
      "source": [
        "> 제품 가격이 20,000 이상이면 배송비를 무료로 하고 그렇지 않은 경우 3,000원은 배송료로 정하여 최종 결제금액을 출력함"
      ]
    },
    {
      "cell_type": "code",
      "metadata": {
        "id": "phj5EzyOGGJX"
      },
      "source": [
        "price = 30000\n",
        "delivery_cost = (0 if price > 20000 else 3000)\n",
        "print (\"전체금액은 \", (price + delivery_cost))"
      ],
      "execution_count": null,
      "outputs": []
    },
    {
      "cell_type": "markdown",
      "metadata": {
        "id": "9SyrhS3RFHam"
      },
      "source": [
        "# 반복문\n",
        "\n",
        "* 지정된 범위에 해당하는 만큼 반복해서 실행 \n",
        "* while 문과 for문\n",
        "\n",
        "\n",
        "\n",
        "```\n",
        "while <조건>:\n",
        "    실행문장1\n",
        "    실행문장2\n",
        "\n",
        "\n",
        "for 변수 in 리스트|튜플|문자열:\n",
        "    실행문장1\n",
        "    실행문장2\n",
        "```"
      ]
    },
    {
      "cell_type": "markdown",
      "metadata": {
        "id": "NPa_NASAGdzq"
      },
      "source": [
        "### while 문"
      ]
    },
    {
      "cell_type": "markdown",
      "metadata": {
        "id": "PqgDs51slpYE"
      },
      "source": [
        "1에서  N (10) 합"
      ]
    },
    {
      "cell_type": "code",
      "metadata": {
        "id": "VSVDDDwTkxfk"
      },
      "source": [
        "sum = 0\n",
        "i = 1\n",
        "N =10\n",
        "while i <= N:\n",
        "    sum = sum +i\n",
        "    i = i + 1\n",
        "print(f\"1 에서 {N} 까지 합 = {sum}\")"
      ],
      "execution_count": null,
      "outputs": []
    },
    {
      "cell_type": "markdown",
      "metadata": {
        "id": "zZ3XG8ccGnWN"
      },
      "source": [
        "### for 문"
      ]
    },
    {
      "cell_type": "markdown",
      "metadata": {
        "id": "Gcr2Ls3Gv-21"
      },
      "source": [
        "> 1에서 100 합"
      ]
    },
    {
      "cell_type": "code",
      "metadata": {
        "id": "cHdIJEGjv-22"
      },
      "source": [
        "s = 0\n",
        "for i in range(1, 101):\n",
        "  s = s + i\n",
        "\n",
        "print (\"sum of 100 \" + str(s))"
      ],
      "execution_count": null,
      "outputs": []
    },
    {
      "cell_type": "markdown",
      "metadata": {
        "id": "CKfwAFgmoQ4W"
      },
      "source": [
        "* 함수 append()를 반복수행하여  0에서 9 까지의 정수를 생성된 리스트를 생성함\n"
      ]
    },
    {
      "cell_type": "code",
      "metadata": {
        "id": "11vFLnqXoMxn"
      },
      "source": [
        "result=[ ]\n",
        "for i in range(10):\n",
        "    result.append(i)\n",
        "result"
      ],
      "execution_count": null,
      "outputs": []
    },
    {
      "cell_type": "code",
      "metadata": {
        "id": "IfdO24dhFodi"
      },
      "source": [
        "word_list = ['one', 'two', 'three']\n",
        " \n",
        "length = 0\n",
        "for i in word_list:\n",
        "  print (f'list item = {i}')\n",
        "  length = length + 1\n",
        "\n",
        "print (f'total number of list = {length}')\n",
        "\n"
      ],
      "execution_count": null,
      "outputs": []
    },
    {
      "cell_type": "markdown",
      "metadata": {
        "id": "YgPKlvBHHxWi"
      },
      "source": [
        "(문제)다음 반복문의 **오류** 를 찾으시오"
      ]
    },
    {
      "cell_type": "code",
      "metadata": {
        "id": "LJf26RwuHb4W"
      },
      "source": [
        "sum = 0 \n",
        "n = 10 \n",
        "for i in n:\n",
        "  sum = sum + i\n",
        "\n",
        "print (f'sum of 10 to {n} = {sum}')"
      ],
      "execution_count": null,
      "outputs": []
    },
    {
      "cell_type": "code",
      "metadata": {
        "id": "9Nk4Lr3uH8i5"
      },
      "source": [
        "sum = 0 \n",
        "n = 10 \n",
        "for i in range(n+1):\n",
        "  sum = sum + i\n",
        "\n",
        "print (f'sum of 10 to {n} = {sum}')"
      ],
      "execution_count": null,
      "outputs": []
    },
    {
      "cell_type": "markdown",
      "metadata": {
        "id": "MYT-27DYmeru"
      },
      "source": [
        "* 숫자형 자료인 1, 2, 3을 갖는 리스트 numbers 의 값을 반복문을 사용하여 출력"
      ]
    },
    {
      "cell_type": "code",
      "metadata": {
        "id": "svyI9WQ0mcmT"
      },
      "source": [
        "numbers = [1, 2, 3]\n",
        "for number in numbers: \n",
        "   print(number)"
      ],
      "execution_count": null,
      "outputs": []
    },
    {
      "cell_type": "markdown",
      "metadata": {
        "id": "EdcMo2J4m3oF"
      },
      "source": [
        "* 문자열을  구성하는  문자를 반복문을 사용하여 처리"
      ]
    },
    {
      "cell_type": "code",
      "metadata": {
        "id": "Ut8K0-7Km0pg"
      },
      "source": [
        "dog_name = \"BINGO\"\n",
        "for char in dog_name: \n",
        "    print(char)"
      ],
      "execution_count": null,
      "outputs": []
    },
    {
      "cell_type": "code",
      "metadata": {
        "id": "QERgHFF2nC6f"
      },
      "source": [
        "for i in 3: \n",
        "    print(i)"
      ],
      "execution_count": null,
      "outputs": []
    },
    {
      "cell_type": "markdown",
      "metadata": {
        "id": "MOVCgMAfoqt9"
      },
      "source": [
        "* 두개의 반환 값의 처리하는 예를 보인 것으로 idx 는 리스트의 인덱스를 animal 은 리스트의 값을 전달받음"
      ]
    },
    {
      "cell_type": "code",
      "metadata": {
        "id": "a4Ldcyxfoo1a"
      },
      "source": [
        "animals = ['cat', 'dog', 'monkey']\n",
        "for idx, animal in enumerate(animals):\n",
        "    print('#%d: %s' % (idx + 1, animal))"
      ],
      "execution_count": null,
      "outputs": []
    },
    {
      "cell_type": "markdown",
      "metadata": {
        "id": "sm-sSVr1pkn4"
      },
      "source": [
        "* for 루프는 scores  딕셔너리로부터 키를 하나씩 전달받음 \n"
      ]
    },
    {
      "cell_type": "code",
      "metadata": {
        "id": "B-8YrV5tphcD"
      },
      "source": [
        "scores = {\"철수\": 90, \"민수\": 85, \"영희\": 80}\n",
        "for key in scores:\n",
        "    val = scores[key]\n",
        "    print(\"%s : %d\" % (key, val))"
      ],
      "execution_count": null,
      "outputs": []
    },
    {
      "cell_type": "markdown",
      "metadata": {
        "id": "-RZM6P17IAVe"
      },
      "source": [
        "(문제) if 문과 for 문 사용하기"
      ]
    },
    {
      "cell_type": "code",
      "metadata": {
        "id": "HdlqytRYErwb"
      },
      "source": [
        "li = 'python'\n",
        "\n",
        "for x in li:\n",
        "  if x in ['a','e','i','o', 'u']:\n",
        "      print (f\"{li} : {x} is vowel\")\n"
      ],
      "execution_count": null,
      "outputs": []
    },
    {
      "cell_type": "markdown",
      "metadata": {
        "id": "UTOnO7W139aa"
      },
      "source": [
        "* **(실습)** 자료에서 특정한 조건의 값을 찾아 합과 평균을 구한다."
      ]
    },
    {
      "cell_type": "code",
      "metadata": {
        "id": "tEs7reVakbRK"
      },
      "source": [
        "# 다음 리스트에서 50점 이상의 점수들의 총합 및 평균을 구하시오.\n",
        "# marks=[90,-10, 25,67,45,80]\n",
        "marks=[90,10, 25,67,45,80]\n",
        "\n",
        "total = 0\n",
        "avg = 0\n",
        "higher_count = 0\n",
        "wrong_data = False\n",
        "for m in marks:\n",
        "    if m < 0:\n",
        "        wrong_data = True\n",
        "        break\n",
        "    if m >= 50:\n",
        "        total = total + m\n",
        "        higher_count+= 1\n",
        "\n",
        "if wrong_data == False:\n",
        "    print (f\"sum = {total}, average = {total/higher_count}\")\n",
        "else:\n",
        "    print (\"There is wrong data\")"
      ],
      "execution_count": null,
      "outputs": []
    },
    {
      "cell_type": "code",
      "metadata": {
        "id": "rBJCM2MaTmuC"
      },
      "source": [
        "# 다음 리스트에서 0보다 크고 50점 이상의 점수들의 총합 및 평균을 구하시오.\n",
        "marks=[90,10, 25,67,45,80, -10]\n",
        "higher_list = []\n",
        "\n",
        "for m in marks:\n",
        "    if m >= 50 and m > 0:\n",
        "        higher_list.append(m)\n",
        "\n",
        "print (f\"sum = {sum(higher_list)}, average = {sum(higher_list)/len(higher_list)}\")"
      ],
      "execution_count": null,
      "outputs": []
    },
    {
      "cell_type": "markdown",
      "metadata": {
        "id": "Fcbp3WXs1YLV"
      },
      "source": [
        "* for 문을 이용해서 저희 가족들(family)의 이름과 문자열 길이를 출력한다"
      ]
    },
    {
      "cell_type": "code",
      "metadata": {
        "id": "v_46CrL80wfm"
      },
      "source": [
        "family = ['mother', 'father', 'gentleman', 'son', 'daughter']\n",
        "\n",
        "for x in family:    # family라는 리스트의 각각의 항목 x에 대하여:\n",
        "  print('%s %d' % (x, len(x)))"
      ],
      "execution_count": null,
      "outputs": []
    },
    {
      "cell_type": "markdown",
      "metadata": {
        "id": "ymv0W6cP4k8e"
      },
      "source": [
        "* 제곱 구하기 \n",
        "> 수를 한 개 입력받아 1부터 입력받은 수까지 각각에 대해 제곱을 구해 프린트하는 프로그램을 작성해 보세요"
      ]
    },
    {
      "cell_type": "code",
      "metadata": {
        "id": "_xISfJB32vtN"
      },
      "source": [
        "print(\"input number : \")\n",
        "x = int(input())\n",
        "\n",
        "for i in range(1,x+1):\n",
        "  print (f\"The square of {i} = {i**2} \")"
      ],
      "execution_count": null,
      "outputs": []
    },
    {
      "cell_type": "markdown",
      "metadata": {
        "id": "U1kjffeI60KJ"
      },
      "source": [
        "* 문자열의 해석하여 특정범위의 값의 온도를 변환함\n",
        "> (섭씨온도 × 1.8) + 32 = 화씨온도"
      ]
    },
    {
      "cell_type": "code",
      "metadata": {
        "id": "r9FRHJ3z55Xd"
      },
      "source": [
        "value = '0 10'\n",
        "print(type(value))\n",
        "\n",
        "start, end = value.split()\n",
        "for i in range(int(start), int(end)+1):\n",
        "  print (f'Celsius {i} to Fahrenheit  {(i*1.8) + 32} ')"
      ],
      "execution_count": null,
      "outputs": []
    },
    {
      "cell_type": "markdown",
      "metadata": {
        "id": "z75iKxIKVfM_"
      },
      "source": [
        "(실습) **소수(prime number)** 구하기\n",
        "* 소수는 1과 자신으로만 나누어짐 \n",
        "* 1은 소수가 아님\n",
        "\n",
        "> 정수를 입력받아 소수인지 검사한다, 소수을 판단하기 위해 is_prime을 사용함\n"
      ]
    },
    {
      "cell_type": "code",
      "metadata": {
        "id": "DQCEjGnDTDtW"
      },
      "source": [
        "n = input(\"input a number : \")\n",
        "is_prime = True\n",
        "for x in range(2,n):\n",
        "    if n % x == 0:\n",
        "      print (n, 'equals', x, '*', n/x)\n",
        "      is_prime = False\n",
        "      break\n",
        "\n",
        "if is_prime:\n",
        "    print (n, 'is prime')"
      ],
      "execution_count": null,
      "outputs": []
    },
    {
      "cell_type": "markdown",
      "metadata": {
        "id": "g8-vqX5WOzOu"
      },
      "source": [
        "* 삼각형 패턴 출력하기 "
      ]
    },
    {
      "cell_type": "code",
      "metadata": {
        "id": "E7E7TUHwOfUP"
      },
      "source": [
        "n = 5\n",
        "for i in range (n):\n",
        "    for j in range(i+1):\n",
        "        print (\"* \", end='')\n",
        "    print (\"\\n\")"
      ],
      "execution_count": null,
      "outputs": []
    },
    {
      "cell_type": "code",
      "metadata": {
        "id": "8C4E9ETvOxAL"
      },
      "source": [
        "n = 5\n",
        "print ('\\n'.join(\"* \" * i for i in range(1, n+1)))"
      ],
      "execution_count": null,
      "outputs": []
    },
    {
      "cell_type": "markdown",
      "metadata": {
        "id": "Gjq0JQvbIgKs"
      },
      "source": [
        "**(활용)** for문을 활용하여 새로운 리스트 생성하기"
      ]
    },
    {
      "cell_type": "code",
      "metadata": {
        "id": "wcuaW3NmINov"
      },
      "source": [
        "xlist = []\n",
        "n = 10\n",
        "for i in range(n+1):\n",
        "  xlist.append(i)\n",
        "print (xlist)\n"
      ],
      "execution_count": null,
      "outputs": []
    },
    {
      "cell_type": "code",
      "metadata": {
        "id": "oPHWbz-wNzSm"
      },
      "source": [
        "import random\n",
        "total = 0\n",
        "while total < 100:\n",
        "    total += random.randint(-10,10)\n",
        "    print(total)"
      ],
      "execution_count": null,
      "outputs": []
    },
    {
      "cell_type": "code",
      "metadata": {
        "id": "00c6BNmiOAhu"
      },
      "source": [
        "import random\n",
        "total = 0\n",
        "i = 0\n",
        "while total < 100:\n",
        "    total += random.randint(-10,10)\n",
        "    print(total)\n",
        "    i += 1\n",
        "    if i == 1000000:\n",
        "       break"
      ],
      "execution_count": null,
      "outputs": []
    },
    {
      "cell_type": "markdown",
      "metadata": {
        "id": "tt4Fc5Rfcoft"
      },
      "source": [
        "###for - else\n",
        "* for문과 같은 수준에 else를 추가하여 break없이 빠져나온 경우를 처리\n",
        "*  간결해지면서 가독성이 높음\n",
        "\n",
        "\n",
        "> num = 8 에서 반복루프를 빠져나오기때문에, else문이 실행이 되지 않고\n",
        "**list contains numbers greater than 5** 이 출력 됨"
      ]
    },
    {
      "cell_type": "code",
      "metadata": {
        "id": "AQXtL0ytcbzv"
      },
      "source": [
        "lst = [1,2,3,4,8]\n",
        "for num in lst:\n",
        "      if num >5:\n",
        "          print (\"list contains numbers greater than 5\")\n",
        "          break\n",
        "else:\n",
        "      print(\"list contains numbers less than 5\")"
      ],
      "execution_count": null,
      "outputs": []
    },
    {
      "cell_type": "markdown",
      "metadata": {
        "id": "4-jjcrThd4wM"
      },
      "source": [
        "> for loop가 break없이 빠져나왔으므로 **list contains numbers less than 5** 가 출력이 된다."
      ]
    },
    {
      "cell_type": "code",
      "metadata": {
        "id": "KGesyPv4d0Wp"
      },
      "source": [
        "lst = [1,2,3,4]\n",
        "for num in lst:\n",
        "      if (가   ):\n",
        "          print (\"list contains numbers greater than 10\")\n",
        "          break\n",
        "(나.  ):\n",
        "      (f\"average = {(다.  ) }     ) "
      ],
      "execution_count": null,
      "outputs": []
    },
    {
      "cell_type": "code",
      "metadata": {
        "id": "WZ4wF7UtIEWI"
      },
      "source": [
        "lst = [1,2,3,4, 8]\n",
        "for num in lst:\n",
        "      if 10 < num:\n",
        "          print (\"list contains numbers greater than 10\")\n",
        "          break\n",
        "else:\n",
        "      print(f\"average = {sum(lst)/len(lst)}\"     ) "
      ],
      "execution_count": null,
      "outputs": []
    },
    {
      "cell_type": "markdown",
      "metadata": {
        "id": "Gs16zG2W6JOA"
      },
      "source": [
        "## (실습) for-else 문으로 자료에서 특정한 조건의 자료 합과 평균을 구한다.\n",
        "\n",
        "> 자료가 0보다 작으면 수행을 멈춘다"
      ]
    },
    {
      "cell_type": "code",
      "metadata": {
        "id": "It2QQlJdJj4I"
      },
      "source": [
        "# 다음 리스트에서 50점 이상의 점수들의 총합을 구하시오.\n",
        "marks=[90,-10, 25,67,45,80]\n",
        "#marks=[90,10, 25,67,45,80]\n",
        "\n",
        "\n",
        "total = 0\n",
        "i = 0\n",
        "\n",
        "higher_cnt = 0\n",
        "for i in range(len(marks)):\n",
        "    #print(f'i = {i}')\n",
        "    if marks[i] < 0:\n",
        "        break\n",
        "    if marks[i] >= 50:\n",
        "        higher_cnt += 1\n",
        "        total = total + marks[i]\n",
        "else:\n",
        "    print (\"50점 이상의 점수들의 총합 = %d\" % total)\n",
        "    print (\"50점 이상의 점수들의 평균 = %d\" % (total/higher_cnt))\n"
      ],
      "execution_count": null,
      "outputs": []
    },
    {
      "cell_type": "markdown",
      "metadata": {
        "id": "Ip0AKsP656X8"
      },
      "source": [
        "## (실습) 소수(prime number) 구하기\n",
        "* 1과 자신으로만 나누어지는 수를 소수로 정의함 \n",
        "* 소수가 아닌경우 반복을 종료하고 **반복을 정상적으로 마치는 경우 else 수행** 소수 출력"
      ]
    },
    {
      "cell_type": "code",
      "metadata": {
        "id": "xO7tbgxK56X9"
      },
      "source": [
        "for n in range(2,10):\n",
        "  for x in range(2,n):\n",
        "    if n % x == 0:\n",
        "      print (n, 'equals', x, '*', n/x)\n",
        "      break\n",
        "  else:\n",
        "    # loop fell through without finding a factor(0으로 나누어지는 값)\n",
        "    print (n, 'is prime')"
      ],
      "execution_count": null,
      "outputs": []
    },
    {
      "cell_type": "markdown",
      "metadata": {
        "id": "OfV8osUGw_9h"
      },
      "source": [
        "# 리스트 컴프리핸션(List Comprehension)\n",
        "\n",
        "* 기존의 리스트형을 사용하여 간단하게 새로운 리스트를  생성할 수 있음 \n",
        "* 문법\n",
        "```\n",
        "[<expression> for <variable> in <list>]\n",
        "```\n",
        "* 사용 예\n",
        "```\n",
        "result = [i for i in range(10)]\n",
        "result\n",
        "[0, 1, 2, 3, 4, 5, 6, 7, 8, 9]\n",
        "```"
      ]
    },
    {
      "cell_type": "markdown",
      "metadata": {
        "id": "d19Y0xl-Sqgi"
      },
      "source": [
        "> 반복문을 사용한 리스트 구성 "
      ]
    },
    {
      "cell_type": "code",
      "metadata": {
        "id": "2vl-e7AmRvmk"
      },
      "source": [
        "result = []\n",
        "for i in range(10):\n",
        "    if i % 2 == 0:\n",
        "        result.append(i)\n",
        "\n",
        "print (result)"
      ],
      "execution_count": null,
      "outputs": []
    },
    {
      "cell_type": "markdown",
      "metadata": {
        "id": "sP6uvCBGSM3D"
      },
      "source": [
        "> 리스트 컴프리핸션으로 재작성\n",
        "\n",
        "* 조건을 갖는 경우 \n",
        "```\n",
        "[<expression> for <variable> in <list> if <condition>]\n",
        "```"
      ]
    },
    {
      "cell_type": "code",
      "metadata": {
        "id": "zxkwyjlkzVvd"
      },
      "source": [
        "[i for i in range(10) if i % 2 == 0 ]"
      ],
      "execution_count": null,
      "outputs": []
    },
    {
      "cell_type": "code",
      "metadata": {
        "id": "kmp6N4qPSab6"
      },
      "source": [
        "result = [i for i in range(10) if i % 2 == 0]\n",
        "print(result)"
      ],
      "execution_count": null,
      "outputs": []
    },
    {
      "cell_type": "code",
      "metadata": {
        "id": "3thhIS8DTU4M"
      },
      "source": [
        "# 조건이 True이면 해당값을 False이면 10으로 값으로 구성\n",
        "result = [i if i % 2 ==0 else 10 for i in range(10)]\n",
        "result"
      ],
      "execution_count": null,
      "outputs": []
    },
    {
      "cell_type": "markdown",
      "metadata": {
        "id": "e4YRIAcmS1a9"
      },
      "source": [
        "실습\n",
        "> 1에서 4까지 정수로 구성된 리스트 구성"
      ]
    },
    {
      "cell_type": "code",
      "metadata": {
        "id": "vHAiareOw6iR"
      },
      "source": [
        "nums= [x+1 for x in range(5)]\n",
        "nums"
      ],
      "execution_count": null,
      "outputs": []
    },
    {
      "cell_type": "markdown",
      "metadata": {
        "id": "3fT2m8L9S8Uk"
      },
      "source": [
        "> 리스트값의 제곱구하기\n"
      ]
    },
    {
      "cell_type": "code",
      "metadata": {
        "id": "cWNx4INjj5Gt"
      },
      "source": [
        "a = [] # Empty list\n",
        "list1= [1,2,3,4]\n",
        "for i in list1:\n",
        "  sq = i**2\n",
        "  a.append(sq)\n",
        "\n",
        "print (a)"
      ],
      "execution_count": null,
      "outputs": []
    },
    {
      "cell_type": "code",
      "metadata": {
        "id": "-umh6nns1X2s"
      },
      "source": [
        "[x ** 2 for x in [1,2,3,4]]"
      ],
      "execution_count": null,
      "outputs": []
    },
    {
      "cell_type": "markdown",
      "metadata": {
        "id": "rd361kCtkKC3"
      },
      "source": [
        "리스트 컴프리핸션으로 구성하기"
      ]
    },
    {
      "cell_type": "code",
      "metadata": {
        "id": "DihATZ9FDxOr"
      },
      "source": [
        "squares = [x ** 2 for x in nums]\n",
        "print(squares)   # Prints [1, 4, 9, 16]"
      ],
      "execution_count": null,
      "outputs": []
    },
    {
      "cell_type": "code",
      "metadata": {
        "id": "FD1QQ6aRqMxA"
      },
      "source": [
        "#del sum\n",
        "list_a=[1,2,3,4]\n",
        "list_b=[5,6,7,8]\n",
        "elementwise_sum=[sum(pair) for pair in zip(list_a,list_b)]\n",
        "elementwise_sum"
      ],
      "execution_count": null,
      "outputs": []
    },
    {
      "cell_type": "code",
      "metadata": {
        "id": "XP-Z7cpDxWcR"
      },
      "source": [
        "list(range(1,5))"
      ],
      "execution_count": null,
      "outputs": []
    },
    {
      "cell_type": "code",
      "metadata": {
        "id": "xUWiAi8cxjto"
      },
      "source": [
        "[x for x in range(1,10) if x % 2 == 0]"
      ],
      "execution_count": null,
      "outputs": []
    },
    {
      "cell_type": "code",
      "metadata": {
        "id": "YEaYSYKlxsJb"
      },
      "source": [
        "[x + 4 for x in [10, 20]]"
      ],
      "execution_count": null,
      "outputs": []
    },
    {
      "cell_type": "code",
      "metadata": {
        "id": "gFwdY5zLx7dl"
      },
      "source": [
        "def some_function(a):\n",
        "    return (a + 5) / 2\n",
        "    \n",
        "m = [some_function(i) for i in range(8)]\n",
        "print(m)"
      ],
      "execution_count": null,
      "outputs": []
    },
    {
      "cell_type": "code",
      "metadata": {
        "id": "AJLM7XMtyD2t"
      },
      "source": [
        "[[j for j in range(3)] for i in range(4)]"
      ],
      "execution_count": null,
      "outputs": []
    },
    {
      "cell_type": "code",
      "metadata": {
        "id": "_y_VxVfwyR_I"
      },
      "source": [
        "{s for s in range(1,5) if s % 2}"
      ],
      "execution_count": null,
      "outputs": []
    },
    {
      "cell_type": "code",
      "metadata": {
        "id": "EqMmJvbWyau4"
      },
      "source": [
        "{x: x**2 for x in (2, 4, 6)}"
      ],
      "execution_count": null,
      "outputs": []
    },
    {
      "cell_type": "code",
      "metadata": {
        "id": "HatKPS-5wqjj"
      },
      "source": [
        "matrix = [[1, 2, 3], [4, 5, 6], [7, 8, 9]]\n",
        "flat = [x for row in matrix for x in row]\n",
        "flat"
      ],
      "execution_count": null,
      "outputs": []
    },
    {
      "cell_type": "code",
      "metadata": {
        "id": "yK2WiqkHw1Lk"
      },
      "source": [
        "squared = [[x**2 for x in row] for row in matrix]\n",
        "print(squared)"
      ],
      "execution_count": null,
      "outputs": []
    },
    {
      "cell_type": "markdown",
      "metadata": {
        "id": "st2TOp42UMRu"
      },
      "source": [
        "> 두개의 문자열의 원소(문자)를 얻어 새로운 문자열 집합을 구성함"
      ]
    },
    {
      "cell_type": "code",
      "metadata": {
        "id": "Q20XrbrjT9G1"
      },
      "source": [
        "word1 = \"Hello\"\n",
        "word2 = \"World\"\n",
        "\n",
        "result = [ i + j for i in word1 for j in word2]\n",
        "result"
      ],
      "execution_count": null,
      "outputs": []
    },
    {
      "cell_type": "code",
      "metadata": {
        "id": "EjI1VypMIGzl"
      },
      "source": [
        "marks = [10,20,40, 70, 25, 60]\n",
        "\n",
        "low = [x for x in sorted(marks) if x < 60 ]\n",
        "# low = [x for x in marks if x < 60 ]\n",
        "print (low)"
      ],
      "execution_count": null,
      "outputs": []
    },
    {
      "cell_type": "markdown",
      "metadata": {
        "id": "eMXdqgTqqVv4"
      },
      "source": [
        "0 에서 10까지 반복하며 짝수를 반환하여 새로운 결과를 리스트로 구성 (리스트 컴프리핸션 포함)"
      ]
    },
    {
      "cell_type": "code",
      "metadata": {
        "id": "KSsCm7vyqVv4"
      },
      "source": [
        "my_list = []\n",
        "for number in range(0, 10):\n",
        "    if number % 2 == 0:\n",
        "        my_list.append(number)\n",
        "my_list"
      ],
      "execution_count": null,
      "outputs": []
    },
    {
      "cell_type": "code",
      "metadata": {
        "id": "S5Um7sssqVv7"
      },
      "source": [
        "my_list = [number for number in range(0, 10) if number % 2 == 0]\n",
        "my_list"
      ],
      "execution_count": null,
      "outputs": []
    },
    {
      "cell_type": "markdown",
      "metadata": {
        "id": "g2ensOAjGY1X"
      },
      "source": [
        "# random 패지키 사용하기"
      ]
    },
    {
      "cell_type": "code",
      "metadata": {
        "id": "hr95HQctGd-o"
      },
      "source": [
        "import random\n",
        "set1 = [ 1, 2, 3, 4, 5 ]\n",
        "random.sample(set1, 2)\n"
      ],
      "execution_count": null,
      "outputs": []
    },
    {
      "cell_type": "markdown",
      "metadata": {
        "id": "XjFfNK05Ka5J"
      },
      "source": [
        "# 함수\n",
        "* 프로그래밍 과정에서  같은 내용 또는 유사한 내용을 반복해서 작성하는 경우,  함수는 반복되는 부분을 별도로 정의하여 필요할 때 사용할 수 있도록 함\n",
        "* 특정작업을 나타내는 코드블록\n",
        "* 사용자가 만드는 사용자 정의함수와 print() 함수와 같은 파이썬 제공 내장함수가 있음 \n",
        "\n",
        "\n",
        "> 내장함수가 있으면 최대한 활용하도록 하는것이 효과적임 \n",
        "* https://docs.python.org/ko/3/library/functions.html  \n",
        "\n",
        "``` \n",
        "def 함수명(인수):\n",
        "    명령문1\n",
        "    명령문2\n",
        "    return 1개 이상의 변수\n",
        "\n",
        "def 함수명(*인수):\n",
        "    명령문1\n",
        "    명령문2\n",
        "    return 1개 이상의 변수\n",
        "\n",
        "```\n"
      ]
    },
    {
      "cell_type": "markdown",
      "metadata": {
        "id": "klOylzverw8u"
      },
      "source": [
        "### 함수 사용 이점 \n",
        "*  프로그램 안에서 중복된 코드를 제거\n",
        "*  복잡한 프로그래밍 작업을 더 간단한 작업들로 분해\n",
        "*  한번 만들어 다른 프로그램에서도 재사용\n",
        "*  가독성이 증대\n",
        "*  유지 관리도 쉬워짐"
      ]
    },
    {
      "cell_type": "code",
      "metadata": {
        "id": "C8HubZ2-C7VH"
      },
      "source": [
        "def print_star():\n",
        "    print(\"*****\")\n",
        "\n",
        "print_star()\n",
        "print_star()"
      ],
      "execution_count": null,
      "outputs": []
    },
    {
      "cell_type": "code",
      "metadata": {
        "id": "ySpjKyFHGvKS"
      },
      "source": [
        "def get_area(r=10):\n",
        "    return r * r * 3.14\n",
        "\n",
        "#area = get_area(20)\n",
        "\n",
        "area = get_area()\n",
        "print (area)"
      ],
      "execution_count": null,
      "outputs": []
    },
    {
      "cell_type": "code",
      "metadata": {
        "id": "x_7CDVVEHzyT"
      },
      "source": [
        "a = 1\n",
        "def vartest(): \n",
        "    global a\n",
        "    a = a + 1\n",
        "     \n",
        "\n",
        "vartest()\n",
        "print(a)"
      ],
      "execution_count": null,
      "outputs": []
    },
    {
      "cell_type": "code",
      "metadata": {
        "id": "vPCUzg4pD_b_"
      },
      "source": [
        "def get_sum(start, end):\n",
        "    total = 0\n",
        "    for i in range(start, end+1):\n",
        "        total = total + i\n",
        "    return total\n",
        "\n",
        "value = get_sum(1, 10)\n",
        "print (value)"
      ],
      "execution_count": null,
      "outputs": []
    },
    {
      "cell_type": "code",
      "metadata": {
        "id": "SCPOhvu-KvrQ"
      },
      "source": [
        "def mul(x):\n",
        "  return (x**2)\n",
        "\n",
        "xlist = [1,2,3,4]\n",
        "for x in xlist:\n",
        "  y = mul(x)\n",
        "  print (f\"{y} = {x}**2\")"
      ],
      "execution_count": null,
      "outputs": []
    },
    {
      "cell_type": "code",
      "metadata": {
        "id": "0Lf_dQjPXXge"
      },
      "source": [
        "def sign(x):\n",
        "    if x > 0:\n",
        "        return 'positive'\n",
        "    elif x < 0:\n",
        "        return 'negative'\n",
        "    else:\n",
        "        return 'zero'\n",
        "\n",
        "for x in [-1, 0, 1]:\n",
        "    print(sign(x))"
      ],
      "execution_count": null,
      "outputs": []
    },
    {
      "cell_type": "code",
      "metadata": {
        "id": "j_FveMajXXgm"
      },
      "source": [
        "def hello(name, loud=False):\n",
        "    if loud:\n",
        "        print('HELLO, %s!' % name.upper())\n",
        "    else:\n",
        "        print('Hello, %s' % name)\n",
        "\n",
        "hello('Bob') # Prints \"Hello, Bob\"\n",
        "hello('Fred', loud=True)  # Prints \"HELLO, FRED!\""
      ],
      "execution_count": null,
      "outputs": []
    },
    {
      "cell_type": "code",
      "metadata": {
        "id": "45NRu80WR6tE"
      },
      "source": [
        "# 함수선언에서 hello 는 함수 이름이며, 매개변수 없이 구성되어 있다.\n",
        "# 즉, 함수를 호출할 때 전달되는 값이 없다. \n",
        "\n",
        "def hello():\n",
        "    print (\"hello Python!\")"
      ],
      "execution_count": null,
      "outputs": []
    },
    {
      "cell_type": "code",
      "metadata": {
        "id": "qZiF0B4kH2Dr"
      },
      "source": [
        "def is_prime_number(n):\n",
        "    is_prime = True\n",
        "    for x in range(2,n//2):\n",
        "        if n % x == 0:\n",
        "            #print (n, 'equals', x, '*', n/x)\n",
        "            is_prime = False\n",
        "            break\n",
        "    return is_prime\n",
        "\n",
        "n = int(input(\"input a number : \"))\n",
        "\n",
        "if is_prime_number(n):\n",
        "    print (n, 'is prime')\n",
        "else:\n",
        "    print (n, 'is not prime')"
      ],
      "execution_count": null,
      "outputs": []
    },
    {
      "cell_type": "markdown",
      "metadata": {
        "id": "Td934V3OCAM4"
      },
      "source": [
        "* (실습) 재귀함수 작성\n",
        "> factorial 구하기\n",
        "\n",
        "5 ! = 5 * 4 * 3 * 2 * 1\n",
        "\n",
        "```\n",
        "factorial(5) = 5 * factorial(4)\n",
        "facotrial(4) = 4 * factorial(3)\n",
        "factorial(3) = 3 * factorial(2)\n",
        "factorial(2) = 2 * factorial(1)\n",
        "factorial(1) = 1 \n",
        "```\n",
        "\n"
      ]
    },
    {
      "cell_type": "markdown",
      "metadata": {
        "id": "43CQ5IOqDfj2"
      },
      "source": [
        "* for 문으로 작성된것은 재귀함수로 변환될수 있음"
      ]
    },
    {
      "cell_type": "code",
      "metadata": {
        "id": "uhPgWWRKC57Z"
      },
      "source": [
        "def factorial(n):\n",
        "    if n == 1:\n",
        "        return 1\n",
        "    else:\n",
        "        return n * factorial(n-1)\n",
        "\n",
        "\n",
        "result = factorial(5)\n",
        "print (result)"
      ],
      "execution_count": null,
      "outputs": []
    },
    {
      "cell_type": "markdown",
      "metadata": {
        "id": "B_m3JZpNKYzE"
      },
      "source": [
        "1에서 n까지 합을 구하는 함수 sum() 재귀함수로 작성"
      ]
    },
    {
      "cell_type": "code",
      "metadata": {
        "id": "H_v09uikKg16"
      },
      "source": [
        "def sum(n=1):\n",
        "    if n == 1:\n",
        "        return 1\n",
        "    else:\n",
        "        return n + sum(n-1)\n",
        "\n",
        "result = sum(10)\n",
        "print (f\"result = {result}\")\n",
        "\n",
        "\n",
        "result = sum()\n",
        "print (f\"result = {result}\")\n"
      ],
      "execution_count": null,
      "outputs": []
    },
    {
      "cell_type": "markdown",
      "metadata": {
        "id": "tJFgVkBJElID"
      },
      "source": [
        "### (실습) 원의 넓이 구하기 "
      ]
    },
    {
      "cell_type": "code",
      "metadata": {
        "id": "l0dwD2tjErxB"
      },
      "source": [
        "def get_area_circle  (r=10):\n",
        "    return r * r * 3.14\n",
        "\n",
        "print (get_area_circle())\n"
      ],
      "execution_count": null,
      "outputs": []
    },
    {
      "cell_type": "code",
      "metadata": {
        "id": "FxS86yTkY-n3"
      },
      "source": [
        "hello()\n",
        "hello()"
      ],
      "execution_count": null,
      "outputs": []
    },
    {
      "cell_type": "markdown",
      "metadata": {
        "id": "xeOArhOMZLr3"
      },
      "source": [
        "함수의 이름은 $hello2$ 이고 입력으로 1개의 값을 전달 받으며 결과값은 반환하지 않는다"
      ]
    },
    {
      "cell_type": "code",
      "metadata": {
        "id": "umVGJONfZW1p"
      },
      "source": [
        "def hello2(name):\n",
        "    print (\"hello\", name)"
      ],
      "execution_count": null,
      "outputs": []
    },
    {
      "cell_type": "code",
      "metadata": {
        "id": "JIZNK39ZZbZZ"
      },
      "source": [
        "hello2(\"Justin\")\n",
        "hello2(\"John\")"
      ],
      "execution_count": null,
      "outputs": []
    },
    {
      "cell_type": "markdown",
      "metadata": {
        "id": "Cv6gYPpDzkmw"
      },
      "source": [
        " (오류) 함수 $my\\_function$ 은 2 개 인수를 필요하지만 1개만 있음"
      ]
    },
    {
      "cell_type": "code",
      "metadata": {
        "id": "jIQcLno4zgA_"
      },
      "source": [
        "def my_function(fname, lname):\n",
        "  print(fname + \" \" + lname)\n",
        "\n",
        "my_function(\"Emil\")"
      ],
      "execution_count": null,
      "outputs": []
    },
    {
      "cell_type": "markdown",
      "metadata": {
        "id": "EKESjEhnZfhy"
      },
      "source": [
        "함수 이름은 $add$ 이고 입력으로 2개의 값을 전달 받으며 결과값은 2개의 입력값을 더한 값을 반환한다."
      ]
    },
    {
      "cell_type": "code",
      "metadata": {
        "id": "gptXOGSSZnWO"
      },
      "source": [
        "def add(a, b): \n",
        "    return a + b"
      ],
      "execution_count": null,
      "outputs": []
    },
    {
      "cell_type": "code",
      "metadata": {
        "id": "sUprLVzHZqWO"
      },
      "source": [
        "a = 3\n",
        "b = 4\n",
        "c = add(a, b)\n",
        "print (\"add() 함수 반환값 = \", c, end ='\\n')"
      ],
      "execution_count": null,
      "outputs": []
    },
    {
      "cell_type": "markdown",
      "metadata": {
        "id": "moWNF2f5bJqV"
      },
      "source": [
        "두 수를 입력으로 받아 x와 y의 2개의 값을 곱한 결과값를 반환한다.  \n",
        "```python\n",
        "def multiply_two_numbers(x, y):\n",
        "    result = x * y\n",
        "    return result\n",
        "```"
      ]
    },
    {
      "cell_type": "markdown",
      "metadata": {
        "id": "_hs54r9pdAVM"
      },
      "source": [
        "result 에 두수 x와 y의 곱한 결과를 저장하지 않고 결과값을 반환한다.  "
      ]
    },
    {
      "cell_type": "code",
      "metadata": {
        "id": "2D7kHXB2b3cP"
      },
      "source": [
        "def multiply_two_numbers(x, y):\n",
        "    return x * y"
      ],
      "execution_count": null,
      "outputs": []
    },
    {
      "cell_type": "code",
      "metadata": {
        "id": "OY0jSwzmcZfW"
      },
      "source": [
        "x = 10\n",
        "y = 20\n",
        "print (\"두 값의 곱하기 결과 : \",  multiply_two_numbers(x, y))"
      ],
      "execution_count": null,
      "outputs": []
    },
    {
      "cell_type": "markdown",
      "metadata": {
        "id": "ArEFjElMzqFC"
      },
      "source": [
        "## 함수의 범위\n",
        "*지역변수* a 는 함수 호출 이후 변경되지 안은 전 값을 가짐"
      ]
    },
    {
      "cell_type": "code",
      "metadata": {
        "id": "32azoqyBQRWy"
      },
      "source": [
        "a = 1\n",
        "def vartest(a):\n",
        "    a = a + 1\n",
        "\n",
        "vartest(a)\n",
        "print(a)"
      ],
      "execution_count": null,
      "outputs": []
    },
    {
      "cell_type": "code",
      "metadata": {
        "id": "wLMEodFSRHRM"
      },
      "source": [
        "a = 1\n",
        "def vartest():\n",
        "    global a\n",
        "    a = a + 1\n",
        "\n",
        "vartest()\n",
        "print(a)\n"
      ],
      "execution_count": null,
      "outputs": []
    },
    {
      "cell_type": "code",
      "metadata": {
        "id": "Zk9ib5g3zo19"
      },
      "source": [
        "def foo(a):\n",
        "    a = a+5\n",
        "    print(a)             # prints 15\n",
        "\n",
        "a = 10\n",
        "foo(a)\n",
        "print(a)                 # prints 10"
      ],
      "execution_count": null,
      "outputs": []
    },
    {
      "cell_type": "markdown",
      "metadata": {
        "id": "bJkSTCP9NdoP"
      },
      "source": [
        "함수 외부의 변수 gx 는 전역 변수로서 프로그램 어디에서나 사용할 수 있음"
      ]
    },
    {
      "cell_type": "code",
      "metadata": {
        "id": "Sydlk8RoNL8N"
      },
      "source": [
        "gx=100\n",
        "\n",
        "def myfunc():\n",
        "    print (gx)\n",
        "\n",
        "myfunc()\n",
        "print (gx)"
      ],
      "execution_count": null,
      "outputs": []
    },
    {
      "cell_type": "code",
      "metadata": {
        "id": "IqgOYrx2M0RX"
      },
      "source": [
        "def myfunc():\n",
        "    x = 200\n",
        "    print (x)\n",
        "\n",
        "def main():\n",
        "    x = 100\n",
        "    print(x)\n",
        "myfunc()\n",
        "main ()"
      ],
      "execution_count": null,
      "outputs": []
    },
    {
      "cell_type": "markdown",
      "metadata": {
        "id": "ibzbl9QZN1b8"
      },
      "source": [
        "함수 안에서 전역변수 변경하기"
      ]
    },
    {
      "cell_type": "code",
      "metadata": {
        "id": "keOHXECGMXwW"
      },
      "source": [
        "gx=100\n",
        "\n",
        "def myfunc():\n",
        "    global gx\n",
        "    gx = 200\n",
        "    print (gx)\n",
        "\n",
        "myfunc()\n",
        "print (gx)"
      ],
      "execution_count": null,
      "outputs": []
    },
    {
      "cell_type": "markdown",
      "metadata": {
        "id": "GBycpyXc0BH-"
      },
      "source": [
        "리스트는 인수의 전달값을 참조한 후 자료 변경값이 유지됨"
      ]
    },
    {
      "cell_type": "code",
      "metadata": {
        "id": "sUpENW33z_S7"
      },
      "source": [
        "def foo(lst):\n",
        "    lst = lst + ['new entry']  # 변경된 lst 는 지역변수임\n",
        "    print(lst)                # Prints ['Book', 'Pen', 'new entry']\n",
        "\n",
        "lst = ['Book', 'Pen']\n",
        "print(lst)                    # Prints ['Book', 'Pen']\n",
        "foo(lst)\n",
        "print(lst)                    # Prints ['Book', 'Pen']"
      ],
      "execution_count": null,
      "outputs": []
    },
    {
      "cell_type": "code",
      "metadata": {
        "id": "7tnzbvju0Rbx"
      },
      "source": [
        "def foo(lst):\n",
        "    lst[1] = 'new entry'\n",
        "    print(lst)                # Prints ['Book', 'new entry']\n",
        "\n",
        "lst = ['Book', 'Pen']\n",
        "print(lst)                     # Prints ['Book', 'Pen']\n",
        "foo(lst)\n",
        "print(lst)                     # Prints ['Book', 'new entry']"
      ],
      "execution_count": null,
      "outputs": []
    },
    {
      "cell_type": "code",
      "metadata": {
        "id": "LoncFwom0qBs"
      },
      "source": [
        "def foo(lst):\n",
        "    lst = lst[:]\n",
        "    lst[1] = 'new entry'\n",
        "    print(lst)                   # Prints ['Book', 'new entry']\n",
        "\n",
        "lst = ['Book', 'Pen']\n",
        "print(lst)                       # Prints ['Book', 'Pen']\n",
        "foo(lst)\n",
        "print(lst) "
      ],
      "execution_count": null,
      "outputs": []
    },
    {
      "cell_type": "markdown",
      "metadata": {
        "id": "jsX1VupmrqOB"
      },
      "source": [
        "### 실습목표 \n",
        "\n",
        "* 작성된 내용을 함수를 사용하여 재작성함\n",
        "* 함수를 사용할때 이점을 이해함\n",
        "\n",
        "\n",
        "---\n",
        "* 함수를 사용하지 않은 코드 구성을 이해함"
      ]
    },
    {
      "cell_type": "code",
      "metadata": {
        "id": "lVN1I445rRxI"
      },
      "source": [
        "all_list = [1,2,3,4,5]\n",
        "even_list = []\n",
        "for i in all_list:\n",
        "  if i % 2 == 0:\n",
        "    even_list.append(i)\n",
        "\n",
        "print (even_list)"
      ],
      "execution_count": null,
      "outputs": []
    },
    {
      "cell_type": "markdown",
      "metadata": {
        "id": "nRVQ_cBHD6sA"
      },
      "source": [
        "## 매개변수와 인수 \n",
        "\n",
        "* 함수는 정의 후 호출을 통해 사용됨 \n",
        "* 함수 호출을 통해 데이터를 전달하게 되며, 이를 호출부분에서의 해당 값을 인수(argument)하고 하고 정의부에서 매개변수(parameter) 라고 함\n",
        "\n",
        "\n",
        "> (수업내용) openAPI 를 사용한 데이터 요청, 데이터 처리 및 데이터 저장을 각각 함수로 작성함"
      ]
    },
    {
      "cell_type": "markdown",
      "metadata": {
        "id": "h3FSc1SIZ2v8"
      },
      "source": [
        "## 자료 검색 함수\n",
        "리스트에서 자료 검색하기 위해 함수 search_list()를 작성하고 함수 search_list()의 호출을 보인 것이다. "
      ]
    },
    {
      "cell_type": "code",
      "metadata": {
        "id": "mTjWxEFsZv2E"
      },
      "source": [
        "def search_list(a, x):\n",
        "    n = len(a)\n",
        "    for i in range(0,n): # 리스트 a의 모든 값을 차례로 \n",
        "        if x == a[i]:    # x값과 비교함\n",
        "           return i\n",
        "    return -1            # 끝까지 비교해도 없으면 -1을 돌려줌 \n"
      ],
      "execution_count": null,
      "outputs": []
    },
    {
      "cell_type": "code",
      "metadata": {
        "id": "To_bIfxEsVVO"
      },
      "source": [
        "v = [1, 2, 3, 4, 5, 6, 7, 8, 9]\n",
        "print ( search_list(v, 20))"
      ],
      "execution_count": null,
      "outputs": []
    },
    {
      "cell_type": "markdown",
      "metadata": {
        "id": "T035xYSccjAC"
      },
      "source": [
        "### (실습) 10진수 이진수로 변경하기 \n",
        "\n",
        "![image.png](data:image/png;base64,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)"
      ]
    },
    {
      "cell_type": "code",
      "metadata": {
        "id": "ljPRxFvLaP-9"
      },
      "source": [
        "decimal = 10\n",
        "result = ' '\n",
        "while (decimal > 0):\n",
        "   remainder = decimal % 2\n",
        "   decimal = decimal // 2\n",
        "   result = str(remainder) + result\n",
        "print(result) "
      ],
      "execution_count": null,
      "outputs": []
    },
    {
      "cell_type": "code",
      "metadata": {
        "id": "BIqLsHR0d2am"
      },
      "source": [
        "#10진수 이진수로 변경하기 함수 활용 "
      ],
      "execution_count": null,
      "outputs": []
    },
    {
      "cell_type": "code",
      "metadata": {
        "id": "5on35javcoXO"
      },
      "source": [
        "def dec2bin(decimal):\n",
        "  result = ' '\n",
        "  while (decimal > 0):\n",
        "     remainder = decimal % 2\n",
        "     decimal = decimal // 2\n",
        "     result = str(remainder) + result\n",
        "\n",
        "  return result"
      ],
      "execution_count": null,
      "outputs": []
    },
    {
      "cell_type": "code",
      "metadata": {
        "id": "ipu1lN56c8Lq"
      },
      "source": [
        "print (dec2bin(10))"
      ],
      "execution_count": null,
      "outputs": []
    },
    {
      "cell_type": "code",
      "metadata": {
        "id": "dQfNMngqWMU_"
      },
      "source": [
        "decimal = 11\n",
        "result = [] \n",
        "while (decimal > 0):\n",
        "    remainder = decimal % 2\n",
        "    decimal = decimal // 2\n",
        "    result.append(str(remainder))\n",
        "\n",
        "print (result)\n",
        "\n",
        "while result:\n",
        "    x = result.pop()\n",
        "    print (x, end = \" \")\n",
        "\n",
        "\n"
      ],
      "execution_count": null,
      "outputs": []
    },
    {
      "cell_type": "markdown",
      "metadata": {
        "id": "jmCSp7pSeLqc"
      },
      "source": [
        "### (실습) 함수의 재구성 \n",
        "\n",
        "키보드를 통하여 학생 점수를 0점 숫자가 나올 때까지 입력받아 0점을 제외한 나머지 점수의 평균을 리턴하는 함수 만들기 \n",
        "* 사용자로 부터 점수를 입력받는 함수  get_input_number()\n",
        "* 평균을 구하는 함수 get_average()\n",
        "    "
      ]
    },
    {
      "cell_type": "code",
      "metadata": {
        "id": "_UWf5QY7eLqd"
      },
      "source": [
        "def get_average():\n",
        "    scores = []\n",
        "    while True:\n",
        "        print (\"input number :\")\n",
        "        score = int(input())\n",
        "        if score != 0:\n",
        "            scores.append(score) \n",
        "        else:\n",
        "            break\n",
        "    # print (scores)    \n",
        "    return sum(scores)/len(scores)\n",
        "    \n",
        "avg = get_average()\n",
        "print (\"average = %f\" % avg)"
      ],
      "execution_count": null,
      "outputs": []
    },
    {
      "cell_type": "markdown",
      "metadata": {
        "id": "pueO4TBSem83"
      },
      "source": [
        "(참고) 사용자로 부터 입력을 받아 점수를 리스트로 구성한 후 평균을 구한다"
      ]
    },
    {
      "cell_type": "code",
      "metadata": {
        "id": "CZLqu7B7pBPG"
      },
      "source": [
        "def average(marks):\n",
        "    sum = 0\n",
        "    for t in marks:\n",
        "        sum = sum + int(t)\n",
        "    return sum/len(marks)"
      ],
      "execution_count": null,
      "outputs": []
    },
    {
      "cell_type": "code",
      "metadata": {
        "id": "KGN89CyapBPi"
      },
      "source": [
        "print (\"학생 점수를 입력하세요:\")\n",
        "marks = input()"
      ],
      "execution_count": null,
      "outputs": []
    },
    {
      "cell_type": "code",
      "metadata": {
        "id": "cfUC7T50pBPx"
      },
      "source": [
        "marks = marks.split()"
      ],
      "execution_count": null,
      "outputs": []
    },
    {
      "cell_type": "code",
      "metadata": {
        "id": "WDEmBAGEpBQA"
      },
      "source": [
        "marks"
      ],
      "execution_count": null,
      "outputs": []
    },
    {
      "cell_type": "code",
      "metadata": {
        "id": "FZmBlEl9pBQe"
      },
      "source": [
        "print (average(marks))"
      ],
      "execution_count": null,
      "outputs": []
    },
    {
      "cell_type": "markdown",
      "metadata": {
        "id": "MQbuPKUnfxjp"
      },
      "source": [
        "### (실습) 리스트에서 자료 얻기"
      ]
    },
    {
      "cell_type": "code",
      "metadata": {
        "id": "zTmGb1DyqVvz"
      },
      "source": [
        "# Get the last item for a list\n",
        "def get_last_item(some_list):\n",
        "    last_index = len(some_list) - 1\n",
        "    return some_list[last_index]\n",
        "\n",
        "\n",
        "print(get_last_item(my_list))"
      ],
      "execution_count": null,
      "outputs": []
    },
    {
      "cell_type": "markdown",
      "metadata": {
        "id": "bYxADNpjzDst"
      },
      "source": [
        "## **함수심화**\n",
        "**함수호출 인자 값 전달**\n",
        "\n",
        "* 파이썬은 모든 자료를 \"객체\"로 표현\n",
        "* 함수 호출시 값은 전달하기 객체의 참조(reference)를 전달\n",
        "* 함수가 호출될 때 **mutable은** 변경가능한 객체와  immutable은 변경 불가능한 객체에 따라 처리 동작이 상이함\n",
        "* mutable객체일 때는 참조에 의한 호출로서 계속 동작하게 되지만, immutable객체 일 때는 값에 의한 호출과 같이 동작\n",
        "\n"
      ]
    },
    {
      "cell_type": "code",
      "metadata": {
        "id": "Bk8wjnnD1_j4"
      },
      "source": [
        "#  매개변수x를 통해 wordlist 가 저장된 공간의 주소값을 접근\n",
        "def change(x):\n",
        "    x[0] = 'H'\n",
        "\n",
        "wordlist = ['J', 'A', 'M']\n",
        "change(wordlist)\n",
        "print(wordlist)"
      ],
      "execution_count": null,
      "outputs": []
    },
    {
      "cell_type": "code",
      "metadata": {
        "id": "3Mj08bEd23XD"
      },
      "source": [
        "# 함수호출후에 출력되는 내용은 무엇인가 \n",
        "def change(x):\n",
        "  x.append('H')\n",
        "  x = ['C', 'A', 'M']\n",
        "\n",
        "wordlist = ['J', 'A', 'M']\n",
        "change(wordlist)\n",
        "print(wordlist)\n"
      ],
      "execution_count": null,
      "outputs": []
    },
    {
      "cell_type": "markdown",
      "metadata": {
        "id": "aXZNk5gpbc4D"
      },
      "source": [
        "## 가변인수를 갖는 함수 사용하기\n",
        "**가변 인자**\n",
        "* 인자의 수가 미정일 경우 가변인자를 사용함 \n",
        "* 임의의 개수를 갖는 인자를 가변인자라고 함 \n",
        "* 가변 위치인자(*args)는 임의개수의 위치인자를 tuple형태의 변수로 저장함\n",
        "\n"
      ]
    },
    {
      "cell_type": "code",
      "metadata": {
        "id": "qY-WAF_f0TR6"
      },
      "source": [
        "def add(*args):\n",
        "  sum = 0\n",
        "  for i in args:\n",
        "    sum = sum + i\n",
        "   \n",
        "  return sum\n",
        "\n",
        "print (\"add = \", add(1,2,3))\n",
        "print (\"add = \", add(1,2,3,4))"
      ],
      "execution_count": null,
      "outputs": []
    },
    {
      "cell_type": "code",
      "metadata": {
        "id": "NQOlhepynvYZ"
      },
      "source": [
        "def myFun(*args):\n",
        "    for arg in args:\n",
        "        print (arg)\n",
        "   \n",
        "myFun('Hey', 'Welcome', 'to', 'Techfitlab')"
      ],
      "execution_count": null,
      "outputs": []
    },
    {
      "cell_type": "markdown",
      "metadata": {
        "id": "JDub626pcK0b"
      },
      "source": [
        "가변인자 실습\n",
        "```\n",
        "def avg(x, *args):\n",
        "    # x -> 1\n",
        "    # args -> (2,3,4,5,6)\n",
        "\n",
        "```"
      ]
    },
    {
      "cell_type": "code",
      "metadata": {
        "id": "uooRiu2qblsv"
      },
      "source": [
        "def avg(x,*more):\n",
        "  return float(x+sum(more))/(1+len(more))"
      ],
      "execution_count": null,
      "outputs": []
    },
    {
      "cell_type": "code",
      "metadata": {
        "id": "vpMNH9wEb595"
      },
      "source": [
        "avg(10,11)"
      ],
      "execution_count": null,
      "outputs": []
    },
    {
      "cell_type": "code",
      "metadata": {
        "id": "t6oWz8VQcCch"
      },
      "source": [
        "avg(1,2,3,4,5,6)"
      ],
      "execution_count": null,
      "outputs": []
    },
    {
      "cell_type": "markdown",
      "metadata": {
        "id": "FFqZ-En8obYY"
      },
      "source": [
        "### 디폴트 인수 사용"
      ]
    },
    {
      "cell_type": "code",
      "metadata": {
        "id": "vf4XsbI5oasl"
      },
      "source": [
        "def foo(arg1=0, arg2=0, arg3=0):\n",
        "    print (arg1, arg2, arg3)\n",
        "\n",
        "a,b,c = 1,2,3\n",
        "foo(arg1=b)\n",
        "foo(arg1=a, arg2=b)\n",
        "\n",
        "foo(a, arg2=b)\n",
        "foo(a, arg2=b,c)"
      ],
      "execution_count": null,
      "outputs": []
    },
    {
      "cell_type": "markdown",
      "metadata": {
        "id": "ZQsLXUNvpuji"
      },
      "source": [
        "### 다중인수 처리"
      ]
    },
    {
      "cell_type": "code",
      "metadata": {
        "id": "96MJj506pxuK"
      },
      "source": [
        "def foo(*args):\n",
        "    total = 0\n",
        "    for i in args:\n",
        "        total += i\n",
        "\n",
        "    print (total)\n",
        "\n",
        "a,b,c,d,e = 1,2,3,4,5\n",
        "foo(a,b,c,d,e)"
      ],
      "execution_count": null,
      "outputs": []
    },
    {
      "cell_type": "markdown",
      "metadata": {
        "id": "LngNBThiGAVX"
      },
      "source": [
        "### **딕셔너리** 자료 처리 \n",
        "* **kwargs 는 키워드 인자로 구성된 딕셔너리 \n",
        "* ** 는 임의의 갯수를 갖는 키워드 인자를 전달함  "
      ]
    },
    {
      "cell_type": "code",
      "metadata": {
        "id": "mCtxT9ONFq5o"
      },
      "source": [
        "x = {'name': '홍길동', 'age': 30, 'address': '서울시 용산구 이촌동'}"
      ],
      "execution_count": null,
      "outputs": []
    },
    {
      "cell_type": "code",
      "metadata": {
        "id": "ts4wlYmlGK2i"
      },
      "source": [
        " def personal_info(name, age, address):\n",
        "    print('이름: ', name)\n",
        "    print('나이: ', age)\n",
        "    print('주소: ', address)"
      ],
      "execution_count": null,
      "outputs": []
    },
    {
      "cell_type": "code",
      "metadata": {
        "id": "t9PBA-tCGWPt"
      },
      "source": [
        "personal_info(**x)"
      ],
      "execution_count": null,
      "outputs": []
    },
    {
      "cell_type": "code",
      "metadata": {
        "id": "ZwOwvNv9HtZI"
      },
      "source": [
        "x = {'name': '홍길동', 'age': 30, 'address': '서울시 용산구 이촌동'}\n",
        "personal_info(*x)"
      ],
      "execution_count": null,
      "outputs": []
    },
    {
      "cell_type": "code",
      "metadata": {
        "id": "2rSdbMbion77"
      },
      "source": [
        "def concat(**kwargs):\n",
        "    result = \"\"\n",
        "    # Iterating over the Python kwargs dictionary\n",
        "    for arg in kwargs.values():\n",
        "        result += arg\n",
        "    return result\n",
        "\n",
        "print(concat(var_1=\"Hey\", var_2=\"Welcome\", var_3=\"To\", var_4=\"Techfitlab\", var_5=\"!\"))"
      ],
      "execution_count": null,
      "outputs": []
    },
    {
      "cell_type": "markdown",
      "metadata": {
        "id": "MTdKtDCBP88F"
      },
      "source": [
        "## 변수 참조 범위와 전역변수\n",
        " \n",
        "*   함수 avg()의 a와 b 는 함수 내에서만 참조함 \n",
        "*   함수 밖의 a와 b는 함수 내부의 a와 b와 다른 변수임\n",
        "\n"
      ]
    },
    {
      "cell_type": "code",
      "metadata": {
        "id": "n7TVU5pdPqMA"
      },
      "source": [
        "def avg():\n",
        "    a = 0\n",
        "    b = 0\n",
        "    return (a + b) / 2\n",
        "\n",
        "a = 80\n",
        "b = 60\n",
        "\n",
        "print (\"Average = \", avg())\n",
        "print (\"Sum = \", a + b)"
      ],
      "execution_count": null,
      "outputs": []
    },
    {
      "cell_type": "markdown",
      "metadata": {
        "id": "7LKXcbzVQbeR"
      },
      "source": [
        "* 매개변수에 값 전달하여 문제해결하기"
      ]
    },
    {
      "cell_type": "code",
      "metadata": {
        "id": "7rbFNbaLQd5L"
      },
      "source": [
        "def avg(a, b):\n",
        "  return (a + b) / 2\n",
        "\n",
        "a = 80\n",
        "b = 60\n",
        "\n",
        "print (\"Average = \", avg(a,b))\n",
        "print (\"Sum = \", a + b)"
      ],
      "execution_count": null,
      "outputs": []
    },
    {
      "cell_type": "markdown",
      "metadata": {
        "id": "HEuGxcnEwzYq"
      },
      "source": [
        "## 자료 그룹핑하여 빈도 구하기\n",
        "\n",
        "* scores 내의 점수를 10점 단위로 빈도수를 구하고자 한다\n",
        "* 0 점에서 10점 단위로 10개의 구간(bin) 으로 하는 빈도 리스트 counters 를 사용한다\n",
        "* scores 의 읽은 점수 s를 **정수 나누기** 하여 counters의 색인을 구하여 빈도를 갱신한다. "
      ]
    },
    {
      "cell_type": "code",
      "metadata": {
        "id": "mFF8wKFhIGKo"
      },
      "source": [
        "def frequency (scores):\n",
        "  counters = [ 0, 0, 0, 0, 0, 0, 0, 0, 0,0]\n",
        "  for s in scores:\n",
        "    counters[s//10] += 1\n",
        "  return counters"
      ],
      "execution_count": null,
      "outputs": []
    },
    {
      "cell_type": "markdown",
      "metadata": {
        "id": "Zp3z8q_kKeF-"
      },
      "source": [
        "* 연산자 // 대신 / 연산자를 사용하면 연산결과가 실수형이 되므로 인덱스로 사용할 수 없다\n",
        "> list indices must be integers or slices, not float"
      ]
    },
    {
      "cell_type": "code",
      "metadata": {
        "id": "TyDKxMSTIlbq"
      },
      "source": [
        "scores = [ 12, 51, 66, 77,8, 83, 88, 92 ]\n",
        "c = frequency(scores)\n",
        "print (c)\n"
      ],
      "execution_count": null,
      "outputs": []
    },
    {
      "cell_type": "markdown",
      "metadata": {
        "id": "RQAi4xZzPTyx"
      },
      "source": [
        "* 히스토그램으로 시각화하기"
      ]
    },
    {
      "cell_type": "code",
      "metadata": {
        "id": "Lgh6ejuwK_Vw"
      },
      "source": [
        "import matplotlib.pyplot as plt\n",
        "import numpy as np \n",
        "\n",
        "num = 10 \n",
        "x = np.arange(num)\n",
        "plt.xticks(range(num))\n",
        "plt.yticks(range(num))\n",
        "plt.hist(x, bins=range(num), weights=c, range=(x.min(), x.max()), alpha=0.75, )"
      ],
      "execution_count": null,
      "outputs": []
    },
    {
      "cell_type": "markdown",
      "metadata": {
        "id": "Wd6tKzevH1jF"
      },
      "source": [
        "## 재귀 함수 사용하기 \n",
        "\n",
        "* 재귀함수(recursive function)는 함수 내부에서 함수자신을 호출하는 구조를 갖는다\n",
        "*  재귀호출은 문제해결과정에서 자신과 똑같지만 크기가 다른 문제를 발견하고이들의 관계를 파악함으로써 문제 해결에 간명하게 접근하는 방식이다\n",
        "* 재귀호출을 사용하려면 반드시 다음과 같이 종료 조건을 만들어주어야 하며 재귀 호출과정에서  return 은  함수 호출 부분에 함수의 수행 결과를 돌려줄 수 있다\n",
        "---\n",
        "(실습) 함수 hello()의 종료 조건을 찾아본다\n",
        "\n"
      ]
    },
    {
      "cell_type": "code",
      "metadata": {
        "id": "fXyBRWnaH9Qb"
      },
      "source": [
        "def fact(n):\n",
        "    if n <= 1:\n",
        "        return 1\n",
        "    return n * fact(n-1)"
      ],
      "execution_count": null,
      "outputs": []
    },
    {
      "cell_type": "code",
      "metadata": {
        "id": "LVyqUEZmIG9P"
      },
      "source": [
        "print (fact(5))"
      ],
      "execution_count": null,
      "outputs": []
    },
    {
      "cell_type": "code",
      "metadata": {
        "id": "_5KsSe86cvmU"
      },
      "source": [
        "def hello(c): # hello 함수를 정의\n",
        "    if (c == 0):\n",
        "       return \n",
        "    else:\n",
        "       print (\"Hello Python!\")\n",
        "       hello(c-1)\n",
        "\n",
        "hello(5)"
      ],
      "execution_count": null,
      "outputs": []
    },
    {
      "cell_type": "code",
      "metadata": {
        "id": "lFiUSfT_VG4w"
      },
      "source": [
        "def even(n):\n",
        "  if n==0:\n",
        "    return True\n",
        "  return not even(n-1)\n",
        "\n",
        "even(4)"
      ],
      "execution_count": null,
      "outputs": []
    },
    {
      "cell_type": "code",
      "metadata": {
        "id": "jdJ1xVn8WBj0"
      },
      "source": [
        "def sum_list(l):\n",
        "  if len(l)==1:\n",
        "    return l[0]\n",
        "  return l[0]+sum_list(l[1:])\n",
        "\n",
        "total = sum_list([1,2,3,4])\n",
        "print (total)"
      ],
      "execution_count": null,
      "outputs": []
    },
    {
      "cell_type": "markdown",
      "metadata": {
        "id": "5rAa2TBxiNh2"
      },
      "source": [
        "자연수의 계승 또는 팩토리얼(factorial)은 그 수보다 작거나 같은 모든 양의 정수의 곱이다.\n",
        "\n",
        " $n! = n * n-1 * \\cdots 3 * 2 * 1$   "
      ]
    },
    {
      "cell_type": "code",
      "metadata": {
        "id": "7YUgxGK8iLds"
      },
      "source": [
        "def fact(n):\n",
        "    if n <= 1:\n",
        "        return 1\n",
        "    return n * fact(n-1)\n",
        "\n",
        "print (fact(5))"
      ],
      "execution_count": null,
      "outputs": []
    },
    {
      "cell_type": "code",
      "metadata": {
        "id": "GvEyWdc2T3iS"
      },
      "source": [
        "def fact(n):\n",
        "  if n==0 or n==1:\n",
        "    return 1\n",
        "  return n*fact(n-1)"
      ],
      "execution_count": null,
      "outputs": []
    },
    {
      "cell_type": "markdown",
      "metadata": {
        "id": "CDogeI5mvWF1"
      },
      "source": [
        "피보나치 수열\n",
        "\n",
        "* $fib(0) = 0, fib(1) = 1$\n",
        "* 2 이상의 n에 대하여 $fib(n) = fib(n-1) + fib(n-2)$  \n",
        " "
      ]
    },
    {
      "cell_type": "code",
      "metadata": {
        "id": "oWkIxt8BtJ96"
      },
      "source": [
        "def fib(n):    #  함수 정의 시작 \n",
        "    \"\"\"Print a Fibonacci series up to n.\"\"\"\n",
        "    a, b = 1, 1\n",
        "    print(a, end=' ')\n",
        "    print(b, end=' ')\n",
        "    while a < n:\n",
        "       a, b = b, a+b\n",
        "       print(b,  end=' ')\n",
        " \n"
      ],
      "execution_count": null,
      "outputs": []
    },
    {
      "cell_type": "code",
      "metadata": {
        "id": "Ma-r6QE8v8t8"
      },
      "source": [
        "def fib(num):\n",
        "   if num < 2: \n",
        "     return num \n",
        "   else: \n",
        "     return fib(num-1)+fib(num-2)\n",
        " "
      ],
      "execution_count": null,
      "outputs": []
    },
    {
      "cell_type": "code",
      "metadata": {
        "id": "WUa_R3_JtMlZ"
      },
      "source": [
        "for i in range(1, 10+1):\n",
        "   print(fib(i), end=' ')"
      ],
      "execution_count": null,
      "outputs": []
    },
    {
      "cell_type": "markdown",
      "metadata": {
        "id": "4zlahaRz1yM1"
      },
      "source": [
        "**(실습)1에서 $n$까지 합구하기**\n",
        "\n",
        "$1+2+\\cdots+n$, $n$ =10"
      ]
    },
    {
      "cell_type": "code",
      "metadata": {
        "id": "aDZmz-0q1uEu"
      },
      "source": [
        "def sum(n):\n",
        "  if n == 1:\n",
        "    return 1\n",
        "  else:\n",
        "    return n + sum(n-1)"
      ],
      "execution_count": null,
      "outputs": []
    },
    {
      "cell_type": "code",
      "metadata": {
        "id": "PDk92Hy22bM2"
      },
      "source": [
        "n = 10\n",
        "print (\"1에서 {0} 까지 합 = {1} \".format (n, sum(n)))"
      ],
      "execution_count": null,
      "outputs": []
    },
    {
      "cell_type": "code",
      "metadata": {
        "id": "L-ftSuHeIxC7"
      },
      "source": [
        "def dec2bin(N):\n",
        "  r = N % 2\n",
        "  print ('*', end = ' ')\n",
        "  if N >= 2:\n",
        "    abc(N // 2)\n",
        "  print ('%d' % r, end = ' ')\n",
        "  return \n",
        "\n",
        "dec2bin(5)"
      ],
      "execution_count": null,
      "outputs": []
    },
    {
      "cell_type": "markdown",
      "metadata": {
        "id": "7zp-LVf74RYR"
      },
      "source": [
        "**(실습)GCD 재귀함수**\n",
        "\n",
        "1. 임의의 두 자연수 $x$, $y$가 주어졌을때. 둘중 큰 값이 a라고 가정 \n",
        "2. $x$를 $y$로 나눈 나머지를 $n$ 이라고 하면 ($x \\% y = n$)\n",
        "3. n이 0일때,  $y$가 최대 공약수(GCD) 임, 만약 $n$이 0이 아니라면, $x$에 $y$값을 다시 넣고 $n$를 $y$에 대입 한 후 다시 2를 반복함"
      ]
    },
    {
      "cell_type": "code",
      "metadata": {
        "id": "0JcTTxGG269r"
      },
      "source": [
        "def gcd(x, y):\n",
        "  if y == 0:\n",
        "    return x\n",
        "  else:\n",
        "    return gcd(y, x%y)\n",
        "\n",
        "x = 16\n",
        "y = 4\n",
        "print (gcd (x,y))"
      ],
      "execution_count": null,
      "outputs": []
    },
    {
      "cell_type": "markdown",
      "metadata": {
        "id": "Dtmy7ZTXjhCy"
      },
      "source": [
        "### [피보나치 수열](https://colab.research.google.com/drive/1MFn5CJRj3CE3ewTJ-AJChrc38C6VVHtc)"
      ]
    },
    {
      "cell_type": "code",
      "metadata": {
        "id": "PHJ8uj2WT5e_"
      },
      "source": [
        "fact(5)"
      ],
      "execution_count": null,
      "outputs": []
    },
    {
      "cell_type": "markdown",
      "metadata": {
        "id": "eJkMUnXAyrRj"
      },
      "source": [
        "(검색) 자료 data 에서 key 를 찾는 함수 search_key()를 작성한다\n"
      ]
    },
    {
      "cell_type": "code",
      "metadata": {
        "id": "noKNvX6EuEUK"
      },
      "source": [
        "import random\n",
        "\n",
        "# 0에서 199까지의 수로 구성된 lst를 생성함\n",
        "lst = list (range(200))\n",
        "# lst에서 임의로 100개를 선택하여 data를 생성함\n",
        "data = random.sample(lst, 100)\n",
        "\n",
        "# 검색결과로 arr에서 발견한 자료의 위치값(index)를 반환함\n",
        "def search_key(arr, key):\n",
        "    found = False\n",
        "    for i, x in enumerate(arr):\n",
        "         arr의 인덱스 i와 값 x 를 사용하여 key 값과 비교하여 key 값을 arr에서 발견하면 반복을 마침\n",
        "    if found:\n",
        "        return i\n",
        "    else:\n",
        "        return -1\n",
        "\n",
        "key = 50\n",
        "pos =  search_key(data, key)\n",
        "if pos != -1:\n",
        "    print (data[pos])\n",
        "else:\n",
        "    print (\"not found\")\n"
      ],
      "execution_count": null,
      "outputs": []
    },
    {
      "cell_type": "code",
      "metadata": {
        "id": "FMFUrU3-zYrk"
      },
      "source": [
        "# 검색을 위한 자료를 생성하는 함수 generate_data()를 작성한다  "
      ],
      "execution_count": null,
      "outputs": []
    },
    {
      "cell_type": "markdown",
      "metadata": {
        "id": "bx9JLGBIH7ai"
      },
      "source": [
        "# 자료구조"
      ]
    },
    {
      "cell_type": "markdown",
      "metadata": {
        "id": "vlxoLCuwINJI"
      },
      "source": [
        "## 스택(stack)\n",
        "* 한 쪽 끝에서만 자료를 넣거나 뺄 수 있도록 제한된 선형"
      ]
    },
    {
      "cell_type": "code",
      "metadata": {
        "id": "2Q4m1wWEH--1"
      },
      "source": [
        "def push(s, item):\n",
        "         s.append(item)\n",
        "\n",
        "def pop(s):\n",
        "    if (s != []):\n",
        "        v = s.pop()\n",
        "    else:\n",
        "        v = -1\n",
        "    return v\n",
        "    \n",
        "s = []\n",
        "# 자료 삽입\n",
        "push(s, 'a')\n",
        "push(s, 'b')\n",
        "push(s, 'c')\n",
        "print (s)\n",
        "\n",
        "# 자료 제거\n",
        "print (pop(s))\n",
        "print (pop(s))\n",
        "print (pop(s))\n",
        "print (pop(s))\n"
      ],
      "execution_count": null,
      "outputs": []
    },
    {
      "cell_type": "code",
      "metadata": {
        "id": "iFhUq621GwjN"
      },
      "source": [
        "def dec2bin(decimal):\n",
        "    s = []\n",
        "    while decimal > 0:\n",
        "         remainder = decimal % 2\n",
        "         decimal = decimal // 2\n",
        "         push(s, remainder)\n",
        "         \n",
        "    while s:\n",
        "        x = pop(s)\n",
        "        print (x, end = \" \")\n",
        "        \n",
        "        \n",
        "dec2bin(12)\n",
        "\n"
      ],
      "execution_count": null,
      "outputs": []
    },
    {
      "cell_type": "markdown",
      "metadata": {
        "id": "ppKrO3iQLIa5"
      },
      "source": [
        "## 큐(Queue)\n",
        "* 가장 먼저 넣은 자료를 먼저 삭제함"
      ]
    },
    {
      "cell_type": "code",
      "metadata": {
        "id": "dqcf-MwrNXH2"
      },
      "source": [
        "a = [1, 2, 3, 4, 5]\n",
        "a.append(100)\n",
        "a.append(200)\n",
        "print (f\"자료 추가 = {a}\")\n",
        "a.pop(0)\n",
        "print (f\"자료 삭제 = {a}\")"
      ],
      "execution_count": null,
      "outputs": []
    },
    {
      "cell_type": "code",
      "metadata": {
        "id": "gH2zZYqCLUHv"
      },
      "source": [
        "import queue\n",
        "\n",
        "q = queue.Queue()\n",
        "q.put('a')\n",
        "q.put('b')\n",
        "q.put('c')\n",
        "\n",
        "print (f'size of queue = {q.qsize()}')\n",
        "\n",
        "for _ in range(q.qsize()):\n",
        "    if q.not_empty:\n",
        "        print (f\"value of queue = {q.get()}\")\n",
        "\n",
        "if (q.empty()):\n",
        "    print (\"queue is empyt\")\n",
        "else:\n",
        "    q.get()\n",
        " "
      ],
      "execution_count": null,
      "outputs": []
    },
    {
      "cell_type": "markdown",
      "metadata": {
        "id": "k0K5F-VM3Lwq"
      },
      "source": [
        "## 딕셔너리 \n",
        "* immutable한 키(key)와 mutable한 값(value)으로 맵핑되어 있는 순서가 없는 집합\n",
        "* 중괄호로 되어 있고 키와 값으로 구성"
      ]
    },
    {
      "cell_type": "markdown",
      "metadata": {
        "id": "VKw_d2nq3pPM"
      },
      "source": [
        "* 내용이 없는 딕셔너리 생성(Creating empty dictionary)\n"
      ]
    },
    {
      "cell_type": "code",
      "metadata": {
        "id": "jxIV3y2z3pPO"
      },
      "source": [
        "Dictionary = {}\n",
        "print(Dictionary)"
      ],
      "execution_count": null,
      "outputs": []
    },
    {
      "cell_type": "markdown",
      "metadata": {
        "id": "qjc0us203pPO"
      },
      "source": [
        "* 정수키를 사용하여 딕셔너리 생성(Creating dictionary using integer keys)"
      ]
    },
    {
      "cell_type": "code",
      "metadata": {
        "id": "dMPqPV5f3pPO"
      },
      "source": [
        "D = {1: 'lion', 2: 'tiger', 3: 'zebra'}\n",
        "print(D)"
      ],
      "execution_count": null,
      "outputs": []
    },
    {
      "cell_type": "markdown",
      "metadata": {
        "id": "pZLFNmcr3pPO"
      },
      "source": [
        "* 다양항 자료형의 키를 갖는 딕셔너리 생성 (Creating dictionary using mixed keys)"
      ]
    },
    {
      "cell_type": "code",
      "metadata": {
        "id": "FSYvPsoj3pPO"
      },
      "source": [
        "D = {'animal': 'tiger', 4: [1, 2, 3]}\n",
        "print(D)"
      ],
      "execution_count": null,
      "outputs": []
    },
    {
      "cell_type": "markdown",
      "metadata": {
        "id": "KXHRKZnT3pPO"
      },
      "source": [
        "* Dict() 함수를 사용하여 딕셔너리 생성  "
      ]
    },
    {
      "cell_type": "code",
      "metadata": {
        "id": "6Px5nGjh3pPO"
      },
      "source": [
        "D = dict({1: 'lion', 2: 'tiger', 3: 'zebra'})\n",
        "print(D)"
      ],
      "execution_count": null,
      "outputs": []
    },
    {
      "cell_type": "markdown",
      "metadata": {
        "id": "SyyFGHFA5s9v"
      },
      "source": [
        "* 딕셔너리 사용"
      ]
    },
    {
      "cell_type": "code",
      "metadata": {
        "id": "c5S-hoz43Lwr"
      },
      "source": [
        "d = {\"a\" : 1, \"b\":2}\n",
        "d['a']"
      ],
      "execution_count": null,
      "outputs": []
    },
    {
      "cell_type": "code",
      "metadata": {
        "id": "qD2gud2q3Lwr"
      },
      "source": [
        "d = {1:'a', 2:'b', 3:'c'}\n",
        "\n",
        "print (d.keys())\n",
        "for x in d.keys():\n",
        "  print(d[x])"
      ],
      "execution_count": null,
      "outputs": []
    },
    {
      "cell_type": "code",
      "metadata": {
        "id": "Mi0Rjgi73Lwr"
      },
      "source": [
        "d[4] = 'd'\n",
        "d"
      ],
      "execution_count": null,
      "outputs": []
    },
    {
      "cell_type": "code",
      "metadata": {
        "id": "eQkm8WGUFB4x"
      },
      "source": [
        "d[3]"
      ],
      "execution_count": null,
      "outputs": []
    },
    {
      "cell_type": "code",
      "metadata": {
        "id": "6sGlUlYVFGwa"
      },
      "source": [
        "d.get(3)"
      ],
      "execution_count": null,
      "outputs": []
    },
    {
      "cell_type": "code",
      "metadata": {
        "id": "V62P9t_N3Lwr"
      },
      "source": [
        "d.get(4)"
      ],
      "execution_count": null,
      "outputs": []
    },
    {
      "cell_type": "code",
      "metadata": {
        "id": "nDW_40RycjIO"
      },
      "source": [
        "d[5]"
      ],
      "execution_count": null,
      "outputs": []
    },
    {
      "cell_type": "code",
      "metadata": {
        "id": "dIG19lXwcw_w"
      },
      "source": [
        "x = d.get(5, \"No Value\")\n",
        "print (x)"
      ],
      "execution_count": null,
      "outputs": []
    },
    {
      "cell_type": "markdown",
      "metadata": {
        "id": "w0vDZysO3Lws"
      },
      "source": [
        "키가 없는 딕셔너리 자료 접근 "
      ]
    },
    {
      "cell_type": "code",
      "metadata": {
        "id": "_fno40xf3Lws"
      },
      "source": [
        "d[5]"
      ],
      "execution_count": null,
      "outputs": []
    },
    {
      "cell_type": "code",
      "metadata": {
        "id": "8dNz2AHI3Lws"
      },
      "source": [
        "d.get(5)"
      ],
      "execution_count": null,
      "outputs": []
    },
    {
      "cell_type": "markdown",
      "metadata": {
        "id": "Iyk_nHZT3Lws"
      },
      "source": [
        "* 키로는 immutable한 값은 사용할 수 있지만, mutable한 객체는 사용할 수 없음"
      ]
    },
    {
      "cell_type": "code",
      "metadata": {
        "id": "QRof2b7h3Lws"
      },
      "source": [
        "a = {(1,5): 5, (3,3): 3} # tuple사용"
      ],
      "execution_count": null,
      "outputs": []
    },
    {
      "cell_type": "code",
      "metadata": {
        "id": "n_k9AD8F3Lws"
      },
      "source": [
        "for x in a.keys():\n",
        "  print(a[x])"
      ],
      "execution_count": null,
      "outputs": []
    },
    {
      "cell_type": "markdown",
      "metadata": {
        "id": "0HRHTtpY3Lws"
      },
      "source": [
        "* 값은 중복될 수 있지만, 키가 중복되면 마지막 값으로 갱신됨"
      ]
    },
    {
      "cell_type": "code",
      "metadata": {
        "id": "8frxTNWV3Lws"
      },
      "source": [
        "{\"a\" : 1, \"a\":2}"
      ],
      "execution_count": null,
      "outputs": []
    },
    {
      "cell_type": "code",
      "metadata": {
        "id": "sqqiLXjV3Lws"
      },
      "source": [
        "ex1={'a':1,'b':2, 'c': {'c1': 3} }\n",
        "\n",
        "ex1['c']['c1']"
      ],
      "execution_count": null,
      "outputs": []
    },
    {
      "cell_type": "code",
      "metadata": {
        "id": "CYZuSUGHdmF9"
      },
      "source": [
        "ex1.get('c').get('c1')"
      ],
      "execution_count": null,
      "outputs": []
    },
    {
      "cell_type": "markdown",
      "metadata": {
        "id": "NipTGv6N1qBJ"
      },
      "source": [
        "### (실습) 문자열 weather_info에서 습도값인 54을 얻기 위해 다음의 내용을 완성하시오.\n",
        "\n"
      ]
    },
    {
      "cell_type": "code",
      "metadata": {
        "id": "EzQOFqCRuJnU"
      },
      "source": [
        "weather_info = '''\n",
        "                 {\"coord\":{\"lon\":127.1522,\"lat\":36.8065},\n",
        "                 \"weather\":[{\"id\":803,\"main\":\"Clouds\",\"description\":\"broken clouds\",\"icon\":\"04d\"}],\n",
        "                 \"main\":{\"temp\":301.25,\"feels_like\":302.1,\"temp_min\":300.88,\"temp_max\":301.94,\"pressure\":1019,\"humidity\":54},\n",
        "                 \"clouds\":{\"all\":81},\"dt\":1633412609,\"name\":\"Cheonan\",\"cod\":200}\n",
        "                 '''"
      ],
      "execution_count": null,
      "outputs": []
    },
    {
      "cell_type": "code",
      "metadata": {
        "id": "DrDeBhUEGWxz"
      },
      "source": [
        "type(weather_info)"
      ],
      "execution_count": null,
      "outputs": []
    },
    {
      "cell_type": "code",
      "metadata": {
        "id": "nxgczaZg0ziR"
      },
      "source": [
        "import json\n",
        "\n",
        "result = json.loads(weather_info)\n",
        "type(result)\n"
      ],
      "execution_count": null,
      "outputs": []
    },
    {
      "cell_type": "code",
      "metadata": {
        "id": "0rCJ_6XSNs1O"
      },
      "source": [
        "#  main 의 값을 얻도록 하자\n",
        "w = result['weather']\n",
        "print (type(w))\n",
        "result['weather'][0]['main']"
      ],
      "execution_count": null,
      "outputs": []
    },
    {
      "cell_type": "code",
      "metadata": {
        "id": "9yF7mz3PHgDT"
      },
      "source": [
        "result.keys()"
      ],
      "execution_count": null,
      "outputs": []
    },
    {
      "cell_type": "code",
      "metadata": {
        "id": "EhSVQjngHsjJ"
      },
      "source": [
        "main_result = result['main']\n",
        "main_result['humidity']\n",
        "result['main']['humidity']\n",
        "result.get('main').get('humidity')"
      ],
      "execution_count": null,
      "outputs": []
    },
    {
      "cell_type": "markdown",
      "metadata": {
        "id": "JZU4iSHu7O0N"
      },
      "source": [
        "## 튜플"
      ]
    },
    {
      "cell_type": "markdown",
      "metadata": {
        "id": "gwkOPWVs7Rm_"
      },
      "source": [
        "```\n",
        "t1 = ()\n",
        "t2 = (1,) #  1개의 요소만을 가질 때는 요소 뒤에 콤마(,)를 반드시 붙여야 함\n",
        "t3 = (1, 2, 3)\n",
        "t4 = 1, 2, 3\n",
        "t5 = ('a', 'b', ('ab', ‘cd'))\n",
        "```"
      ]
    },
    {
      "cell_type": "code",
      "metadata": {
        "id": "YnaQsDkiPfJ9"
      },
      "source": [
        "t2=(1)\n",
        "print (type (t2))\n",
        "\n",
        "t2 = (1,)\n",
        "print (type (t2))"
      ],
      "execution_count": null,
      "outputs": []
    },
    {
      "cell_type": "code",
      "metadata": {
        "id": "ZhO4Xbi9QClQ"
      },
      "source": [
        "t4 = 1, 2, 3\n",
        "print (type (t4))"
      ],
      "execution_count": null,
      "outputs": []
    },
    {
      "cell_type": "code",
      "metadata": {
        "id": "0SHGQdhDQSY5"
      },
      "source": [
        "t5 = ('a', 'b', ('ab', 'cd'))\n",
        "len(t5)\n"
      ],
      "execution_count": null,
      "outputs": []
    },
    {
      "cell_type": "code",
      "metadata": {
        "id": "zThS0gUWQfEB"
      },
      "source": [
        "t5[2][1]"
      ],
      "execution_count": null,
      "outputs": []
    },
    {
      "cell_type": "code",
      "metadata": {
        "id": "cEFUlCwdQqkM"
      },
      "source": [
        "t5[2][0]"
      ],
      "execution_count": null,
      "outputs": []
    },
    {
      "cell_type": "code",
      "metadata": {
        "id": "VbyC2ASY7dza"
      },
      "source": [
        "t1 = ()\n",
        "t2 = (1,) #  1개의 요소만을 가질 때는 요소 뒤에 콤마(,)를 반드시 붙여야 함\n",
        "t3 = (1, 2, 3)\n",
        "t4 = 1, 2, 3\n",
        "t5 = ('a', 'b', ('ab', 'cd'))\n",
        "\n",
        "#t5 의 두번쨰 자료값을 얻기\n",
        "\n",
        "t5[1]\n",
        "\n",
        "t5[1] = 'c'"
      ],
      "execution_count": null,
      "outputs": []
    },
    {
      "cell_type": "markdown",
      "metadata": {
        "id": "FSDUHHeNS_bh"
      },
      "source": [
        "## 집합"
      ]
    },
    {
      "cell_type": "code",
      "metadata": {
        "id": "MPNcn7xfTCXC"
      },
      "source": [
        "s1 = set ([1,2,3,4])\n",
        "s1.add(4) # 중복 허락하기 않음\n",
        "s1"
      ],
      "execution_count": null,
      "outputs": []
    },
    {
      "cell_type": "code",
      "metadata": {
        "id": "bZ2ZTiVLTXlf"
      },
      "source": [
        "lst = [1,2,3, 4,1,2,3, 0]\n",
        "\n",
        "# 리스트에서 중복제거하고자함 \n",
        "lst = set (lst)\n",
        "lst = list(lst)"
      ],
      "execution_count": null,
      "outputs": []
    },
    {
      "cell_type": "markdown",
      "metadata": {
        "id": "l47hLXFW3Lwt"
      },
      "source": [
        "## Collection \n",
        "* deque\n",
        "* OrderedDict\n",
        "* defaultdict\n",
        "* Counter\n",
        "* named tutple"
      ]
    },
    {
      "cell_type": "markdown",
      "metadata": {
        "id": "5xHMrY8i3Lwt"
      },
      "source": [
        "### deque"
      ]
    },
    {
      "cell_type": "code",
      "metadata": {
        "id": "bR8dLkQg3Lwt"
      },
      "source": [
        "# 리스트 자료의 마지막에 자료 추가\n",
        "import collections\n",
        "deq = collections.deque(['a','b','c'])\n",
        "deq.append('d')\n",
        "print(deq)\n"
      ],
      "execution_count": null,
      "outputs": []
    },
    {
      "cell_type": "code",
      "metadata": {
        "id": "YWKupt6d3Lwt"
      },
      "source": [
        "# 리스트 자료의 앞에 자료 추가\n",
        "import collections\n",
        "deq = collections.deque(['a','b','c'])\n",
        "deq.appendleft('d')\n",
        "print(deq)"
      ],
      "execution_count": null,
      "outputs": []
    },
    {
      "cell_type": "code",
      "metadata": {
        "id": "Kt-7IQca3Lwt"
      },
      "source": [
        "# 자료 삭제하기 (stack)\n",
        "import collections\n",
        "deq = collections.deque(['a', 'b', 'c'])\n",
        "print('deque.pop() ->', end=' ')\n",
        "while True:\n",
        "    try:\n",
        "        print(deq.pop(), end=' ')\n",
        "    except IndexError:\n",
        "        break\n",
        "print()"
      ],
      "execution_count": null,
      "outputs": []
    },
    {
      "cell_type": "code",
      "metadata": {
        "id": "3INbvvEI3Lwt"
      },
      "source": [
        "# 자료를 왼쪽에서 부터 삭제하기\n",
        "deq = collections.deque(['a', 'b', 'c'])\n",
        "print('deque.popleft() ->', end=' ')\n",
        "while True:\n",
        "    try:\n",
        "        print(deq.popleft(), end=' ')\n",
        "    except IndexError:\n",
        "        break\n",
        "print()"
      ],
      "execution_count": null,
      "outputs": []
    },
    {
      "cell_type": "markdown",
      "metadata": {
        "id": "fJ_1C5-K3Lwu"
      },
      "source": [
        "(실습)deque"
      ]
    },
    {
      "cell_type": "code",
      "metadata": {
        "id": "AuWGK_Tw3Lwu"
      },
      "source": [
        "from collections import deque\n",
        "double_queue = deque([\"Monday\", \"Tuesday\",\"Wednesday\"])\n",
        "print(double_queue)"
      ],
      "execution_count": null,
      "outputs": []
    },
    {
      "cell_type": "code",
      "metadata": {
        "id": "IJ7upg0a3Lwu"
      },
      "source": [
        " double_queue.append(\"Thursday\")\n",
        " print(double_queue)"
      ],
      "execution_count": null,
      "outputs": []
    },
    {
      "cell_type": "code",
      "metadata": {
        "id": "emS3ixHr3Lwu"
      },
      "source": [
        "double_queue.appendleft(\"Sunday\")\n",
        "print (double_queue)"
      ],
      "execution_count": null,
      "outputs": []
    },
    {
      "cell_type": "code",
      "metadata": {
        "id": "a7E2wxYKhLYK"
      },
      "source": [
        "from collections import deque\n",
        "\n",
        "deq = deque()\n",
        "\n",
        "# Add element to the start\n",
        "deq.appendleft(10)\n",
        "print (deq)\n",
        "\n",
        "# Add element to the end\n",
        "deq.append(0)\n",
        "print (deq)\n",
        "# Pop element from the start\n",
        "deq.popleft()\n",
        "print (deq)\n",
        "\n",
        "# Pop element from the end\n",
        "deq.pop()\n",
        "print (deq)"
      ],
      "execution_count": null,
      "outputs": []
    },
    {
      "cell_type": "markdown",
      "metadata": {
        "id": "RuA8doCp3Lwu"
      },
      "source": [
        "### OrderedDict"
      ]
    },
    {
      "cell_type": "code",
      "metadata": {
        "id": "LWn-kAjc3Lwu"
      },
      "source": [
        "from collections import OrderedDict\n",
        "d = OrderedDict()\n",
        "d['x'] = 100\n",
        "d['y'] = 200\n",
        "d['z'] = 300\n",
        "d['l'] = 500\n",
        "for k, v in d.items():\n",
        "    print(k, v)"
      ],
      "execution_count": null,
      "outputs": []
    },
    {
      "cell_type": "code",
      "metadata": {
        "id": "tCbxDhpx3Lwu"
      },
      "source": [
        "# 키의 순서에 따라 정렬\n",
        "def sort_by_key(t):\n",
        "    return t[0]\n",
        "\n",
        "for k, v in OrderedDict(sorted(d.items(), key=sort_by_key)).items():\n",
        "    print (k, v)\n"
      ],
      "execution_count": null,
      "outputs": []
    },
    {
      "cell_type": "code",
      "metadata": {
        "id": "ar-SfjKG3Lwu"
      },
      "source": [
        "# 키의 순서에 따라 정렬\n",
        "from collections import OrderedDict\n",
        "\n",
        "# 기본 딕셔너리 \n",
        "d={'banana':3, 'apple':4, 'pear':1, 'orange':2}\n",
        "\n",
        "# 키(key)를 기준으로 정렬한 OrderedDict\n",
        "ordered_d1 = OrderedDict(sorted(d.items(), key=lambda t: t[0]))\n",
        "print(ordered_d1)"
      ],
      "execution_count": null,
      "outputs": []
    },
    {
      "cell_type": "code",
      "metadata": {
        "id": "DA0yP5Gy3Lwu"
      },
      "source": [
        "# 값의 순서에 따라 정렬\n",
        "from collections import OrderedDict\n",
        "\n",
        "# 기본 딕셔너리 \n",
        "d={'banana':3, 'apple':4, 'pear':1, 'orange':2}\n",
        "\n",
        "# 키(key)를 기준으로 정렬한 OrderedDict\n",
        "ordered_d1 = OrderedDict(sorted(d.items(), key=lambda t: t[1]))\n",
        "print(ordered_d1)"
      ],
      "execution_count": null,
      "outputs": []
    },
    {
      "cell_type": "code",
      "metadata": {
        "id": "nsU2jFqM3Lwv"
      },
      "source": [
        "# 마지막 자료 및 처음자료 얻기 \n",
        "print (ordered_d1.popitem())\n",
        "print (ordered_d1.popitem(last=False))\n",
        "\n",
        "print (d)"
      ],
      "execution_count": null,
      "outputs": []
    },
    {
      "cell_type": "code",
      "metadata": {
        "id": "rENfJH2rizdp"
      },
      "source": [
        "keys = ['a', 'b', 'c', 'd', 'e', 'f', 'g']\n",
        "vals = ['app', 'bow', 'cow', 'doc', 'err', 'fly', 'gpu']\n",
        "d = {key: val for key, val in zip(keys, vals)}\n",
        "print (d)\n",
        "d ['h'] = 'high'\n",
        "print (d)\n",
        "d['i'] = 'ice'\n",
        "\n",
        "print (d)"
      ],
      "execution_count": null,
      "outputs": []
    },
    {
      "cell_type": "code",
      "metadata": {
        "id": "E_EQMjiFjlbH"
      },
      "source": [
        "from collections import OrderedDict\n",
        "keys = ['a', 'b', 'c', 'd', 'e', 'f', 'g']\n",
        "vals = ['app', 'bow', 'cow', 'doc', 'err', 'fly', 'gpu']\n",
        "d = OrderedDict({key: val for key, val in zip(keys, vals)})\n",
        "print (d)"
      ],
      "execution_count": null,
      "outputs": []
    },
    {
      "cell_type": "markdown",
      "metadata": {
        "id": "yUtxKGmR3Lwv"
      },
      "source": [
        "### (실습) 지역에 따른 날씨 정보를 얻은 후 온도에 따라 자료를 정렬함"
      ]
    },
    {
      "cell_type": "code",
      "metadata": {
        "id": "8-BOltV-6-sg"
      },
      "source": [
        "weather_info = {'cheonan': 16.86, 'seoul': 20.29, 'london': 7.88, 'busan': 17.08, 'paris': 6.82, 'tokyo': 19.8}"
      ],
      "execution_count": null,
      "outputs": []
    },
    {
      "cell_type": "code",
      "metadata": {
        "id": "hkMg7zRH7N_n"
      },
      "source": [
        "from collections import OrderedDict\n",
        "city_temp = OrderedDict(sorted(weather_info.items(), key=lambda t: t[1]))\n",
        "print (city_temp)"
      ],
      "execution_count": null,
      "outputs": []
    },
    {
      "cell_type": "markdown",
      "metadata": {
        "id": "27SnKiCs3Lwv"
      },
      "source": [
        "### defaultdict"
      ]
    },
    {
      "cell_type": "code",
      "metadata": {
        "id": "NO3S7rdI3Lwv"
      },
      "source": [
        "# 존재하지 않는 키를 접근하는 경우 비정상적인 종료\n",
        "ex1={'a':1,'b':2}\n",
        "print(ex1)\n",
        "print(ex1['c'])"
      ],
      "execution_count": null,
      "outputs": []
    },
    {
      "cell_type": "code",
      "metadata": {
        "id": "QE0X4RTc3Lwv"
      },
      "source": [
        "ex1.get('c')"
      ],
      "execution_count": null,
      "outputs": []
    },
    {
      "cell_type": "code",
      "metadata": {
        "id": "Ftd0qeb03Lwv"
      },
      "source": [
        "from collections import defaultdict\n",
        "d = defaultdict(lambda: 0)\n",
        "print (d['first'])"
      ],
      "execution_count": null,
      "outputs": []
    },
    {
      "cell_type": "code",
      "metadata": {
        "id": "ZGRBZtpjmwPB"
      },
      "source": [
        "from collections import defaultdict\n",
        "d = defaultdict(int)\n",
        "print (d['first'])"
      ],
      "execution_count": null,
      "outputs": []
    },
    {
      "cell_type": "code",
      "metadata": {
        "id": "VDedvXNokgnV"
      },
      "source": [
        "# 각 알파벳 글자의 수를 세어서 사전에 저장해주는 함수\n",
        "# counter 사전에 어떤 글자가 키(key)로 존재하지 않는 경우, 해당 키에 대한 기본값을 0으로 설정\n",
        "\n",
        "def count_letters(word):\n",
        "    counter = {}\n",
        "    for letter in word:\n",
        "        if letter not in counter:\n",
        "            counter[letter] = 0\n",
        "        counter[letter] += 1\n",
        "    return counter\n",
        "\n",
        "c = count_letters('hello')\n",
        "print (c)"
      ],
      "execution_count": null,
      "outputs": []
    },
    {
      "cell_type": "code",
      "metadata": {
        "id": "RCYTaZRslT6P"
      },
      "source": [
        "# 파이썬의 사전(dictionary) 자료구조는 setdefault 함수를 제공하여 초기값을 지정함\n",
        "def countLetters(word):\n",
        "    counter = {}\n",
        "    for letter in word:\n",
        "        counter.setdefault(letter, 0)\n",
        "        counter[letter] += 1\n",
        "    return counter\n",
        "\n",
        "c = count_letters('hello')\n",
        "print (c)"
      ],
      "execution_count": null,
      "outputs": []
    },
    {
      "cell_type": "code",
      "metadata": {
        "id": "GwPUU0Jrlsdk"
      },
      "source": [
        "from collections import defaultdict\n",
        "\n",
        "def countLetters(word):\n",
        "    counter = defaultdict(int)\n",
        "    for letter in word:\n",
        "        counter[letter] += 1\n",
        "    return counter\n",
        "\n",
        "c = count_letters('hello')\n",
        "print (c)"
      ],
      "execution_count": null,
      "outputs": []
    },
    {
      "cell_type": "code",
      "metadata": {
        "id": "1BdJDK52nReU"
      },
      "source": [
        "# 단어의 길이를 키로 단어를 그룹핑함\n",
        "from collections import defaultdict\n",
        "\n",
        "def group_words(words):\n",
        "    grouper = defaultdict(list)\n",
        "    for word in words:\n",
        "        length = len(word)\n",
        "        grouper[length].append(word)\n",
        "    return grouper\n",
        "\n",
        "c = group_words(['hello', 'python', 'wolrd'])\n",
        "print (c)    "
      ],
      "execution_count": null,
      "outputs": []
    },
    {
      "cell_type": "markdown",
      "metadata": {
        "id": "omFxBDN6eXw-"
      },
      "source": [
        "하나의 키를 여러 개의 값에 매핑"
      ]
    },
    {
      "cell_type": "code",
      "metadata": {
        "id": "NBI8BqdEeBxS"
      },
      "source": [
        "portfolio = [\n",
        "    ('GOOG', 100, 490.1),\n",
        "    ('IBM', 50, 91.1),\n",
        "    ('CAT', 150, 83.44),\n",
        "    ('IBM', 100, 45.23),\n",
        "    ('GOOG', 75, 572.45),\n",
        "    ('AA', 50, 23.15)\n",
        "]\n",
        "\n",
        "from collections import defaultdict\n",
        "holdings = defaultdict(list)\n",
        "for name, shares, price in portfolio:\n",
        "    holdings[name].append((shares, price))\n",
        "holdings['IBM'] #"
      ],
      "execution_count": null,
      "outputs": []
    },
    {
      "cell_type": "markdown",
      "metadata": {
        "id": "mJoFf_113Lwv"
      },
      "source": [
        "### Counter"
      ]
    },
    {
      "cell_type": "code",
      "metadata": {
        "id": "y9Wtt2lb3Lww"
      },
      "source": [
        "from collections import Counter\n",
        "  \n",
        "text = list(\"Hello Python\")\n",
        "c = Counter(text)\n",
        "print (c)\n",
        "print (c['l'])"
      ],
      "execution_count": null,
      "outputs": []
    },
    {
      "cell_type": "code",
      "metadata": {
        "id": "t1KPZHQ0fdYf"
      },
      "source": [
        "import collections\n",
        "lst=['aa','cc','dd','aa','bb','ee', 'aa','dd']\n",
        "print(collections.Counter(lst))\n",
        "\n",
        "word_list = collections.Counter(lst)\n",
        "\n",
        "word_list.most_common(3)"
      ],
      "execution_count": null,
      "outputs": []
    },
    {
      "cell_type": "markdown",
      "metadata": {
        "id": "xV-aaqsseoy_"
      },
      "source": [
        "보유한 주식이 다음과 같을 때, 종목별로 합산한다"
      ]
    },
    {
      "cell_type": "code",
      "metadata": {
        "id": "sJAjRYAAdwjz"
      },
      "source": [
        "portfolio = [\n",
        "    ('GOOG', 100, 490.1),\n",
        "    ('IBM', 50, 91.1),\n",
        "    ('CAT', 150, 83.44),\n",
        "    ('IBM', 100, 45.23),\n",
        "    ('GOOG', 75, 572.45),\n",
        "    ('AA', 50, 23.15)\n",
        "]\n",
        "\n",
        "from collections import Counter\n",
        "total_shares = Counter()\n",
        "for name, shares, price in portfolio:\n",
        "    total_shares[name] += shares\n",
        "\n",
        "total_shares['IBM']  "
      ],
      "execution_count": null,
      "outputs": []
    },
    {
      "cell_type": "code",
      "metadata": {
        "id": "ikuj1yrIe8hZ"
      },
      "source": [
        "total_shares.most_common(3)"
      ],
      "execution_count": null,
      "outputs": []
    },
    {
      "cell_type": "markdown",
      "metadata": {
        "id": "PtJNrMA170Rp"
      },
      "source": [
        "### (실습) 주어진 문자열에서 빈도수가 가장 높은 문자를 찾는다"
      ]
    },
    {
      "cell_type": "code",
      "metadata": {
        "id": "cJz-FEh-7xtR"
      },
      "source": [
        "from collections import Counter\n",
        "  \n",
        "text = list(\"Helloo Python\")\n",
        "c = Counter(text)\n",
        "print (c)\n",
        "type(c)\n",
        "print (c['l'])\n",
        "result = c.most_common(1)[0]\n",
        "print (result[0], result[1])\n",
        "\n"
      ],
      "execution_count": null,
      "outputs": []
    },
    {
      "cell_type": "markdown",
      "metadata": {
        "id": "SfqzmP-w3Lww"
      },
      "source": [
        "### named tuple\n",
        "* 값(value)에 접근 가능한 기본 투플(basic tuple)과는 다르게 키(key)값으로 접근가능하도록 지원\n"
      ]
    },
    {
      "cell_type": "code",
      "metadata": {
        "id": "V8vnmoic3Lww"
      },
      "source": [
        "from collections import namedtuple\n",
        "Point = namedtuple('Point', ['x', 'y'])\n",
        "p = Point(x = 11, y =  22)\n",
        "\n",
        "print (p.x, p.y)"
      ],
      "execution_count": null,
      "outputs": []
    },
    {
      "cell_type": "code",
      "metadata": {
        "id": "PQScve433Lww"
      },
      "source": [
        "import collections\n",
        "\n",
        "# namedtuple()\n",
        "Person=collections.namedtuple(\"Person\",'name age gender')\n",
        "P1=Person(name='John',age=28,gender='남')\n",
        "P2=Person(name='Sally',age=28,gender='여')\n",
        "for n in [P1, P2]:\n",
        "    print(n.name, n.age, n.gender)"
      ],
      "execution_count": null,
      "outputs": []
    },
    {
      "cell_type": "code",
      "metadata": {
        "id": "6X94jDgQpQnU"
      },
      "source": [
        "def calc(x, y):\n",
        "    \"\"\"두수를 입력받아 합, 곱, 나눈값을 반환한다 \"\"\"\n",
        "    return (x + y, x * y, x / y)\n",
        "\n",
        "result = calc(3, 2)\n",
        "print('곱셈결과:', result[1]) # 곱셈한 결과를 출력한다"
      ],
      "execution_count": null,
      "outputs": []
    },
    {
      "cell_type": "code",
      "metadata": {
        "id": "GCzeM4dKpYnF"
      },
      "source": [
        "def calc(x, y):\n",
        "    \"\"\"두수를 입력받아 합, 곱, 나눈값을 반환한다 \"\"\"\n",
        "    return namedtuple(typename='return_calc', field_names=['sum', 'multiplication', 'division'])(x + y, x * y, x / y)\n",
        "\n",
        "result = calc(3, 2)\n",
        "print('곱셈결과:', result.multiplication) # 곱셈한 결과를 출력한다\n",
        "print('곱셈결과:', result[1]) # 곱셈한 결과를 출력한다"
      ],
      "execution_count": null,
      "outputs": []
    },
    {
      "cell_type": "markdown",
      "metadata": {
        "id": "O30MA4j8sQLa"
      },
      "source": [
        "\n",
        "튜플 (x, y) 로 점을 표현하며, 두점 pt1, pt2 간의 거리를 구한다"
      ]
    },
    {
      "cell_type": "code",
      "metadata": {
        "id": "Y1j0ptQtrzzD"
      },
      "source": [
        "pt1 = (1.0, 5.0)\n",
        "pt2 = (2.5, 1.5)\n",
        "\n",
        "from math import sqrt\n",
        "line_length = sqrt((pt1[0]-pt2[0])**2 + (pt1[1]-pt2[1])**2)\n",
        "print (line_length)"
      ],
      "execution_count": null,
      "outputs": []
    },
    {
      "cell_type": "markdown",
      "metadata": {
        "id": "-8GiCH_ssmdG"
      },
      "source": [
        "네임드 튜플로 점(Point)의 구성정보 x와 Y로 표현한다\n",
        " "
      ]
    },
    {
      "cell_type": "code",
      "metadata": {
        "id": "EqeKTdcwsBXp"
      },
      "source": [
        "from collections import namedtuple\n",
        "Point = namedtuple('Point', 'x y')\n",
        "pt1 = Point(1.0, 5.0)\n",
        "pt2 = Point(2.5, 1.5)\n",
        "\n",
        "from math import sqrt\n",
        "line_length = sqrt((pt1.x-pt2.x)**2 + (pt1.y-pt2.y)**2)"
      ],
      "execution_count": null,
      "outputs": []
    },
    {
      "cell_type": "markdown",
      "metadata": {
        "id": "PdE14bd-y1x6"
      },
      "source": [
        "# Lambda 함수\n",
        "\n",
        "* 이름이 없는 함수를 만들 수 있으며, 함수를 간편하게 작성할 수 있음\n",
        "* filter(), map(), reduce() 함수와 같이 사용됨"
      ]
    },
    {
      "cell_type": "markdown",
      "metadata": {
        "id": "HuWpmBybQFwD"
      },
      "source": [
        "> 임의의 숫자를 전달하여 전달받은 숫자에 10을 더해서 반환하는 함수 plus_ten는 다음과 같다"
      ]
    },
    {
      "cell_type": "code",
      "metadata": {
        "id": "mGIK_lKbQHn-"
      },
      "source": [
        "def plus_ten(x):\n",
        "    return x + 10\n",
        "print (plus_ten(1))"
      ],
      "execution_count": null,
      "outputs": []
    },
    {
      "cell_type": "markdown",
      "metadata": {
        "id": "ShveFSSuQLzV"
      },
      "source": [
        "* lambda에 매개변수를 지정하고 :(콜론) 뒤에 반환값으로 사용할 식을 지정함\n",
        ">  람다 표현식은 기존의 함수 선언 문법과 달리 함수를 명명하지 않고도 정의"
      ]
    },
    {
      "cell_type": "code",
      "metadata": {
        "id": "0hAMRTPtQZHz"
      },
      "source": [
        "lambda x: x + 10"
      ],
      "execution_count": null,
      "outputs": []
    },
    {
      "cell_type": "markdown",
      "metadata": {
        "id": "mOBw3icuQf7Z"
      },
      "source": [
        "* lambda로 만든 함수를 변수 plus_ten에 할당해 사용"
      ]
    },
    {
      "cell_type": "code",
      "metadata": {
        "id": "UbTf4R5LQhnc"
      },
      "source": [
        "plus_ten = lambda x: x + 10\n",
        "plus_ten(1)"
      ],
      "execution_count": null,
      "outputs": []
    },
    {
      "cell_type": "markdown",
      "metadata": {
        "id": "ClJDZzSXP9FY"
      },
      "source": [
        "### (실습) 짝수 판별 함수 is_even() 작성를 작성한다"
      ]
    },
    {
      "cell_type": "code",
      "metadata": {
        "id": "QOxlu3i3QLR5"
      },
      "source": [
        "def is_even(x):\n",
        "    return x % 2 == 0\n",
        "\n",
        "print (is_even(1)) # False\n",
        "print (is_even(20)) # True"
      ],
      "execution_count": null,
      "outputs": []
    },
    {
      "cell_type": "code",
      "metadata": {
        "id": "Kt8GxcNhQxPY"
      },
      "source": [
        "is_even = lambda x : x % 2 == 0\n",
        "print (is_even(1)) # False\n",
        "print (is_even(2)) # True"
      ],
      "execution_count": null,
      "outputs": []
    },
    {
      "cell_type": "markdown",
      "metadata": {
        "id": "BSwpC_iXQlCa"
      },
      "source": [
        "### (실습) x의 거듭제곱을 구하는 lambda 함수 mul 을 작성한다"
      ]
    },
    {
      "cell_type": "code",
      "metadata": {
        "id": "448m280dy1x6"
      },
      "source": [
        "mul = lambda x : x**2\n",
        "\n",
        "print (mul(2))\n",
        "\n",
        "ylist = []\n",
        "xlist = [1,2,3,4,5]\n",
        "for x in xlist:\n",
        "    y = mul(x)\n",
        "    ylist.append(y)\n",
        "    print (f\"{y} = {x}**2\")\n",
        "\n",
        "print (ylist)"
      ],
      "execution_count": null,
      "outputs": []
    },
    {
      "cell_type": "markdown",
      "metadata": {
        "id": "B8nVlCU5gGcd"
      },
      "source": [
        "### (실습) 람다 함수로 리스트 다루기"
      ]
    },
    {
      "cell_type": "markdown",
      "metadata": {
        "id": "CCsgpxYQqVv1"
      },
      "source": [
        "3개의 매개변수를 갖고 처음 두개의 값을 더한후 결과를 반환하는 람다 함수 "
      ]
    },
    {
      "cell_type": "code",
      "metadata": {
        "id": "WLz68rgMqVv1"
      },
      "source": [
        "my_function = lambda a, b, c : a + b\n",
        "my_function(1, 2, 3)"
      ],
      "execution_count": null,
      "outputs": []
    },
    {
      "cell_type": "markdown",
      "metadata": {
        "id": "qyPgmkWtU2H3"
      },
      "source": [
        "# 맵리듀스\n",
        "\n"
      ]
    },
    {
      "cell_type": "markdown",
      "metadata": {
        "id": "5FJGLAhEHK__"
      },
      "source": [
        "## **filter()**\n",
        "* 주어진 조건에 따라 리스트 요소를 필터링하기 위해 사용하는 함수\n",
        "* 리스트 또는 딕셔너리와 같은 iterable 한 데이터를 특정 조건에 일치하는 값만 추출해 낼때 사용 \n"
      ]
    },
    {
      "cell_type": "code",
      "metadata": {
        "id": "-J02BhhNHOtM"
      },
      "source": [
        "lst =  [1, 2, 3, 4, 5, 6, 7, 8, 9, 10]\n",
        "result = filter (lambda x: x % 2 == 0, lst)\n",
        "print (list(result))"
      ],
      "execution_count": null,
      "outputs": []
    },
    {
      "cell_type": "code",
      "metadata": {
        "id": "rFHauje9JHYV"
      },
      "source": [
        "target = [1, 2, 3, 4, 5, 6, 7, 8, 9, 10]\n",
        "\n",
        "def is_even(n):\n",
        "    return True if n % 2 == 0 else False\n",
        "\n",
        "result = filter(is_even, target)\n",
        "print(list(result))"
      ],
      "execution_count": null,
      "outputs": []
    },
    {
      "cell_type": "code",
      "metadata": {
        "id": "jftymd5rIuDo"
      },
      "source": [
        "target = [1, 2, 3, 4, 5, 6, 7, 8, 9, 10]\n",
        "\n",
        "is_even = lambda x : x % 2 == 0\n",
        "result = filter(is_even, target)\n",
        "print(list(result))"
      ],
      "execution_count": null,
      "outputs": []
    },
    {
      "cell_type": "code",
      "metadata": {
        "id": "jLTzkUZ5JvFp"
      },
      "source": [
        "# 주어진 기온값에서 이상값 (-20 이하 값)을 찾아 제거함\n",
        "temp = [3.6, 4.6, 3.3, 5.2, 4, -20, 1.8, -2.8, -2.4, -0.7, 1.5, 2.7, 3.3, -50,  23.0]\n",
        "\n",
        "# 이상값 검출\n",
        "is_anomaly = lambda x : x + 20 <= 0\n",
        "result = filter(is_anomaly, temp)\n",
        "print(list(result))\n",
        "\n",
        "# 이상값 제거\n",
        "is_not_anomaly = lambda x : x + 20 > 0\n",
        "result = filter(is_not_anomaly, temp)\n",
        "print(list(result))"
      ],
      "execution_count": null,
      "outputs": []
    },
    {
      "cell_type": "markdown",
      "metadata": {
        "id": "675RtK-X3xM5"
      },
      "source": [
        "## **map()** \n",
        "\n",
        "* map() 함수는 연속데이터를 저장하는 자료형의 각 원소마다 같은 기능을 적용하도록 함\n",
        "* map()의 첫번째 인수는 함수, 두번째 인수는 리스트 데이터를 사용함\n",
        "* 함수와 데이터를 입력 값으로 받고 각 데이터에 함수를 대응시켜 그 값을 반환하는 역할을 수행함 \n",
        "\n",
        "* map은 원본 리스트를 변경하지 않고 새 리스트를 생성함\n",
        "```\n",
        "list(map(함수, 리스트))\n",
        "tuple(map(함수, 튜플))\n",
        "```\n",
        "\n",
        "\n",
        "```"
      ]
    },
    {
      "cell_type": "code",
      "metadata": {
        "id": "AIiAXVjNsk7J"
      },
      "source": [
        "a = [1.2, 2.5, 3.7, 4.6]\n",
        "for i in range(len(a)):\n",
        "    a[i] = int(a[i])\n",
        "\n",
        "print (a)"
      ],
      "execution_count": null,
      "outputs": []
    },
    {
      "cell_type": "code",
      "metadata": {
        "id": "bZYc7tFgszuQ"
      },
      "source": [
        "a = [1.2, 2.5, 3.7, 4.6]\n",
        "\n",
        "# 반복가능한 iterable객체 a를 전달받아서, 각 요소에 함수 int를 적용함 \n",
        "a = list(map(int, a))\n",
        "\n",
        "print (a)"
      ],
      "execution_count": null,
      "outputs": []
    },
    {
      "cell_type": "markdown",
      "metadata": {
        "id": "tbPUTEgaDh7p"
      },
      "source": [
        "*lambda* 함수 사용"
      ]
    },
    {
      "cell_type": "code",
      "metadata": {
        "id": "ULwrcYp53vs4"
      },
      "source": [
        "def plus_ten(x):\n",
        "    return x + 10\n",
        "\n",
        "list(map(plus_ten, [1, 2, 3]))"
      ],
      "execution_count": null,
      "outputs": []
    },
    {
      "cell_type": "code",
      "metadata": {
        "id": "vL97kBcy4W_o"
      },
      "source": [
        "list(map(lambda x: x + 10, [1, 2, 3]))"
      ],
      "execution_count": null,
      "outputs": []
    },
    {
      "cell_type": "code",
      "metadata": {
        "id": "EQHxQVQB5tv9"
      },
      "source": [
        "sqr = lambda x: x ** 2\n",
        "\n",
        "sqr(10)"
      ],
      "execution_count": null,
      "outputs": []
    },
    {
      "cell_type": "code",
      "metadata": {
        "id": "S0kCwf8Q5yK5"
      },
      "source": [
        "result = list(map(sqr, range(5))) \n",
        "result"
      ],
      "execution_count": null,
      "outputs": []
    },
    {
      "cell_type": "code",
      "metadata": {
        "id": "_uWgXPC76eyD"
      },
      "source": [
        "result = list(map(sqr, [0,1,2,3,4])) \n",
        "result"
      ],
      "execution_count": null,
      "outputs": []
    },
    {
      "cell_type": "code",
      "metadata": {
        "id": "5-aQ75cw3B0M"
      },
      "source": [
        "result = list(map(lambda x: x ** 2, range(5))) \n",
        "print(result)"
      ],
      "execution_count": null,
      "outputs": []
    },
    {
      "cell_type": "code",
      "metadata": {
        "id": "vRZg3OPR3eM4"
      },
      "source": [
        "plus_ten = lambda x: x + 10\n",
        "list(map(plus_ten, [1, 2, 3]))"
      ],
      "execution_count": null,
      "outputs": []
    },
    {
      "cell_type": "code",
      "metadata": {
        "id": "QjPYrWPB3nwN"
      },
      "source": [
        "list(map(lambda x: x + 10, [1, 2, 3]))"
      ],
      "execution_count": null,
      "outputs": []
    },
    {
      "cell_type": "markdown",
      "metadata": {
        "id": "jvIIh_evRFU0"
      },
      "source": [
        "### (실습) 함수 plus_two() map 적용 "
      ]
    },
    {
      "cell_type": "code",
      "metadata": {
        "id": "5Wh_LJhOREEb"
      },
      "source": [
        "# 1. 일반 함수 버전\n",
        "def plus_two(x):\n",
        "    return x + 2\n",
        " \n",
        "result1 = list(map(plus_two, [1, 2, 3, 4, 5]))\n",
        "print(result1)"
      ],
      "execution_count": null,
      "outputs": []
    },
    {
      "cell_type": "code",
      "metadata": {
        "id": "q7zzZvZDRcYv"
      },
      "source": [
        "result2 = list(map((lambda x: x + 2), [1, 2, 3, 4, 5]))\n",
        "print(result2)"
      ],
      "execution_count": null,
      "outputs": []
    },
    {
      "cell_type": "markdown",
      "metadata": {
        "id": "Zpgh6WgKDvuR"
      },
      "source": [
        "### (실습) map을 사용한 입력 자료 처리"
      ]
    },
    {
      "cell_type": "code",
      "metadata": {
        "id": "t1i-cSmps-K5"
      },
      "source": [
        "# 10 20을 입력함\n",
        "a = map(int, input().split()) # map object\n",
        "a = list(a) # list로 변환\n",
        "print (a)"
      ],
      "execution_count": null,
      "outputs": []
    },
    {
      "cell_type": "markdown",
      "metadata": {
        "id": "fhpKf3s59GwQ"
      },
      "source": [
        "### (실습) 리스트 등의 반복 가능한 객체를 여러 개 사용하여  두 리스트의 요소를 곱해서 새 리스트를 생성한다"
      ]
    },
    {
      "cell_type": "code",
      "metadata": {
        "id": "0bBbMd6s5Lyb"
      },
      "source": [
        "a = [1, 2, 3, 4, 5]\n",
        "b = [2, 4, 6, 8, 10]\n",
        "x = list(map(lambda x, y: x * y, a, b))\n",
        "x\n"
      ],
      "execution_count": null,
      "outputs": []
    },
    {
      "cell_type": "markdown",
      "metadata": {
        "id": "fYi9-ko8SRcW"
      },
      "source": [
        "### (실습) 두개의 리스트의 값을 더하여 새 리스트를 생성한다"
      ]
    },
    {
      "cell_type": "code",
      "metadata": {
        "id": "pI0WLzIeSErt"
      },
      "source": [
        "x = list(map(lambda a,b: a+b, [1,2,3], [10,20,30]))\n",
        "x"
      ],
      "execution_count": null,
      "outputs": []
    },
    {
      "cell_type": "code",
      "metadata": {
        "id": "Zc1ivnWPtpQb"
      },
      "source": [
        "import math\n",
        "number=[1,2,3,4,5]\n",
        "coefficients=[5,6,7,8,9]\n",
        "list(map(math.pow, number, coefficients))"
      ],
      "execution_count": null,
      "outputs": []
    },
    {
      "cell_type": "code",
      "metadata": {
        "id": "XI198W3st_oZ"
      },
      "source": [
        "def func_mul(x):\n",
        "    return x * 2\n",
        "\n",
        "result1 = list(map(func_mul, [5,4,3,2,1]))\n",
        "print(f\"map(일반함수, 리스트) : {result1}\")"
      ],
      "execution_count": null,
      "outputs": []
    },
    {
      "cell_type": "code",
      "metadata": {
        "id": "hop9MrBpuhyS"
      },
      "source": [
        "result2 = list(map(lambda x: x *2, [5,4,3,2,1]))\n",
        "print(f\"map(람다함수, 리스트) : {result2}\")"
      ],
      "execution_count": null,
      "outputs": []
    },
    {
      "cell_type": "code",
      "metadata": {
        "id": "1Wz5EprMvuO7"
      },
      "source": [
        "import math # math 라이브러리 불러오기\n",
        "radius_li = [1,3,5,7] # 반지름 리스트\n",
        "def area(r):\n",
        "    return math.pi * (r**2) # math.pi는 원주율값을 갖습니다.\n",
        "list(map(area,radius_li)) "
      ],
      "execution_count": null,
      "outputs": []
    },
    {
      "cell_type": "code",
      "metadata": {
        "id": "F1V0k1mCv7v2"
      },
      "source": [
        "list(map(lambda x: math.pi * (x**2), radius_li))"
      ],
      "execution_count": null,
      "outputs": []
    },
    {
      "cell_type": "code",
      "metadata": {
        "id": "VuQrZJP9xSC4"
      },
      "source": [
        "lst = ['a pple','ba nana','gr ape']\n",
        " \n",
        "list(map(lambda x: x.replace(' ',''), lst)) \n",
        "# 출력: ['apple', 'banana', 'grape']"
      ],
      "execution_count": null,
      "outputs": []
    },
    {
      "cell_type": "markdown",
      "metadata": {
        "id": "0EL1d3Ip9sKU"
      },
      "source": [
        "## reduce 함수\n",
        "* 반복 가능한 객체의 각 요소를 지정된 함수로 처리한 뒤 이전 결과와 누적해서 반환하는 함수\n",
        "> 반복 가능한 객체인 리스트의 처음 2개 요소에 함수를 적용 후 결과값을 3번째 요소에 적용, 하나의 요소만 남을 때 까지 반복 \n",
        "\n",
        "```\n",
        "from functools import reduce\n",
        "reduce(함수, 반복가능한객체)\n",
        "```"
      ]
    },
    {
      "cell_type": "code",
      "metadata": {
        "id": "KaKuytUN_Qd9"
      },
      "source": [
        "def f(x, y):\n",
        "    return x + y\n",
        "a = [1, 2, 3, 4, 5]\n",
        "\n",
        "from functools import reduce\n",
        "reduce(f, a)"
      ],
      "execution_count": null,
      "outputs": []
    },
    {
      "cell_type": "code",
      "metadata": {
        "id": "GCiil511-EPh"
      },
      "source": [
        "# 10 20 30을 입력함\n",
        "a = map(int, input().split()) # map object\n",
        "a = list(a) # list로 변환\n",
        "print (a)\n",
        "\n",
        "from functools import reduce\n",
        "\n",
        "print (reduce (lambda x, y: x + y, a))"
      ],
      "execution_count": null,
      "outputs": []
    },
    {
      "cell_type": "markdown",
      "metadata": {
        "id": "pHRtRs4PWTk7"
      },
      "source": [
        "실습\n",
        "> 함수 f 를 list1의 각요소에 적용함\n",
        "* reduce() 함수는 리스트와 같은 자료형에 차례대로 함수를 적용하여 모든 값을 통합함\n",
        "* list1의 두개 원소를 x와 y에 각각 대입한 후 결과를 새롭게 대입한한후, list1의 다음 원소를 y에 대입하여 수행"
      ]
    },
    {
      "cell_type": "code",
      "metadata": {
        "id": "18t1BagmU41x"
      },
      "source": [
        "list1 = list(range(1,6))\n",
        "print (list1)"
      ],
      "execution_count": null,
      "outputs": []
    },
    {
      "cell_type": "code",
      "metadata": {
        "id": "sLfSyrrjWCuL"
      },
      "source": [
        "from functools import reduce\n",
        "\n",
        "print (reduce (lambda x, y: x + y, list1))"
      ],
      "execution_count": null,
      "outputs": []
    },
    {
      "cell_type": "markdown",
      "metadata": {
        "id": "WJHJfH9rXAqR"
      },
      "source": [
        "> reduce()를 for문으로 재작성함"
      ]
    },
    {
      "cell_type": "code",
      "metadata": {
        "id": "KYaZDgSIW3MA"
      },
      "source": [
        "x = 0\n",
        "for y in list1:\n",
        "    x += y\n",
        "print (x)"
      ],
      "execution_count": null,
      "outputs": []
    },
    {
      "cell_type": "markdown",
      "metadata": {
        "id": "Nqmb6EzdEBvZ"
      },
      "source": [
        "# 예외처리\n",
        "\n",
        "* 작성된 프로그램의 오류로 인해 비정상적인 종료와 같은 예상치 않은 결과가 발생하지 않도록 파이썬에서는 예외(exception)을 처리를 위한 구문을 제공\n",
        "* 프로그램의 제어 흐름을 조정하기 위해 사용하는 이벤트를 예외라고 함 \n",
        "* 파이썬에서는 예외에 대해 자동으로 에러를 발생시킴"
      ]
    },
    {
      "cell_type": "code",
      "metadata": {
        "id": "L3VtmlOuE11-"
      },
      "source": [
        "a = [10, 20, 30]\n",
        "a[3]"
      ],
      "execution_count": null,
      "outputs": []
    },
    {
      "cell_type": "markdown",
      "metadata": {
        "id": "Gvi6R47yFJW6"
      },
      "source": [
        "> 배열의 크기를 넘은 인덱스를 참조하는 경우 비정상적인 종료 발생\n",
        "*  잘 작성된 코드도 실행 중 오류(잠재적 결함)가 발생"
      ]
    },
    {
      "cell_type": "markdown",
      "metadata": {
        "id": "s7BmTe2AFnzu"
      },
      "source": [
        "## try - except 문\n",
        "프로그램에서 에러가 발생했을 때, 에러를 핸들링하는 기능으로 try...except 문을 사용할 수 있음 \n",
        "* try 블록,  프로그램에서 오류를 테스트하기 위한 영역  \n",
        "* except 블록, 오류 발생시  예외 처리를 수행되는 영역\n",
        "* finally 블록, 예외 처리와 관계없이 수행되는 영역 (선택적으로 사용)"
      ]
    },
    {
      "cell_type": "code",
      "metadata": {
        "id": "mlpn-BlUE6fV"
      },
      "source": [
        "bar = 100\n",
        "del bar"
      ],
      "execution_count": null,
      "outputs": []
    },
    {
      "cell_type": "code",
      "metadata": {
        "id": "2EYZ2LfbjIbg"
      },
      "source": [
        "print (bar)"
      ],
      "execution_count": null,
      "outputs": []
    },
    {
      "cell_type": "code",
      "metadata": {
        "id": "MgdPM8q2FEuD"
      },
      "source": [
        "try:\n",
        "  print (bar)\n",
        "except:\n",
        "  print(\"오류 발생, foo가 정의되어 있지 않음\")"
      ],
      "execution_count": null,
      "outputs": []
    },
    {
      "cell_type": "markdown",
      "metadata": {
        "id": "SsBzKEmTF_py"
      },
      "source": [
        "* try 블럭 내의 어느 문장에서 에러가 발생하면, except 문으로 이동하고 예외 처리를 할 수 있음 \n",
        "* try 문은 또한 finally 문을 가질 수도 있는데, finally 블럭은 try 블럭이 정상적으로 실행되든, 에러가 발생하여 except 블럭이 실행되든 상관없이 항상 마지막에 실행됨 \n",
        "\n",
        "\n",
        "> 입력받은 값을 변수 x에 저장한 후 x의 값으로 10을 나누었을 때  **0으로 나누었을 때 발생하는 예외** \n",
        "가 발생\n",
        "* x의 값이 0인 경우  ZeroDivisionError 예외가 발생하며  except 블록에서 예외 처리가 이루짐\n",
        "* 이 과정에서 y = 10 / x 문장을 수행되지 않음"
      ]
    },
    {
      "cell_type": "code",
      "metadata": {
        "id": "HX0qM5upGN3V"
      },
      "source": [
        "def ten_div(x):\n",
        "    return 10 / x\n",
        "\n",
        "ten_div(5)\n",
        "ten_div(0) # 0을 넣으면 실행하는 중에 에러가 발생"
      ],
      "execution_count": null,
      "outputs": []
    },
    {
      "cell_type": "code",
      "metadata": {
        "id": "jSR_IfEtGOJx"
      },
      "source": [
        "try:\n",
        "    x = int(input('나눌 숫자 입력: '))\n",
        "    y = 10 / x\n",
        "    print(y)\n",
        "except:    # 예외가 발생했을 때 실행됨\n",
        "    print('0 나누기 예외가 발생')"
      ],
      "execution_count": null,
      "outputs": []
    },
    {
      "cell_type": "markdown",
      "metadata": {
        "id": "26Bh7hTuGmy4"
      },
      "source": [
        " * 입력된 값이 정수이면 올바른 정수값이 입력하였음을 출력한다. 단, 유효하지 않은 정수값에 대해서는 예외를 처리하여야 한다"
      ]
    },
    {
      "cell_type": "code",
      "metadata": {
        "id": "_0-gPc8rGrtU"
      },
      "source": [
        "while True:\n",
        "   try:\n",
        "      n=input(\"정수값을 입력하시오: \")\n",
        "      n=int(n)\n",
        "      break\n",
        "   except:\n",
        "      print(\"유효한 정수가 아닙니다! 다시 입력하시요.\")\n",
        "print(\"올바른 정수값 {}을 입력하셨습니다. \".format(n))"
      ],
      "execution_count": null,
      "outputs": []
    },
    {
      "cell_type": "markdown",
      "metadata": {
        "id": "QtlD6Bj8Hp5V"
      },
      "source": [
        "try - else 블록에서 else 블록은 예외가 발생하지 않는 경우 수행된다 "
      ]
    },
    {
      "cell_type": "code",
      "metadata": {
        "id": "f20xRqz3HWvT"
      },
      "source": [
        "try:\n",
        "    print(\"Hello\")\n",
        "except:\n",
        "    print(\"Something went wrong\")\n",
        "else:  \n",
        "    # 예외가 발생하지 않을 경우, 수행할 문장   \n",
        "    print(\"Nothing went wrong\")"
      ],
      "execution_count": null,
      "outputs": []
    },
    {
      "cell_type": "markdown",
      "metadata": {
        "id": "QDfGnq6FH6Pz"
      },
      "source": [
        "try - finally 블록은 try 블록에서 오류가 발생하거나 발생하지 않았거나 항상 실행된다\n"
      ]
    },
    {
      "cell_type": "code",
      "metadata": {
        "id": "U6K1vtJoIC7n"
      },
      "source": [
        "x = 5\n",
        "try:\n",
        "  print(x)\n",
        "except:\n",
        "  print(\"Something went wrong\")\n",
        "finally:\n",
        "  print(\"The 'try except' is finished\") "
      ],
      "execution_count": null,
      "outputs": []
    },
    {
      "cell_type": "markdown",
      "metadata": {
        "id": "5TLk-k3BIO-_"
      },
      "source": [
        "입력받은 값을 변수 x에 저장한 후 x의 값으로 10을 나누었을 때  예외가 발생하면 pass를 사용하여 예외처리를 회피한다\n",
        "> y를 0으로 나눈 경우 except 블록에 의해 예외처리가 회피된다.  "
      ]
    },
    {
      "cell_type": "code",
      "metadata": {
        "id": "6H_DLnCGIR8h"
      },
      "source": [
        "try:\n",
        "    x = int(input('나눌 숫자 입력: '))\n",
        "    y = 10 / x\n",
        "    print(y)\n",
        "except:    # 예외가 발생했을 때 실행됨\n",
        "    pass "
      ],
      "execution_count": null,
      "outputs": []
    },
    {
      "cell_type": "markdown",
      "metadata": {
        "id": "blYU2-O82UvV"
      },
      "source": [
        "raise 문은 프로그래머가 지정한 예외가 발생하도록 강제함"
      ]
    },
    {
      "cell_type": "code",
      "metadata": {
        "id": "lzToAiWMI2b2"
      },
      "source": [
        "try:\n",
        "    x = int(input('나눌 숫자 입력: '))\n",
        "    if x ==  0:\n",
        "       raise ZeroDivisionError\n",
        "\n",
        "    y = 10 / x\n",
        "    print(y)\n",
        "except ZeroDivisionError:    # 예외가 발생했을 때 실행됨\n",
        "    print('0 나누기 예외가 발생')"
      ],
      "execution_count": null,
      "outputs": []
    },
    {
      "cell_type": "markdown",
      "metadata": {
        "id": "KVxeiJivI89C"
      },
      "source": [
        "예외를 발생시킬 때는 raise에 예외를 지정하고 에러 메시지를 지정할 수 있다"
      ]
    },
    {
      "cell_type": "code",
      "metadata": {
        "id": "UKzhijLjI-ly"
      },
      "source": [
        "try:\n",
        "    x = int(input('나눌 숫자 입력: '))\n",
        "    if x ==  0:\n",
        "       raise Exception('0으로 나누기 오류')\n",
        "    y = 10 / x\n",
        "    print(y)\n",
        "except Exception as e:    # 예외가 발생했을 때 실행됨\n",
        "    print(e)"
      ],
      "execution_count": null,
      "outputs": []
    },
    {
      "cell_type": "markdown",
      "metadata": {
        "id": "sU7mRM-42vHp"
      },
      "source": [
        "주어진 리스트 [ 10, 20, 30, 40, -1] 에서 자료값에 0보다 작은 값을 갖는 경우 비정상적인 값으로 처리하기 위해 예외를 발생시켜 처리를 하도록 한다. 해당 예외처리 시 \"-1 : wrong number \"을 예외의 내용으로 출력하도록 한다"
      ]
    },
    {
      "cell_type": "code",
      "metadata": {
        "id": "AdYQXeKQ2qHz"
      },
      "source": [
        "lst = [ 10, 20, 30, 40, -1]\n",
        "\n",
        "for x in lst:\n",
        "    if x < 0:\n",
        "        raise Exception(f\"{x} : wrong number\")\n",
        "    "
      ],
      "execution_count": null,
      "outputs": []
    },
    {
      "cell_type": "code",
      "metadata": {
        "id": "d8eZRX3G3JIT"
      },
      "source": [
        "lst = [ 10, 20, 30, 40, -1]\n",
        "\n",
        "try:\n",
        "    for x in lst:\n",
        "        if x < 0:\n",
        "            raise Exception(f\"{x} : wrong number\")\n",
        "except Exception as e:\n",
        "    print (e)"
      ],
      "execution_count": null,
      "outputs": []
    },
    {
      "cell_type": "code",
      "metadata": {
        "id": "XSVgcTAKV650"
      },
      "source": [
        "class raiseeError(Exception):\n",
        "    def __init__(self, message='숫자가 아닙니다.'):\n",
        "        self.message = message\n",
        "\n",
        "    def __str__(self):\n",
        "        return 'raiseeError : ' + self.message\n"
      ],
      "execution_count": null,
      "outputs": []
    },
    {
      "cell_type": "code",
      "metadata": {
        "id": "_DNFg9KTVvWz"
      },
      "source": [
        "while True:\n",
        "    value = input(\"변환할 정수 값을 입력해 주세요: \")\n",
        "    for digit in value:\n",
        "        if digit not in \"0123456789\":\n",
        "             raise raiseeError(\"숫자를 입력하지 안았습니다.\")\n",
        "    print(\"정수값으로 변환할 숫자 : \",  int(value))"
      ],
      "execution_count": null,
      "outputs": []
    },
    {
      "cell_type": "code",
      "metadata": {
        "id": "_EGqwfH9XxgO"
      },
      "source": [
        "while True:\n",
        "    value = input(\"변환할 정수 값을 입력해 주세요: \")\n",
        "    if value = '-1':\n",
        "        break\n",
        "    try:\n",
        "        for digit in value:\n",
        "            if digit not in \"0123456789\":\n",
        "                 raise raiseeError(\"숫자를 입력하지 안았습니다.\")\n",
        "                 print(\"정수값으로 변환할 숫자 : \",  int(value))\n",
        "    except raiseeError as e:\n",
        "        print (e)"
      ],
      "execution_count": null,
      "outputs": []
    },
    {
      "cell_type": "markdown",
      "metadata": {
        "id": "6pX_AaKxXqIl"
      },
      "source": [
        "# 딕셔너리 \n",
        "* immutable한 키(key)와 mutable한 값(value)으로 맵핑되어 있는 순서가 없는 집합\n",
        "* 중괄호로 되어 있고 키와 값으로 구성"
      ]
    },
    {
      "cell_type": "code",
      "metadata": {
        "id": "FYAqTLwHZQAY"
      },
      "source": [
        "d = {\"a\" : 1, \"b\":2}\n",
        "d['a']"
      ],
      "execution_count": null,
      "outputs": []
    },
    {
      "cell_type": "code",
      "metadata": {
        "id": "LhWPpZ4kXKiw"
      },
      "source": [
        "d = {1:'a', 2:'b', 3:'c'}\n",
        "for x in d.keys():\n",
        "  print(d[x])"
      ],
      "execution_count": null,
      "outputs": []
    },
    {
      "cell_type": "code",
      "metadata": {
        "id": "RJOuRJeaZBTL"
      },
      "source": [
        "d[4] = 'd'\n",
        "d"
      ],
      "execution_count": null,
      "outputs": []
    },
    {
      "cell_type": "code",
      "metadata": {
        "id": "2u-eBVkd5nyB"
      },
      "source": [
        "d.get(4)"
      ],
      "execution_count": null,
      "outputs": []
    },
    {
      "cell_type": "markdown",
      "metadata": {
        "id": "qU03jtf650YP"
      },
      "source": [
        "키가 없는 딕셔너리 자료 접근 "
      ]
    },
    {
      "cell_type": "code",
      "metadata": {
        "id": "7l9-dje35so6"
      },
      "source": [
        "d[5]"
      ],
      "execution_count": null,
      "outputs": []
    },
    {
      "cell_type": "code",
      "metadata": {
        "id": "_T85F4nt5vo1"
      },
      "source": [
        "d.get(5)"
      ],
      "execution_count": null,
      "outputs": []
    },
    {
      "cell_type": "markdown",
      "metadata": {
        "id": "2JMdRAysYhlU"
      },
      "source": [
        "* 키로는 immutable한 값은 사용할 수 있지만, mutable한 객체는 사용할 수 없음"
      ]
    },
    {
      "cell_type": "code",
      "metadata": {
        "id": "kuhK-1xGYTA9"
      },
      "source": [
        "a = {(1,5): 5, (3,3): 3} # tuple사용"
      ],
      "execution_count": null,
      "outputs": []
    },
    {
      "cell_type": "code",
      "metadata": {
        "id": "VyXyNx4oYT3V"
      },
      "source": [
        "for x in a.keys():\n",
        "  print(a[x])"
      ],
      "execution_count": null,
      "outputs": []
    },
    {
      "cell_type": "markdown",
      "metadata": {
        "id": "pwaoF3h2Yxj_"
      },
      "source": [
        "* 값은 중복될 수 있지만, 키가 중복되면 마지막 값으로 갱신됨"
      ]
    },
    {
      "cell_type": "code",
      "metadata": {
        "id": "4JruclREYvXJ"
      },
      "source": [
        "{\"a\" : 1, \"a\":2}"
      ],
      "execution_count": null,
      "outputs": []
    },
    {
      "cell_type": "code",
      "metadata": {
        "id": "a2B__K_jMvMp"
      },
      "source": [
        "ex1={'a':1,'b':2, 'c': {'c1': 3} }\n",
        "\n",
        "ex1['c']['c1']"
      ],
      "execution_count": null,
      "outputs": []
    },
    {
      "cell_type": "markdown",
      "metadata": {
        "id": "bLlHgzV9Bdmi"
      },
      "source": [
        "# Collection \n",
        "* deque\n",
        "* OrderedDict\n",
        "* defaultdict\n",
        "* Counter\n",
        "* named tutple"
      ]
    },
    {
      "cell_type": "markdown",
      "metadata": {
        "id": "pe80sT1uG6Nq"
      },
      "source": [
        "## deque"
      ]
    },
    {
      "cell_type": "code",
      "metadata": {
        "id": "kudqJVENDeWQ"
      },
      "source": [
        "# 리스트 자료의 마지막에 자료 추가\n",
        "import collections\n",
        "deq = collections.deque(['a','b','c'])\n",
        "deq.append('d')\n",
        "print(deq)\n"
      ],
      "execution_count": null,
      "outputs": []
    },
    {
      "cell_type": "code",
      "metadata": {
        "id": "GHWljNdmEGQG"
      },
      "source": [
        "# 리스트 자료의 앞에 자료 추가\n",
        "import collections\n",
        "deq = collections.deque(['a','b','c'])\n",
        "deq.appendleft('d')\n",
        "print(deq)"
      ],
      "execution_count": null,
      "outputs": []
    },
    {
      "cell_type": "code",
      "metadata": {
        "id": "fCLfSeqFF8qA"
      },
      "source": [
        "# 자료 삭제하기 (stack)\n",
        "import collections\n",
        "deq = collections.deque(['a', 'b', 'c'])\n",
        "print('deque.pop() ->', end=' ')\n",
        "while True:\n",
        "    try:\n",
        "        print(deq.pop(), end=' ')\n",
        "    except IndexError:\n",
        "        break\n",
        "print()"
      ],
      "execution_count": null,
      "outputs": []
    },
    {
      "cell_type": "code",
      "metadata": {
        "id": "6V6gldqUGLUS"
      },
      "source": [
        "# 자료를 왼쪽에서 부터 삭제하기\n",
        "deq = collections.deque(['a', 'b', 'c'])\n",
        "print('deque.popleft() ->', end=' ')\n",
        "while True:\n",
        "    try:\n",
        "        print(deq.popleft(), end=' ')\n",
        "    except IndexError:\n",
        "        break\n",
        "print()"
      ],
      "execution_count": null,
      "outputs": []
    },
    {
      "cell_type": "markdown",
      "metadata": {
        "id": "kGocAUluD93O"
      },
      "source": [
        "(실습)deque"
      ]
    },
    {
      "cell_type": "code",
      "metadata": {
        "id": "zwHD-SujBlPj"
      },
      "source": [
        "from collections import deque\n",
        "double_queue = deque([\"Monday\", \"Tuesday\",\"Wednesday\"])\n",
        "print(double_queue)"
      ],
      "execution_count": null,
      "outputs": []
    },
    {
      "cell_type": "code",
      "metadata": {
        "id": "lHwjzfc1B0I9"
      },
      "source": [
        " double_queue.append(\"Thursday\")\n",
        " print(double_queue)"
      ],
      "execution_count": null,
      "outputs": []
    },
    {
      "cell_type": "code",
      "metadata": {
        "id": "vz3MKdCSCbrv"
      },
      "source": [
        "double_queue.appendleft(\"Sunday\")\n",
        "print (double_queue)"
      ],
      "execution_count": null,
      "outputs": []
    },
    {
      "cell_type": "markdown",
      "metadata": {
        "id": "jSTa0KdbHCax"
      },
      "source": [
        "## OrderedDict"
      ]
    },
    {
      "cell_type": "code",
      "metadata": {
        "id": "WM4TB-AjG1An"
      },
      "source": [
        "from collections import OrderedDict\n",
        "d = OrderedDict()\n",
        "d['x'] = 100\n",
        "d['y'] = 200\n",
        "d['z'] = 300\n",
        "d['l'] = 500\n",
        "for k, v in d.items():\n",
        "    print(k, v)"
      ],
      "execution_count": null,
      "outputs": []
    },
    {
      "cell_type": "code",
      "metadata": {
        "id": "clvOowepHFeA"
      },
      "source": [
        "# 키의 순서에 따라 정렬\n",
        "def sort_by_key(t):\n",
        "    return t[0]\n",
        "\n",
        "for k, v in OrderedDict(sorted(d.items(), key=sort_by_key)).items():\n",
        "    print (k, v)\n"
      ],
      "execution_count": null,
      "outputs": []
    },
    {
      "cell_type": "code",
      "metadata": {
        "id": "s4Dr7q_aHgST"
      },
      "source": [
        "# 키의 순서에 따라 정렬\n",
        "from collections import OrderedDict\n",
        "\n",
        "# 기본 딕셔너리 \n",
        "d={'banana':3, 'apple':4, 'pear':1, 'orange':2}\n",
        "\n",
        "# 키(key)를 기준으로 정렬한 OrderedDict\n",
        "ordered_d1 = OrderedDict(sorted(d.items(), key=lambda t: t[0]))\n",
        "print(ordered_d1)"
      ],
      "execution_count": null,
      "outputs": []
    },
    {
      "cell_type": "code",
      "metadata": {
        "id": "R2nLYbnSIGBM"
      },
      "source": [
        "# 값의 순서에 따라 정렬\n",
        "from collections import OrderedDict\n",
        "\n",
        "# 기본 딕셔너리 \n",
        "d={'banana':3, 'apple':4, 'pear':1, 'orange':2}\n",
        "\n",
        "# 키(key)를 기준으로 정렬한 OrderedDict\n",
        "ordered_d1 = OrderedDict(sorted(d.items(), key=lambda t: t[1]))\n",
        "print(ordered_d1)"
      ],
      "execution_count": null,
      "outputs": []
    },
    {
      "cell_type": "code",
      "metadata": {
        "id": "tz5nfLSuIeA4"
      },
      "source": [
        "# 마지막 자료 및 처음자료 얻기 \n",
        "print (ordered_d1.popitem())\n",
        "print (ordered_d1.popitem(last=False))\n",
        "\n",
        "print (d)"
      ],
      "execution_count": null,
      "outputs": []
    },
    {
      "cell_type": "markdown",
      "metadata": {
        "id": "UYGVBLW_IE4v"
      },
      "source": [
        "(실습) 지역에 따른 날씨 정보를 얻은 후 온도에 따라 자료를 정렬함"
      ]
    },
    {
      "cell_type": "markdown",
      "metadata": {
        "id": "0RH4FielLfe3"
      },
      "source": [
        "## defaultdict"
      ]
    },
    {
      "cell_type": "code",
      "metadata": {
        "id": "6jDqlEBbLpU-"
      },
      "source": [
        "# 존재하지 않는 키를 접근하는 경우 비정상적인 종료\n",
        "ex1={'a':1,'b':2}\n",
        "print(ex1)\n",
        "print(ex1['c'])"
      ],
      "execution_count": null,
      "outputs": []
    },
    {
      "cell_type": "code",
      "metadata": {
        "id": "UD5RyuZwL9dx"
      },
      "source": [
        "ex1.get('c')"
      ],
      "execution_count": null,
      "outputs": []
    },
    {
      "cell_type": "code",
      "metadata": {
        "id": "IjuqOSaoLkeo"
      },
      "source": [
        "from collections import defaultdict\n",
        "d = defaultdict(lambda: 0)\n",
        "print (d['first'])"
      ],
      "execution_count": null,
      "outputs": []
    },
    {
      "cell_type": "code",
      "metadata": {
        "id": "KFpThwcGXSc3"
      },
      "source": [
        "from collections import defaultdict\n",
        "\n",
        "def default_value():\n",
        "    return \"Not Present Yet\"\n",
        "\n",
        "mydict = defaultdict(lambda: \"Not Present Yet\" )\n",
        "#mydict = defaultdict(default_value)\n",
        "\n",
        "mydict[\"cat\"] = 2\n",
        "mydict[\"dog\"] = 4\n",
        "print(mydict[\"cat\"])\n",
        "print(mydict[\"dog\"])\n",
        "\n",
        "print (mydict['python'])"
      ],
      "execution_count": null,
      "outputs": []
    },
    {
      "cell_type": "markdown",
      "metadata": {
        "id": "8tiXibxRM7ce"
      },
      "source": [
        "## Counter\n",
        "\n",
        "[활용 사례](https://colab.research.google.com/drive/18RY0gKO7BkA6LaIgXFcamwUQIluwsLjS)"
      ]
    },
    {
      "cell_type": "code",
      "metadata": {
        "id": "RJrYv1ZWM__P"
      },
      "source": [
        "from collections import Counter\n",
        "  \n",
        "text = list(\"Hello Python\")\n",
        "c = Counter(text)\n",
        "print (c)\n",
        "print (c['l'])"
      ],
      "execution_count": null,
      "outputs": []
    },
    {
      "cell_type": "markdown",
      "metadata": {
        "id": "8s-37Ak1NLAz"
      },
      "source": [
        "## named tuple"
      ]
    },
    {
      "cell_type": "code",
      "metadata": {
        "id": "0sqc3A9zNMw9"
      },
      "source": [
        "from collections import namedtuple\n",
        "Point = namedtuple('Point', ['x', 'y'])\n",
        "p = Point(11, y =  22)\n",
        "\n",
        "print (p.x, p.y)"
      ],
      "execution_count": null,
      "outputs": []
    },
    {
      "cell_type": "code",
      "metadata": {
        "id": "vmQHSrrsNhzf"
      },
      "source": [
        "import collections\n",
        "\n",
        "# namedtuple()\n",
        "Person=collections.namedtuple(\"Person\",'name age gender')\n",
        "P1=Person(name='Jhon',age=28,gender='남')\n",
        "P2=Person(name='Sally',age=28,gender='여')\n",
        "for n in [P1, P2]:\n",
        "    print(n.name, n.age, n.gender)"
      ],
      "execution_count": null,
      "outputs": []
    },
    {
      "cell_type": "markdown",
      "metadata": {
        "id": "9tSr9d7OPugt"
      },
      "source": [
        "# 내장함수  zip() \n",
        "여러 개의 순회 가능한(iterable) 객체를 인자로 받고, 각 객체가 담고 있는 원소를 튜플의 형태로 차례로 접근할 수 있는 반복자(iterator)를 반환"
      ]
    },
    {
      "cell_type": "code",
      "metadata": {
        "id": "TRkINb2uidle"
      },
      "source": [
        "list_1 = [1, 2, 3]\n",
        "list_2 = ['one', 'two', 'tree']\n",
        "list(zip(list_1, list_2))"
      ],
      "execution_count": null,
      "outputs": []
    },
    {
      "cell_type": "markdown",
      "metadata": {
        "id": "ZNKGm5MfitYo"
      },
      "source": [
        "* 길이가 다른 리스트의 zip() 함수 사용"
      ]
    },
    {
      "cell_type": "code",
      "metadata": {
        "id": "v-v84KNzim-O"
      },
      "source": [
        "list_1 = [1, 2, 3, 4, 5] # 5 elements\n",
        "list_2 = ['one', 'two', 'tree'] # Only 3 elements\n",
        "list(zip(list_1, list_2))"
      ],
      "execution_count": null,
      "outputs": []
    },
    {
      "cell_type": "code",
      "metadata": {
        "id": "y3m0L1RlPQOd"
      },
      "source": [
        "grades = [\"High\", \"Medium\", \"Low\"]\n",
        "values = [0.75, 0.50, 0.25]\n",
        "\n",
        "print (*zip(grades, values))\n",
        "\n",
        "for grade, value in zip(grades, values):\n",
        "    print(\"{}% {}\".format(value * 100, grade))"
      ],
      "execution_count": null,
      "outputs": []
    },
    {
      "cell_type": "markdown",
      "metadata": {
        "id": "CV-vkb0grHJ8"
      },
      "source": [
        "# 모듈\n",
        "* 비슷한 함수와 클래스를 작성한다면 코드가 길어지고 중복되는 부분이 생김 \n",
        "* 공통되는 부분을 빼내서 모듈(module)과 패키지(package)로 구 성함 \n",
        "* 코드를 다시 만들지 않고 모듈과 패키지만 가져와서 사용하면 편리함 \n",
        "* 모듈은 간단한 기능을 담을 때 사용하며, 패키지는 코드가 많고 복잡할 때 사용 \n",
        "\n",
        "```\n",
        "# mod.py\n",
        "def add(a, b): \n",
        "    return a + b \n",
        "def sub(a, b): \n",
        "    return a-b \n",
        "```\n"
      ]
    },
    {
      "cell_type": "code",
      "metadata": {
        "id": "2ck8Swetrcq8"
      },
      "source": [
        "# test_mod.py \n",
        "import mod \n",
        "print(mod.add(3, 4))\n"
      ],
      "execution_count": null,
      "outputs": []
    },
    {
      "cell_type": "markdown",
      "metadata": {
        "id": "D5wJNdvfsVCm"
      },
      "source": [
        "from import로 변수와 함수를 가져온 뒤 모듈 이름을 붙이지 않고 사용(모듈함수 활용) \n"
      ]
    },
    {
      "cell_type": "code",
      "metadata": {
        "id": "gmT-zbnasbOX"
      },
      "source": [
        "from mod import add\n",
        "print(add(3, 4))"
      ],
      "execution_count": null,
      "outputs": []
    },
    {
      "cell_type": "markdown",
      "metadata": {
        "id": "_NwAdVX5ISvJ"
      },
      "source": [
        "#클래스와 객체 \n",
        "\n",
        "* 클래스를 정의하기 위해서는 class 키워드를 작성한 후 class 이름 ClassName을 기술한다. 이후 속성(attribute)과 메소드(method)를 문장 statement를 기술한다\n",
        "* class 키워드 다음에는 클래스 이름과 콜론(:)이 위치하며, 클래스이름은 관례적으로 첫글자를 대문자로 사용한다\n",
        "* 클래스는 파이썬 프로그램 어디에서나 정의 할 수 있음  \n",
        "* 클래스의 객체(인스턴스) 생성시 생성자 $__init__()$ 가 수행됨  \n",
        "\n",
        "```\n",
        "Class my_class:\n",
        " Statement1\n",
        " Statement2\n",
        " ..........\n",
        " ..........\n",
        " Statement_n\n",
        " ```\n"
      ]
    },
    {
      "cell_type": "code",
      "metadata": {
        "id": "riWT0ddnZl8R"
      },
      "source": [
        "class Cat:\n",
        "    def __init__(self, name, color=\"white\"):\n",
        "        self.name = name\n",
        "        self.color = color\n",
        "\n",
        "    def __str__(self):\n",
        "        return (f\"Cat name {self.name}, Cat colore {self.color}\")\n",
        "    \n",
        "    def meow(self):\n",
        "        print (f\"{self.name} speek Meow!\")\n",
        "\n",
        "nabi = Cat(\"nabi\", \"white\") \n",
        "nabi.meow()\n",
        "print (nabi)\n",
        "\n",
        "nero = Cat(\"nero\", \"black\")\n",
        "nero.meow()\n",
        "print (nero)\n",
        "\n",
        "mini = Cat (\"mini\")\n",
        "mini.meow()\n",
        "print (mini)\n"
      ],
      "execution_count": null,
      "outputs": []
    },
    {
      "cell_type": "code",
      "metadata": {
        "id": "rFPWiOb0e313"
      },
      "source": [
        "class MyClass:\n",
        "    pass"
      ],
      "execution_count": null,
      "outputs": []
    },
    {
      "cell_type": "code",
      "metadata": {
        "id": "GJKC82lTd181"
      },
      "source": [
        "class MyClass:\n",
        "    def __init__(self, a, b):\n",
        "        self.a = a\n",
        "        self.b = b\n",
        "\n",
        "n = MyClass(\"Python\", \"Tutorial\")\n",
        "\n",
        "print(n.a)\n",
        "print(n.b)"
      ],
      "execution_count": null,
      "outputs": []
    },
    {
      "cell_type": "code",
      "metadata": {
        "id": "nK9ut7WQyPvf"
      },
      "source": [
        "class MyClass:\n",
        "    def __init__(self, a, b):\n",
        "        self.__a = a\n",
        "        self.__b = b\n",
        "        \n",
        "    def __str__(self):\n",
        "        return 'Cat(name='+self.__a+', age='+str(self.__b)+')'\n",
        "\n",
        "\n",
        "n = MyClass(\"Python\", \"Tutorial\")\n",
        "\n",
        "print (n)"
      ],
      "execution_count": null,
      "outputs": []
    },
    {
      "cell_type": "markdown",
      "metadata": {
        "id": "YMOUJtWL0BSM"
      },
      "source": [
        "캡슐화encapsulation\n",
        "* 정보은익\n",
        "* 메소드와 변수를 외부에서 함부로 조작하는 것을 제한\n",
        "* 데이터를 보호\n",
        "* 우연히 값이 변경되는 것을 방지\n"
      ]
    },
    {
      "cell_type": "code",
      "metadata": {
        "id": "MeQKrvHrzI2K"
      },
      "source": [
        "class MyClass:\n",
        "    def __init__(self, a, b):\n",
        "        self.__a = a\n",
        "        self.__b = b\n",
        "\n",
        "    def set_a(self, a):\n",
        "        self.__a = a\n",
        "\n",
        "    def get_a(self):\n",
        "        return self.__a\n",
        "\n",
        "    def __str__(self):\n",
        "        return 'Cat(name='+self.__a+', age='+str(self.__b)+')'\n",
        "\n",
        "n = MyClass(\"Python\", \"Tutorial\")\n",
        "n.set_a(\"Programming\")\n",
        "print (n.get_a())"
      ],
      "execution_count": null,
      "outputs": []
    },
    {
      "cell_type": "code",
      "metadata": {
        "id": "9HxakBe_0Xjj"
      },
      "source": [
        "class MyClass:\n",
        "    def __init__(self, a, b):\n",
        "        self.__a = a\n",
        "        self.__b = b\n",
        "\n",
        "    def set_a(self, a):\n",
        "        if a in ['Python', 'Java', \"C\", \"C++\"]:\n",
        "            self.__a = a\n",
        "            \n",
        "\n",
        "    def get_a(self):\n",
        "        return self.__a\n",
        "\n",
        "    def __str__(self):\n",
        "        return 'Cat(name='+self.__a+', age='+str(self.__b)+')'\n",
        "\n",
        "n = MyClass(\"Python\", \"Tutorial\")\n",
        "\n",
        "value = \"Programming\"\n",
        "n.set_a(value)\n",
        "if n.get_a() != value:\n",
        "    print (\"Wrong value\")\n",
        "\n",
        "print (n.get_a())"
      ],
      "execution_count": null,
      "outputs": []
    },
    {
      "cell_type": "markdown",
      "metadata": {
        "id": "nlcYgW9_Qa4U"
      },
      "source": [
        "Cat 클래스"
      ]
    },
    {
      "cell_type": "code",
      "metadata": {
        "id": "hK2TGanFQXdH"
      },
      "source": [
        "class Cat:\n",
        "    def __init__(self, name, color):\n",
        "        self.name = name\n",
        "        self.color = color\n",
        "\n",
        "    def __str__(self):\n",
        "        return 'Cat(name='+ self.name+', color='+self.color+ ')'\n",
        "\n",
        "    def set_age(self, age): \n",
        "        if age > 0:\n",
        "            self.__age = age\n",
        "        else:\n",
        "            self.__age = \"Wrong value\"\n",
        "            \n",
        "    def get_age(self):\n",
        "        return self.__age\n",
        "\n",
        "\n",
        "nabi = Cat('나비', '검정색') \n",
        "nero = Cat('네로', '흰색') \n",
        "\n",
        "# print (nabi.__age) # 외부에서 속성을 접근할 수 없음\n",
        "\n",
        "nabi.set_age(5)\n",
        "print (nabi.get_age())\n",
        "\n",
        "nero.set_age(-5)\n",
        "print (nero.get_age())"
      ],
      "execution_count": null,
      "outputs": []
    },
    {
      "cell_type": "markdown",
      "metadata": {
        "id": "DrYY0jj34JCC"
      },
      "source": [
        "Circle 클래스 작성\n"
      ]
    },
    {
      "cell_type": "code",
      "metadata": {
        "id": "ZujpmtNq4GI-"
      },
      "source": [
        "class Circle:\n",
        "    def __init__(self, name, radius, PI):\n",
        "        self.name = name\n",
        "        self.radius = radius\n",
        "        self.PI = PI\n",
        "\n",
        "    # 현재 인스턴스의 PI에 반지름**2 을 곱하여 면적을 구함\n",
        "    def area(self):\n",
        "        return self.PI * self.radius ** 2\n",
        "\n",
        "c1 = Circle(\"C1\", 4, 3.14)\n",
        "print(\"c1의 면적:\", c1.area())\n",
        "c2 = Circle(\"C2\", 6, 3.141)\n",
        "print(\"c2의 면적:\", c2.area())\n",
        "c3 = Circle(\"C3\", 5, 3.1415)\n",
        "print(\"c3의 면적:\", c3.area())\n"
      ],
      "execution_count": null,
      "outputs": []
    },
    {
      "cell_type": "markdown",
      "metadata": {
        "id": "PrVxEm5g4SiC"
      },
      "source": [
        "클래스 변수class variable\n",
        "\n",
        "* 인스턴스 변수들 중에서 클래스가 공유해야 할 공통적인 속성이 있는 경우 사용\n",
        "* PI을 개별 인스턴스가 모두 공유하여 가지도록 하면 데이터 중복도 줄일 수 있음  \n",
        "* setter와 getter 로 radius 갭슐화"
      ]
    },
    {
      "cell_type": "code",
      "metadata": {
        "id": "GnAjxKK4PU3G"
      },
      "source": [
        "class Circle:\n",
        "    PI = 3.1415      # 클래스 변수\n",
        "    def __init__(self, name, radius):\n",
        "        self.__name   = name   # 인스턴스 변수\n",
        "        self.__radius = radius # 인스턴스 변수\n",
        "\n",
        "    def set_redius(self, radius):\n",
        "        self.__radius = radius # 인스턴스 변수\n",
        "    def get_radius(self):\n",
        "        return self.__radius\n",
        "\n",
        "    # Circle 클래스의 변수 PI를 이용하여 면적을 구함\n",
        "    def area(self):\n",
        "        return Circle.PI * self.__radius ** 2\n",
        "\n",
        "print (\"PI 값 \", Circle.PI)\n",
        "c1 = Circle(\"C1\", 4)\n",
        "print (f\"c1 의 반지름 = {c1.get_radius()}\")\n",
        "c1.set_redius(10)\n",
        "print (f\"c1 의 반지름 = {c1.get_radius()}\")\n",
        "\n",
        "print(\"c1의 면적:\", c1.area())\n",
        " \n",
        "c1.set_redius(5)\n",
        "print(\"c1의 반지름 :\", c1.get_radius())\n",
        "print(\"c1의 면적:\", c1.area())\n"
      ],
      "execution_count": null,
      "outputs": []
    },
    {
      "cell_type": "markdown",
      "metadata": {
        "id": "omwTczeBOt-F"
      },
      "source": [
        "클래스와 특수 메소드"
      ]
    },
    {
      "cell_type": "code",
      "metadata": {
        "id": "1NMmXGEoOs1j"
      },
      "source": [
        "class Vector2D:\n",
        "    def __init__(self, x, y):\n",
        "        self.x = x\n",
        "        self.y = y\n",
        "\n",
        "v1 = Vector2D(30, 40)\n",
        "v2 = Vector2D(10, 20)\n",
        "v3 = v1 + v2   # Vector2D의 + 연산이 정의되지 않았다:오류 출력\n",
        "print('v1 + v2 = ',v3)"
      ],
      "execution_count": null,
      "outputs": []
    },
    {
      "cell_type": "markdown",
      "metadata": {
        "id": "9sOjAJk0di81"
      },
      "source": [
        "v1.add(v2)는 두 벡터의 합을 출력"
      ]
    },
    {
      "cell_type": "code",
      "metadata": {
        "id": "makxp6aUdQA_"
      },
      "source": [
        "class Vector2D:\n",
        "    def __init__(self, x, y):\n",
        "        self.x = x\n",
        "        self.y = y\n",
        "    def __str__(self):\n",
        "        return \"({}, {})\".format(self.x, self.y)\n",
        "    def add(self, other):\n",
        "        return Vector2D(self.x + other.x, self.y + other.y)\n",
        "\n",
        "v1 = Vector2D(30, 40)\n",
        "v2 = Vector2D(10, 20)\n",
        "v3 = v1.add(v2)              # Vector2D의 add() 메소드 사용\n",
        "print('v1.add(v2) =', v3)\n"
      ],
      "execution_count": null,
      "outputs": []
    },
    {
      "cell_type": "code",
      "metadata": {
        "id": "CWjNpt3IrY6f"
      },
      "source": [
        "n1 = 100\n",
        "# + 연산자를 호출하면 호출되어지는 메소드 (함수) __add__\n",
        "n3 = n1.__add__(200)\n",
        "n3"
      ],
      "execution_count": null,
      "outputs": []
    },
    {
      "cell_type": "code",
      "metadata": {
        "id": "3DFuAQyerfdi"
      },
      "source": [
        "type (n1)"
      ],
      "execution_count": null,
      "outputs": []
    },
    {
      "cell_type": "markdown",
      "metadata": {
        "id": "ixxYhkHgdkza"
      },
      "source": [
        "* add() 메소드 대신에 +, -와 같은 연산자를 사용하면 보다 편리\n",
        "* $__add__()$ 에는 두 벡터의 합을 구하는 기능을 구현하고, $__sub__()$ 에는 두 벡터의 차를 구하는 기능을 구현\n",
        "* v1 + v2는 v1.$__add__(v2)$와 같은 메소드 호출과 동일한 기능\n"
      ]
    },
    {
      "cell_type": "code",
      "metadata": {
        "id": "xXOQq-gdde_I"
      },
      "source": [
        "class Vector2D:\n",
        "    def __init__(self, x, y):\n",
        "        self.x = x\n",
        "        self.y = y\n",
        "    def __add__(self, other):\n",
        "        return Vector2D(self.x + other.x, self.y + other.y)\n",
        "    def __sub__(self, other):\n",
        "        return Vector2D(self.x - other.x, self.y - other.y)\n",
        "    def __str__(self):\n",
        "        return \"({}, {})\".format(self.x, self.y)\n",
        "\n",
        "v1 = Vector2D(30, 40)\n",
        "v2 = Vector2D(10, 20)\n",
        "v3 = v1 + v2\n",
        "print('v1 + v2 =', v3)\n",
        "v4 = v1 - v2\n",
        "print('v1 - v2 =', v4)"
      ],
      "execution_count": null,
      "outputs": []
    },
    {
      "cell_type": "markdown",
      "metadata": {
        "id": "S5NbtiBEBC1s"
      },
      "source": [
        "(실습) Dog 클래스"
      ]
    },
    {
      "cell_type": "code",
      "metadata": {
        "id": "qYIaQF19edaW"
      },
      "source": [
        "class Dog:\n",
        "    def __init__(self, name, age):\n",
        "        self.name = name\n",
        "        self.age = age"
      ],
      "execution_count": null,
      "outputs": []
    },
    {
      "cell_type": "code",
      "metadata": {
        "id": "DgM02dTWfGsY"
      },
      "source": [
        "d = Dog('Hush', 5)\n"
      ],
      "execution_count": null,
      "outputs": []
    },
    {
      "cell_type": "code",
      "metadata": {
        "id": "tq8_wjzvfD_Z"
      },
      "source": [
        "class Dog:\n",
        "    # Class attribute\n",
        "    species = \"Canis familiaris\"\n",
        "\n",
        "    def __init__(self, name, age):\n",
        "        self.name = name\n",
        "        self.age = age\n",
        "\n",
        "    def speak(self, sound):\n",
        "        return f\"{self.name} says {sound}\"\n",
        "\n",
        "    def __str__(self):\n",
        "      return f\"{self.name} is {self.age} years old\""
      ],
      "execution_count": null,
      "outputs": []
    },
    {
      "cell_type": "code",
      "metadata": {
        "id": "a2UUJzJffSJb"
      },
      "source": [
        "d = Dog('Hush', 5)\n",
        "print (d.species)\n",
        "print (d)"
      ],
      "execution_count": null,
      "outputs": []
    },
    {
      "cell_type": "markdown",
      "metadata": {
        "id": "jg7wMzWXBNig"
      },
      "source": [
        "## Decorator 사용하기 \n",
        "* 데코레이터는 장식하다, 꾸미다의 의미를 가짐\n",
        "* @staticmethod, @classmethod, @abstractmethod 으로 @로 시작하는 것들이 데코레이터임\n",
        "\n",
        "```\n",
        "class Calc:\n",
        "    @staticmethod    # 데코레이터\n",
        "    def add(a, b):\n",
        "        print(a + b)\n",
        "    \n"
      ]
    },
    {
      "cell_type": "markdown",
      "metadata": {
        "id": "stUB_4UrJTIT"
      },
      "source": [
        "* staticmethod 사용하기"
      ]
    },
    {
      "cell_type": "code",
      "metadata": {
        "id": "JkGdKPkWJBs-"
      },
      "source": [
        "class Student:\n",
        "    name = 'unknown' # class attribute\n",
        "    \n",
        "    def __init__(self):\n",
        "        self.age = 20  # instance attribute\n",
        "\n",
        "    @staticmethod\n",
        "    def tostring():\n",
        "        print('Student Class')\n"
      ],
      "execution_count": null,
      "outputs": []
    },
    {
      "cell_type": "code",
      "metadata": {
        "id": "wrzVluXzJKRq"
      },
      "source": [
        "Student.tostring()"
      ],
      "execution_count": null,
      "outputs": []
    },
    {
      "cell_type": "code",
      "metadata": {
        "id": "4D0xcwnvJL0V"
      },
      "source": [
        "std = Student()\n",
        "std.tostring()"
      ],
      "execution_count": null,
      "outputs": []
    },
    {
      "cell_type": "code",
      "metadata": {
        "id": "iFujziP1LikN"
      },
      "source": [
        "# 오류 원인찾기\n",
        "class Student:\n",
        "    name = 'unknown' # class attribute\n",
        "    \n",
        "    def __init__(self):\n",
        "        self.age = 20  # instance attribute\n",
        "\n",
        "    @staticmethod\n",
        "    def tostring():\n",
        "        print('name=',name,'age=',self.age)\n",
        "\n",
        "Student.tostring()"
      ],
      "execution_count": null,
      "outputs": []
    },
    {
      "cell_type": "markdown",
      "metadata": {
        "id": "vNj24u44Ja6i"
      },
      "source": [
        "* Employee 클래스 작성하기"
      ]
    },
    {
      "cell_type": "code",
      "metadata": {
        "id": "TPJ-4kzdBIqx"
      },
      "source": [
        "from datetime import datetime\n",
        "\n",
        "class Employee:\n",
        "    def __init__(self, name, year_joined):\n",
        "        self.name = name\n",
        "        self.year_joined = year_joined\n",
        "\n",
        "    def calc_year(self, year_joined, year_now):\n",
        "        length = year_now - year_joined\n",
        "        if length > 0:\n",
        "            return f'{length} years'\n",
        "        else:\n",
        "            return 'less than one year'\n",
        "\n",
        "    def seniority(self):\n",
        "        n_years = self.calc_year(self.year_joined, datetime.now().year)\n",
        "        print(f'{self.name} has worked in our company for {n_years}')"
      ],
      "execution_count": null,
      "outputs": []
    },
    {
      "cell_type": "code",
      "metadata": {
        "id": "465T5LbfBeCv"
      },
      "source": [
        "e1 = Employee('Chris', 2020)\n",
        "e1.seniority()"
      ],
      "execution_count": null,
      "outputs": []
    },
    {
      "cell_type": "markdown",
      "metadata": {
        "id": "PxgT4QiTC7dF"
      },
      "source": [
        "> calc_year() method doesn’t actually need an instance of the class to work"
      ]
    },
    {
      "cell_type": "code",
      "metadata": {
        "id": "E2DMQyboBwo8"
      },
      "source": [
        "def calc_year(year_joined, year_now):\n",
        "    length = year_now - year_joined\n",
        "    if length > 0:\n",
        "        return f'{length} years'\n",
        "    else:\n",
        "        return 'less than one year'\n",
        "\n",
        "\n",
        "class Employee:\n",
        "    def __init__(self, name, year_joined):\n",
        "        self.name = name\n",
        "        self.year_joined = year_joined\n",
        "\n",
        "    def seniority(self):\n",
        "        n_years = calc_year(self.year_joined, datetime.now().year)\n",
        "        print(f'{self.name} has worked in our company for {n_years}')"
      ],
      "execution_count": null,
      "outputs": []
    },
    {
      "cell_type": "code",
      "metadata": {
        "id": "jX0lvw1sB3Cn"
      },
      "source": [
        "e1 = Employee('Chris', 2020)\n",
        "e1.seniority()"
      ],
      "execution_count": null,
      "outputs": []
    },
    {
      "cell_type": "markdown",
      "metadata": {
        "id": "E4v7XmniB1Ob"
      },
      "source": [
        "* staticmethod 는 클래스에서 직접 접근하며, 객체별로 달라지는 것이 아니라 함께 공유하는 유틸리티 \n",
        "메소드에 활용\n",
        ">utility method\n",
        "* It cannot have **cls** or **self** parameter\n",
        "* staticmethod는 클래스 내에 정의된 함수에 대해 클래스에서 바로 호출할 수 있음\n"
      ]
    },
    {
      "cell_type": "code",
      "metadata": {
        "id": "DtkafSFFDI6Z"
      },
      "source": [
        "class Employee:\n",
        "    def __init__(self, name, year_joined):\n",
        "        self.name = name\n",
        "        self.year_joined = year_joined\n",
        "\n",
        "    @staticmethod\n",
        "    def calc_year(year_joined, year_now):\n",
        "        length = year_now - year_joined\n",
        "        if length > 0:\n",
        "            return f'{length} years'\n",
        "        else:\n",
        "            return 'less than one year'\n",
        "\n",
        "    def seniority(self):\n",
        "        n_years = self.calc_year(self.year_joined, datetime.now().year)\n",
        "        print(f'{self.name} has worked in our company for {n_years}')"
      ],
      "execution_count": null,
      "outputs": []
    },
    {
      "cell_type": "code",
      "metadata": {
        "id": "hLD_Ls-WDddA"
      },
      "source": [
        "e1 = Employee('Chris', 2020)\n",
        "e1.seniority()"
      ],
      "execution_count": null,
      "outputs": []
    },
    {
      "cell_type": "code",
      "metadata": {
        "id": "ab1xMo1kEZZ-"
      },
      "source": [
        "import re\n",
        "\n",
        "class Employee:\n",
        "    def __init__(self, name, year_joined):\n",
        "        self.name = name\n",
        "        self.year_joined = year_joined\n",
        "\n",
        "    @classmethod\n",
        "    def from_string(cls, string):\n",
        "        name = re.search('I am (.*?) ', string).group(1)\n",
        "        year_joined = int(re.search('joined in (\\d+).', string).group(1))\n",
        "        return cls(name, year_joined)\n",
        "\n",
        "    @staticmethod\n",
        "    def calc_year(year_joined, year_now):\n",
        "        length = year_now - year_joined\n",
        "        if length > 0:\n",
        "            return f'{length} years'\n",
        "        else:\n",
        "            return 'less than one year'\n",
        "\n",
        "    def seniority(self):\n",
        "        n_years = self.calc_year(self.year_joined, datetime.now().year)\n",
        "        print(f'{self.name} has worked in our company for {n_years}')"
      ],
      "execution_count": null,
      "outputs": []
    },
    {
      "cell_type": "code",
      "metadata": {
        "id": "5lzAA8lbEeL2"
      },
      "source": [
        "e1 = Employee.from_string('I am Chris and I joined in 2020.')\n",
        "e1.seniority()"
      ],
      "execution_count": null,
      "outputs": []
    },
    {
      "cell_type": "markdown",
      "metadata": {
        "id": "okVelS0fICXE"
      },
      "source": [
        "객체 생성하지 않고 클래스 메소드 사용하기 "
      ]
    },
    {
      "cell_type": "code",
      "metadata": {
        "id": "hGiEkNHSH6KO"
      },
      "source": [
        "Employee.from_string('I am Chris and I joined in 2020.').seniority()"
      ],
      "execution_count": null,
      "outputs": []
    },
    {
      "cell_type": "code",
      "metadata": {
        "id": "YAnr19yHEuV4"
      },
      "source": [
        "class Employee:\n",
        "    def __init__(self, name):\n",
        "        self.name = name\n",
        "    @property\n",
        "    def year_joined(self):\n",
        "        print('getting year_joined...')\n",
        "        return self._year_joined\n",
        "    @year_joined.setter\n",
        "    def year_joined(self, value):\n",
        "        print('setting year_joined...')\n",
        "        self._year_joined = value\n",
        "    @year_joined.deleter\n",
        "    def year_joined(self):\n",
        "        print('deleting year_joined...')\n",
        "        del self._year_joined\n"
      ],
      "execution_count": null,
      "outputs": []
    },
    {
      "cell_type": "code",
      "metadata": {
        "id": "b5aAeNNiE-vO"
      },
      "source": [
        "e1 = Employee('Chris')\n",
        "e1.year_joined = 2020\n",
        "e1.year_joined"
      ],
      "execution_count": null,
      "outputs": []
    },
    {
      "cell_type": "code",
      "metadata": {
        "id": "RH86c9RRFM-w"
      },
      "source": [
        "del e1.year_joined\n",
        "e1.__dict__"
      ],
      "execution_count": null,
      "outputs": []
    },
    {
      "cell_type": "markdown",
      "metadata": {
        "id": "h7GU-4r7HsPx"
      },
      "source": [
        "## (실습) Person 클래스 \n",
        "* 객체 생성하지 않고 클래스 메소드 사용하기 "
      ]
    },
    {
      "cell_type": "code",
      "metadata": {
        "id": "4VfWwFanHX0h"
      },
      "source": [
        "from datetime import date\n",
        "\n",
        "# random Person\n",
        "class Person:\n",
        "    def __init__(self, name, age):\n",
        "        self.name = name\n",
        "        self.age = age\n",
        "    \n",
        "    @staticmethod\n",
        "    def printName(name,birthYear):\n",
        "        print(name + \"'s birthYear is: \" + str(birthYear))\n",
        "    \n",
        "    @staticmethod\n",
        "    def fromBirthYear(name, birthYear):\n",
        "        return Person(name, date.today().year - birthYear)\n",
        "\n",
        "    def display(self):\n",
        "        print(self.name + \"'s age is: \" + str(self.age))\n",
        "\n",
        "Person.printName('John',  1985)\n",
        "Person.fromBirthYear('John',  1985).display()"
      ],
      "execution_count": null,
      "outputs": []
    },
    {
      "cell_type": "markdown",
      "metadata": {
        "id": "SSWIB_Fzh3tP"
      },
      "source": [
        "## 상속"
      ]
    },
    {
      "cell_type": "code",
      "metadata": {
        "id": "EynKPJXdgHvx"
      },
      "source": [
        "class Bulldog(Dog):\n",
        "    pass"
      ],
      "execution_count": null,
      "outputs": []
    },
    {
      "cell_type": "code",
      "metadata": {
        "id": "P5M6JVilf1--"
      },
      "source": [
        "jim = Bulldog(\"Jim\", 5)\n",
        "\n",
        "print(jim)"
      ],
      "execution_count": null,
      "outputs": []
    },
    {
      "cell_type": "code",
      "metadata": {
        "id": "01RC1MYYgZHK"
      },
      "source": [
        "jim.speak(\"Woof\")"
      ],
      "execution_count": null,
      "outputs": []
    },
    {
      "cell_type": "markdown",
      "metadata": {
        "id": "77JoS2Bdh7_B"
      },
      "source": [
        "## (실습) 계산기 클래스 작성하기"
      ]
    },
    {
      "cell_type": "code",
      "metadata": {
        "id": "Sgh7wgHJIWi_"
      },
      "source": [
        "class Calculator:\n",
        "    def __init__(self, n1, n2):\n",
        "        self.num1 = n1\n",
        "        self.num2 = n2\n",
        "        \n",
        "    def setdata(self, n1, n2):\n",
        "        self.num1 = n1\n",
        "        self.num2 = n2"
      ],
      "execution_count": null,
      "outputs": []
    },
    {
      "cell_type": "code",
      "metadata": {
        "id": "lMOurUHUItIo"
      },
      "source": [
        "a=Calculator(2,4)"
      ],
      "execution_count": null,
      "outputs": []
    },
    {
      "cell_type": "code",
      "metadata": {
        "id": "LkSSrk0kIvv6"
      },
      "source": [
        "print (a.num1)\n",
        "print (a.num2)"
      ],
      "execution_count": null,
      "outputs": []
    },
    {
      "cell_type": "code",
      "metadata": {
        "id": "RrA1ttqM6UvQ"
      },
      "source": [
        "class Calculator:\n",
        "    def __init__(self, n1, n2):\n",
        "        self.num1 = n1\n",
        "        self.num2 = n2\n",
        "    def __str__(self):\n",
        "        return (f\"(Calculator) num1 = {self.num1}, num2 = {self.num2}\")\n",
        "\n",
        "a=Calculator(2,4)\n",
        "\n",
        "print (a)\n"
      ],
      "execution_count": null,
      "outputs": []
    },
    {
      "cell_type": "markdown",
      "metadata": {
        "id": "OG8H0gkZI4Xt"
      },
      "source": [
        "> Calculator 의 새로운 c2 객체가 생성된 후 setData()를 호출할 때 20은 n1에 10은 n2에 전달함으로써 객체의 속성 num1과 num2의 내용이 변경되게 된다. "
      ]
    },
    {
      "cell_type": "code",
      "metadata": {
        "id": "bnmX3vUUJIo-"
      },
      "source": [
        "class Calculator:\n",
        "    def __init__(self,n1,n2):\n",
        "        self.num1=n1\n",
        "        self.num2=n2\n",
        "\n",
        "    def __str__(self):\n",
        "        return (f\"(Calculator) num1 = {self.num1}, num2 = {self.num2}\")        \n",
        "        \n",
        "    def setData(self, n1, n2):\n",
        "        self.num1=n1\n",
        "        self.num2=n2"
      ],
      "execution_count": null,
      "outputs": []
    },
    {
      "cell_type": "code",
      "metadata": {
        "id": "VlIrKUkUJByK"
      },
      "source": [
        "c2=Calculator(10,20)\n",
        "c2.setData(20,10)\n",
        "c2.num1"
      ],
      "execution_count": null,
      "outputs": []
    },
    {
      "cell_type": "code",
      "metadata": {
        "id": "yuwTSwo_I2wG"
      },
      "source": [
        "class Calculator:\n",
        "    def __init__(self,n1,n2):\n",
        "        self.num1=n1\n",
        "        self.num2=n2\n",
        "\n",
        "    def __str__(self):\n",
        "        return (f\"(Calculator) num1 = {self.num1}, num2 = {self.num2}\")  \n",
        "        \n",
        "    def setData(self, n1, n2):\n",
        "        self.num1=n1\n",
        "        self.num2=n2\n",
        "        \n",
        "    def add(self):\n",
        "        return self.num1+self.num2"
      ],
      "execution_count": null,
      "outputs": []
    },
    {
      "cell_type": "markdown",
      "metadata": {
        "id": "WsqvmY-RKKqn"
      },
      "source": [
        "> 객체 a에 4와 2를 setData() 함수를 사용한 후 설정한 후  객체 a에 설정된 값의 합을 구하기 위해 add() 메소드 호출한다.  "
      ]
    },
    {
      "cell_type": "code",
      "metadata": {
        "id": "6w1CNN0aKCtX"
      },
      "source": [
        "a=Calculator(0,0)\n",
        "a.setData(2,4)\n",
        "print(a.add())"
      ],
      "execution_count": null,
      "outputs": []
    },
    {
      "cell_type": "markdown",
      "metadata": {
        "id": "pTL_pi7uNss_"
      },
      "source": [
        "(실습) 함수 sub()는 객체가 갖는 num1에서 num2를 빼기 연산을 수행하도록 작성함"
      ]
    },
    {
      "cell_type": "code",
      "metadata": {
        "id": "X4CfCGh1OCgr"
      },
      "source": [],
      "execution_count": null,
      "outputs": []
    },
    {
      "cell_type": "markdown",
      "metadata": {
        "id": "vu5cZkvXOC6d"
      },
      "source": [
        "(실습) 다음은 div() 메소드 호출과정에서 발생한 오류를 보인 것이다. 원인을 찾아 이유를 설명하시오.\n"
      ]
    },
    {
      "cell_type": "code",
      "metadata": {
        "id": "izocgh9dOKs7"
      },
      "source": [
        "class Calculator:\n",
        "    def __init__(self,n1,n2):\n",
        "        self.num1=n1\n",
        "        self.num2=n2\n",
        "        \n",
        "    def __str__(self):\n",
        "        return (f\"(Calculator) num1 = {self.num1}, num2 = {self.num2}\")  \n",
        "        \n",
        "    def setData(self, n1, n2):\n",
        "        self.num1=n1\n",
        "        self.num2=n2\n",
        "        \n",
        "    def add(self):\n",
        "        return self.num1+self.num2\n",
        "    \n",
        "    def div(self):\n",
        "        return self.num1/self.num2"
      ],
      "execution_count": null,
      "outputs": []
    },
    {
      "cell_type": "code",
      "metadata": {
        "id": "IzgEXDEjKFxy"
      },
      "source": [
        "a=Calculator(0,0)\n",
        "a.setData(10,0)\n",
        "print(a.div())"
      ],
      "execution_count": null,
      "outputs": []
    },
    {
      "cell_type": "markdown",
      "metadata": {
        "id": "SRZStFMNOo1f"
      },
      "source": [
        "## (실습) Die 클래스를 작성하기\n",
        "* Die 클래스는 생성자를 통해 주사위 눈의 최대값을 입력받는다\n",
        "* Die 클래스에서 생성자 roll() 함수는 주사위의 눈을 1에서 6까지의 생성하여 값을 number에 지정하도록 한다.\n",
        "*  show() 함수는 주사위의 번호를 반환한다. \n",
        "* 객체 인스턴스 die1를 생성한 후 roll() 함수를 호출하고 주사위 번호를 출력하기 위해 show() 호출한다. "
      ]
    },
    {
      "cell_type": "code",
      "metadata": {
        "id": "WxzMrSueN_eE"
      },
      "source": [
        "import random\n",
        "class Die(object): \n",
        "    def __init__(self, x):\n",
        "        self.number = x\n",
        "        \n",
        "    def roll(self):\n",
        "       self.number =  1 + random.randrange(6)\n",
        "       return self.number\n",
        "       \n",
        "    def show(self):\n",
        "       return self.number\n",
        "\n",
        "die1 = Die(6)\n",
        "print (die1.number)\n",
        "num_lst = []\n",
        "count = 100\n",
        "for _ in range(count):\n",
        "    num = die1.roll()\n",
        "    num_lst.append(num)\n",
        "    #print (die1.show())\n",
        "\n",
        "print (f\"avg = {int(sum(num_lst)/len(num_lst))}\")"
      ],
      "execution_count": null,
      "outputs": []
    },
    {
      "cell_type": "markdown",
      "metadata": {
        "id": "rgxt7Q7T0EJW"
      },
      "source": [
        "* getter 와 setter 사용하기"
      ]
    },
    {
      "cell_type": "code",
      "metadata": {
        "id": "D7ss6yYyz2vX"
      },
      "source": [
        "import random\n",
        "class Die(object): \n",
        "    def __init__(self, x):\n",
        "        self.__number = x\n",
        "        \n",
        "    def roll(self):\n",
        "       self.__number =  1 + random.randrange(6)\n",
        "       return self.__number\n",
        "       \n",
        "    def show(self):\n",
        "       return self.__number\n",
        "\n",
        "die1 = Die(6)\n",
        "print (die1.show())\n",
        "num_lst = []\n",
        "count = 100\n",
        "for _ in range(count):\n",
        "    num = die1.roll()\n",
        "    num_lst.append(num)\n",
        "    #print (die1.show())\n",
        "\n",
        "print (f\"avg = {int(sum(num_lst)/len(num_lst))}\")"
      ],
      "execution_count": null,
      "outputs": []
    },
    {
      "cell_type": "markdown",
      "metadata": {
        "id": "GKBPziIVP9QB"
      },
      "source": [
        "## 이터레이터 생성하기\n",
        "\n",
        "* 순서대로 다음 값을 리턴할 수 있는 객체\n",
        "* 자체적으로 내장하고 있는 next 메소드를 통해 다음 값을 가져옴\n",
        "> 값을 하나씩 반환하고 값이 없으면 $StopIteration$ 예외를 발생시킴\n",
        "\n",
        "\n",
        "* $Counter$ 클래스에서는 0부터 지정된 숫자 self.stop 직전까지 반복\n",
        "* $__init__$ 에서는 반복 과정에서 현재 숫자를 유지하기 위한 속성 self.current을 0으로 초기화 \n",
        "* $__iter__$ 에서는 self만 반환함\n",
        "* $__next__$ 에서는 조건에 따라 숫자를 만들어내거나 StopIteration 예외를 발생\n",
        "> 종료 값보다 현재 값이 작다면 현재 값에 1을 더하고 그 값을 반환"
      ]
    },
    {
      "cell_type": "code",
      "metadata": {
        "id": "d48AbgGlO2jA"
      },
      "source": [
        "class Counter:\n",
        "    def __init__(self, stop):\n",
        "        self.current = 0    # 현재 숫자 유지, 0부터 지정된 숫자 직전까지 반복\n",
        "        self.stop = stop    # 반복을 끝낼 숫자\n",
        " \n",
        "    def __iter__(self):\n",
        "        return self         # 현재 인스턴스를 반환\n",
        " \n",
        "    def __next__(self):\n",
        "        if self.current < self.stop:    # 현재 숫자가 반복을 끝낼 숫자보다 작을 때\n",
        "            r = self.current            # 반환할 숫자를 변수에 저장\n",
        "            self.current += 1           # 현재 숫자를 1 증가시킴\n",
        "            return r                    # 숫자를 반환\n",
        "        else:                           # 현재 숫자가 반복을 끝낼 숫자보다 크거나 같을 때\n",
        "            raise StopIteration         # 예외 발생\n",
        " \n",
        "for i in Counter(3):\n",
        "    print(i, end=' ')"
      ],
      "execution_count": null,
      "outputs": []
    },
    {
      "cell_type": "markdown",
      "metadata": {
        "id": "hqDf53zZgwV1"
      },
      "source": [
        "## (실습) Doubled 클래스 작성하기"
      ]
    },
    {
      "cell_type": "code",
      "metadata": {
        "id": "2fPGgQsHqVv-"
      },
      "source": [
        "class Doubled:\n",
        "    def __init__(self, data):\n",
        "        self.length = len(data)\n",
        "        self.data = data\n",
        "        self.index = 0\n",
        "        \n",
        "    def __iter__(self):\n",
        "        return self\n",
        "        \n",
        "    def __next__(self):\n",
        "        if self.index == self.length:\n",
        "            raise StopIteration\n",
        "        result = self.data[self.index] * 2\n",
        "        self.index += 1\n",
        "        return result\n",
        "        \n",
        "        \n",
        "my_list = [1, 2, 3, 4, 5]\n",
        "doubled = Doubled(my_list)\n",
        "\n",
        "try:\n",
        "    while True:\n",
        "        print(next(doubled))\n",
        "        \n",
        "except StopIteration:\n",
        "    print(\"Completed\")"
      ],
      "execution_count": null,
      "outputs": []
    },
    {
      "cell_type": "markdown",
      "source": [
        "# 파일"
      ],
      "metadata": {
        "id": "k_YelNugxeT8"
      }
    },
    {
      "cell_type": "markdown",
      "source": [
        "Use “with” for your resources :\n",
        "\n",
        "* https://python.plainenglish.io/5-amazing-tricks-to-enhance-your-python-code-6bee03b51056"
      ],
      "metadata": {
        "id": "lDhH0WFRxqbv"
      }
    },
    {
      "cell_type": "code",
      "source": [
        "f = open('Hi.text', 'w')\n",
        "try:\n",
        "    f.write('Hello, there')\n",
        "finally:\n",
        "    f.close()"
      ],
      "metadata": {
        "id": "jVXFdRb7xhQa"
      },
      "execution_count": null,
      "outputs": []
    },
    {
      "cell_type": "code",
      "source": [
        "# try-finally 를 with 문으로 대치\n",
        "with open('Hi.text', 'w') as f:\n",
        "    f.write(\"Hello, there\")"
      ],
      "metadata": {
        "id": "jWcziRZBxx6J"
      },
      "execution_count": null,
      "outputs": []
    },
    {
      "cell_type": "code",
      "source": [
        "class My_file:\n",
        "    def __init__(self, fname):\n",
        "        self.fname = fname\n",
        "\n",
        "    def __enter__(self):\n",
        "        self.file = open(self.fname, 'w')\n",
        "        return self.file\n",
        "\n",
        "    def __exit__(self, exc_type, exc_val, exc_trace_back):\n",
        "        if self.file:\n",
        "            self.file.close()"
      ],
      "metadata": {
        "id": "1FoNovlVyEy_"
      },
      "execution_count": null,
      "outputs": []
    },
    {
      "cell_type": "code",
      "source": [
        "with My_file('hello.txt') as f:\n",
        "    f.write('hello, world!')"
      ],
      "metadata": {
        "id": "FproT4hKyGZ2"
      },
      "execution_count": null,
      "outputs": []
    },
    {
      "cell_type": "markdown",
      "metadata": {
        "id": "GcCmkAxjqhI-"
      },
      "source": [
        "# numpy"
      ]
    },
    {
      "cell_type": "code",
      "metadata": {
        "id": "I8B1kOmTqVwB"
      },
      "source": [
        "import numpy as np"
      ],
      "execution_count": null,
      "outputs": []
    },
    {
      "cell_type": "code",
      "metadata": {
        "id": "AWlruF8FqVwD"
      },
      "source": [
        "np.__version__"
      ],
      "execution_count": null,
      "outputs": []
    },
    {
      "cell_type": "code",
      "metadata": {
        "id": "svxzXabkqVwF"
      },
      "source": [
        "mylist = [1, 2, 3]\n",
        "x = np.array(mylist)\n",
        "x"
      ],
      "execution_count": null,
      "outputs": []
    },
    {
      "cell_type": "code",
      "metadata": {
        "id": "eNZyHTrYqVwI"
      },
      "source": [
        "y = np.array([4, 5, 6])\n",
        "y"
      ],
      "execution_count": null,
      "outputs": []
    },
    {
      "cell_type": "markdown",
      "metadata": {
        "id": "KHRfyTnuqVwK"
      },
      "source": [
        "다차원 배열을 생성 "
      ]
    },
    {
      "cell_type": "code",
      "metadata": {
        "id": "BJF-D-mmqVwL"
      },
      "source": [
        "m = np.array([[7, 8, 9], [10, 11, 12]])\n",
        "m"
      ],
      "execution_count": null,
      "outputs": []
    },
    {
      "cell_type": "code",
      "metadata": {
        "id": "ocGmIFA7qVwN"
      },
      "source": [
        "m.shape"
      ],
      "execution_count": null,
      "outputs": []
    },
    {
      "cell_type": "markdown",
      "metadata": {
        "id": "-JIfA5-xqVwQ"
      },
      "source": [
        "arange 함수는 주어진 범위에서 2씩 증가된 값을 반환함 "
      ]
    },
    {
      "cell_type": "code",
      "metadata": {
        "id": "MEK_CGc5qVwQ"
      },
      "source": [
        "n = np.arange(0, 30, 2) # start at 0 count up by 2, stop before 30\n",
        "n"
      ],
      "execution_count": null,
      "outputs": []
    },
    {
      "cell_type": "markdown",
      "metadata": {
        "id": "5G-taWxLqVwS"
      },
      "source": [
        "linspace 주어진 범위의 동일간 간격의 값을 반환  "
      ]
    },
    {
      "cell_type": "code",
      "metadata": {
        "id": "7k9PX7jpqVwT"
      },
      "source": [
        "x = np.linspace(0, 4, 9) # return 9 evenly spaced values from 0 to 4\n",
        "x"
      ],
      "execution_count": null,
      "outputs": []
    },
    {
      "cell_type": "code",
      "metadata": {
        "id": "gjKmD93CqVwV"
      },
      "source": [
        "np.random.random(s) 크기가 s인 배열을 생성, 배열은 0과 1사이의 랜덤값이 지정됨 "
      ],
      "execution_count": null,
      "outputs": []
    },
    {
      "cell_type": "code",
      "metadata": {
        "id": "Ckz6bmr-qVwX"
      },
      "source": [
        "y = np.random.random(len(x))\n",
        "y"
      ],
      "execution_count": null,
      "outputs": []
    },
    {
      "cell_type": "code",
      "metadata": {
        "id": "FcrEqqX_qVwa"
      },
      "source": [
        "import matplotlib.pyplot as plt\n",
        "\n",
        "plt.plot(x,y)\n",
        "plt.show()"
      ],
      "execution_count": null,
      "outputs": []
    },
    {
      "cell_type": "code",
      "metadata": {
        "id": "cf-XdfKWqVwc"
      },
      "source": [
        "resize 주어진 shape 으로 배열의 크기를 조정함 "
      ],
      "execution_count": null,
      "outputs": []
    },
    {
      "cell_type": "code",
      "metadata": {
        "id": "UPHyYOSIqVwe"
      },
      "source": [
        "o.resize(3, 3)\n",
        "o"
      ],
      "execution_count": null,
      "outputs": []
    },
    {
      "cell_type": "markdown",
      "metadata": {
        "id": "6m1qrM_lqVwg"
      },
      "source": [
        "Combining Arrays"
      ]
    },
    {
      "cell_type": "code",
      "metadata": {
        "id": "iukVEr0RqVwh"
      },
      "source": [
        "p = np.ones([2, 3], int) # datatype passed to get those datatype values in the numpy array\n",
        "p"
      ],
      "execution_count": null,
      "outputs": []
    },
    {
      "cell_type": "markdown",
      "metadata": {
        "id": "cDZzjODOqVwk"
      },
      "source": [
        "vstack to stack arrays in sequence vertically  수직으로 배열을 순차적으로 쌓음"
      ]
    },
    {
      "cell_type": "code",
      "metadata": {
        "id": "XkUhq9A4qVwl"
      },
      "source": [
        "np.vstack([p, 2*p])"
      ],
      "execution_count": null,
      "outputs": []
    },
    {
      "cell_type": "markdown",
      "metadata": {
        "id": "eLyB2VuLqVwn"
      },
      "source": [
        "hstack arrays in sequence horizontally (column-wise) 수평으로 배열을 순서적으로 쌓음"
      ]
    },
    {
      "cell_type": "code",
      "metadata": {
        "id": "TnZsh8a8qVwo"
      },
      "source": [
        "np.hstack([p, 2*p])"
      ],
      "execution_count": null,
      "outputs": []
    },
    {
      "cell_type": "code",
      "metadata": {
        "id": "yONQLCHCqVwr"
      },
      "source": [
        "a = np.array([-4, -2, 1, 3, 5])"
      ],
      "execution_count": null,
      "outputs": []
    },
    {
      "cell_type": "code",
      "metadata": {
        "id": "VHOty5cPqVwu"
      },
      "source": [
        "a.sum()\n",
        "a.max()\n",
        "a.min()\n",
        "a.mean()\n",
        "a.std()"
      ],
      "execution_count": null,
      "outputs": []
    },
    {
      "cell_type": "code",
      "metadata": {
        "id": "rolxXWHGqVww"
      },
      "source": [
        "# argmax and argmin return the index of the maximum and minimum values in the array.\n",
        "a.argmax()\n",
        "a.argmin()"
      ],
      "execution_count": null,
      "outputs": []
    },
    {
      "cell_type": "markdown",
      "metadata": {
        "id": "LL-EYGNb6IHe"
      },
      "source": [
        "(실습) 1부터 100 사이의 난수를 10회 생성하여 합계(sum)와 평균(average)을 구하여 출력한다."
      ]
    },
    {
      "cell_type": "code",
      "metadata": {
        "id": "SIVrfqhV6R4c"
      },
      "source": [
        "import random\n",
        "import numpy as np\n",
        "\n",
        "def stat(inputList):\n",
        "   s = np.sum(inputList) \n",
        "   a = np.average(inputList) \n",
        "   return s, a\n",
        "\n",
        "def getInput(inputList, n):\n",
        "  for i in range(n):\n",
        "    r = random.randint(1,10)\n",
        "    inputList.append(r)\n",
        "\n",
        "inputList = []\n",
        "c = 10\n",
        "getInput(inputList, c)\n",
        "print (inputList)\n",
        "\n",
        "s, a = stat(inputList)\n",
        "print (\"sum = {0}, average = {1}\".format(s,a))\n",
        "\n",
        "     "
      ],
      "execution_count": null,
      "outputs": []
    },
    {
      "cell_type": "code",
      "metadata": {
        "id": "3fSplpP8qVwy"
      },
      "source": [
        "import numpy as np\n",
        "\n",
        "# Input array\n",
        "x = np.array([0.5])\n",
        "\n",
        "# Bins - 5 bins in total\n",
        "bins = np.array([0,1,2,3])\n",
        "\n",
        "# Digitize function - 0.5 belong to the bin 0<= 0.5 <1 - therefore returned index 1\n",
        "bin = np.digitize(x,bins)\n",
        "# array([1], dtype=int64)\n",
        "\n",
        "print (\"Bin of {} = {}\".format(x, bin))\n",
        "# The input array can contain several inputs\n",
        "x = np.array([-0.5,1,3.5])\n",
        "\n",
        "# Digitize function\n",
        "np.digitize(x,bins)\n",
        "# array([0, 2, 4], dtype=int64)"
      ],
      "execution_count": null,
      "outputs": []
    },
    {
      "cell_type": "markdown",
      "metadata": {
        "id": "W01QiyiOkaQm"
      },
      "source": [
        "# matplotlib"
      ]
    },
    {
      "cell_type": "code",
      "metadata": {
        "id": "bCBbc2JrkcVI"
      },
      "source": [
        "import matplotlib.pyplot as plt\n",
        "\n",
        "x = [-5, -4, -3, -2, -1, 0, 1, 2, 3, 4, 5]\n",
        "y = []\n",
        "for i in x:\n",
        "  ex = i**3\n",
        "  y.append(ex)\n",
        "  \n",
        "\n",
        "plt.plot(x, y)"
      ],
      "execution_count": null,
      "outputs": []
    },
    {
      "cell_type": "code",
      "source": [
        "# 데이터를 점으로 표현하는 산포드 그래프 그리기\n",
        "# 각 데이터 포인트는 연결되지 않는다\n",
        "plt.scatter(x, y)"
      ],
      "metadata": {
        "id": "galCSRyeBHxR"
      },
      "execution_count": null,
      "outputs": []
    },
    {
      "cell_type": "code",
      "metadata": {
        "id": "bi7u8WJAkm4O"
      },
      "source": [
        "coordinates = list(zip(x, y))\n",
        "coordinates"
      ],
      "execution_count": null,
      "outputs": []
    },
    {
      "cell_type": "markdown",
      "source": [
        "히스토그램은 주어진 자료를 몇개의 구간으로 나누고 각 구간의 도수를 조사하여 나타낸 막대그래프임"
      ],
      "metadata": {
        "id": "ERNSpehc9-y0"
      }
    },
    {
      "cell_type": "code",
      "metadata": {
        "id": "a6ImthIZkngo"
      },
      "source": [
        "plt.hist(y, 5) # 5개의 bin을 사용하여 히스토그램을 그린다"
      ],
      "execution_count": null,
      "outputs": []
    },
    {
      "cell_type": "code",
      "source": [
        "import matplotlib.pyplot as plt\n",
        "import numpy as np\n",
        "\n",
        "data1 = [1,2,3,4,5]\n",
        "data2 = [2,3,4,5,6]\n",
        "\n",
        "# 1행과 2행에 대해 자료값을 분포를 보임\n",
        "plt.boxplot([data1, data2])"
      ],
      "metadata": {
        "id": "bTPhqRJm9zfd"
      },
      "execution_count": null,
      "outputs": []
    },
    {
      "cell_type": "code",
      "source": [
        "# 열별로 자료 분포를 보임\n",
        "plt.boxplot(np.array([data1, data2]))"
      ],
      "metadata": {
        "id": "IZhplU-uEwxy"
      },
      "execution_count": null,
      "outputs": []
    }
  ]
}