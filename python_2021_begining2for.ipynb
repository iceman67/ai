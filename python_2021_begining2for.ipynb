{
  "nbformat": 4,
  "nbformat_minor": 0,
  "metadata": {
    "colab": {
      "provenance": [],
      "collapsed_sections": [
        "EUrt1knYKj85",
        "K21u9eFAu0jR",
        "jk8Pb7xJvTSI",
        "QnussHvBTGqT",
        "ul8Rx0a6LDZd",
        "iThDBLFRrNOD",
        "EVI_XwjTruRJ",
        "bLMmN2EDjTEx",
        "SWPHb8rtAcVd",
        "9SyrhS3RFHam",
        "6pX_AaKxXqIl",
        "rclBDkSdm46O"
      ],
      "include_colab_link": true
    },
    "kernelspec": {
      "name": "python3",
      "display_name": "Python 3"
    }
  },
  "cells": [
    {
      "cell_type": "markdown",
      "metadata": {
        "id": "view-in-github",
        "colab_type": "text"
      },
      "source": [
        "<a href=\"https://colab.research.google.com/github/iceman67/ai/blob/main/python_2021_begining2for.ipynb\" target=\"_parent\"><img src=\"https://colab.research.google.com/assets/colab-badge.svg\" alt=\"Open In Colab\"/></a>"
      ]
    },
    {
      "cell_type": "markdown",
      "metadata": {
        "id": "VAlOjQ7uPfdD"
      },
      "source": [
        "#### python 언어의 특징을 이해하고 익숙해짐\n",
        "- 단순한 문법\n",
        "- 짧은 코드 , 높은 생산성\n",
        "- 높은 가독성\n",
        "\n",
        "\n",
        "> (참고) https://wikidocs.net/64"
      ]
    },
    {
      "cell_type": "markdown",
      "metadata": {
        "id": "mbWFwRkatXPO"
      },
      "source": [
        "다음의 파이썬 코드의 오류를 찾아 올바르게 수정하시오.\n",
        "```\n",
        "x=4\n",
        "if (x == 4)\n",
        "{\n",
        " printf (\"x is equal to four\\n\");\n",
        " printf (\"Nothing more to do here.\");\n",
        "}\n",
        "```"
      ]
    },
    {
      "cell_type": "code",
      "metadata": {
        "colab": {
          "base_uri": "https://localhost:8080/"
        },
        "id": "L3YQAdijtk7C",
        "outputId": "10aa7088-4296-4ecb-9964-7214307691bf"
      },
      "source": [
        "x=4\n",
        "if (x == 4):\n",
        "  print (\"x is equal to four\\n\")\n",
        "  print (\"Nothing more to do here.\")\n"
      ],
      "execution_count": null,
      "outputs": [
        {
          "output_type": "stream",
          "text": [
            "x is equal to four\n",
            "\n",
            "Nothing more to do here.\n"
          ],
          "name": "stdout"
        }
      ]
    },
    {
      "cell_type": "code",
      "metadata": {
        "id": "wDuSakUFk1-C",
        "colab": {
          "base_uri": "https://localhost:8080/"
        },
        "outputId": "8c49d9e3-c44a-4d19-a8a9-9df4fcebbfb5"
      },
      "source": [
        "3+5"
      ],
      "execution_count": null,
      "outputs": [
        {
          "output_type": "execute_result",
          "data": {
            "text/plain": [
              "8"
            ]
          },
          "metadata": {
            "tags": []
          },
          "execution_count": 9
        }
      ]
    },
    {
      "cell_type": "code",
      "metadata": {
        "id": "AoXlr_gmk-C1",
        "colab": {
          "base_uri": "https://localhost:8080/",
          "height": 35
        },
        "outputId": "c154b3de-a253-492e-f0a6-6a9f3dc22052"
      },
      "source": [
        "\"hello\""
      ],
      "execution_count": null,
      "outputs": [
        {
          "output_type": "execute_result",
          "data": {
            "application/vnd.google.colaboratory.intrinsic+json": {
              "type": "string"
            },
            "text/plain": [
              "'hello'"
            ]
          },
          "metadata": {
            "tags": []
          },
          "execution_count": 10
        }
      ]
    },
    {
      "cell_type": "code",
      "metadata": {
        "id": "5kWxQQ3glI7x",
        "colab": {
          "base_uri": "https://localhost:8080/"
        },
        "outputId": "e1c5873d-4215-43e8-ece9-8d3c37b4370f"
      },
      "source": [
        "5/3"
      ],
      "execution_count": null,
      "outputs": [
        {
          "output_type": "execute_result",
          "data": {
            "text/plain": [
              "1.6666666666666667"
            ]
          },
          "metadata": {
            "tags": []
          },
          "execution_count": 11
        }
      ]
    },
    {
      "cell_type": "code",
      "metadata": {
        "id": "RF_KEjn_lP_S",
        "colab": {
          "base_uri": "https://localhost:8080/"
        },
        "outputId": "9ab6d48c-e268-48ed-8f27-15cb980dd02d"
      },
      "source": [
        "5//3"
      ],
      "execution_count": null,
      "outputs": [
        {
          "output_type": "execute_result",
          "data": {
            "text/plain": [
              "1"
            ]
          },
          "metadata": {
            "tags": []
          },
          "execution_count": 12
        }
      ]
    },
    {
      "cell_type": "code",
      "metadata": {
        "id": "is-TilzXlXC5"
      },
      "source": [
        "num1=3\n",
        "num2=5"
      ],
      "execution_count": null,
      "outputs": []
    },
    {
      "cell_type": "code",
      "metadata": {
        "id": "csUchCVrll01",
        "colab": {
          "base_uri": "https://localhost:8080/"
        },
        "outputId": "63ee75f1-64ac-4a88-8f54-5e1f7e3c2e40"
      },
      "source": [
        "num2//num1"
      ],
      "execution_count": null,
      "outputs": [
        {
          "output_type": "execute_result",
          "data": {
            "text/plain": [
              "1"
            ]
          },
          "metadata": {
            "tags": []
          },
          "execution_count": 6
        }
      ]
    },
    {
      "cell_type": "markdown",
      "metadata": {
        "id": "SpBwsilZHxvp"
      },
      "source": [
        "* Python3 차이점 \n",
        " >  long 형 자료형이 int형으로 통일됨\n",
        " \n",
        " > print() 문 차이점 \n"
      ]
    },
    {
      "cell_type": "code",
      "metadata": {
        "id": "3r2_zwMTAYEG",
        "colab": {
          "base_uri": "https://localhost:8080/",
          "height": 128
        },
        "outputId": "8bc73530-05da-4f2d-8175-b74ed3a8c8fa"
      },
      "source": [
        " print 'hello Python'"
      ],
      "execution_count": null,
      "outputs": [
        {
          "output_type": "error",
          "ename": "SyntaxError",
          "evalue": "ignored",
          "traceback": [
            "\u001b[0;36m  File \u001b[0;32m\"<ipython-input-1-7ace665583e9>\"\u001b[0;36m, line \u001b[0;32m1\u001b[0m\n\u001b[0;31m    print 'hello Python'\u001b[0m\n\u001b[0m                       ^\u001b[0m\n\u001b[0;31mSyntaxError\u001b[0m\u001b[0;31m:\u001b[0m Missing parentheses in call to 'print'. Did you mean print('hello Python')?\n"
          ]
        }
      ]
    },
    {
      "cell_type": "markdown",
      "metadata": {
        "id": "VI83N7slqrkE"
      },
      "source": [
        "Colab에서 **파이썬 버젼** 확인하기"
      ]
    },
    {
      "cell_type": "code",
      "metadata": {
        "colab": {
          "base_uri": "https://localhost:8080/"
        },
        "id": "rRIn3_nbqiHK",
        "outputId": "c4dace4a-aaa3-4b9b-ca6a-512fbf77dc62"
      },
      "source": [
        "!python --version"
      ],
      "execution_count": null,
      "outputs": [
        {
          "output_type": "stream",
          "text": [
            "Python 3.7.10\n"
          ],
          "name": "stdout"
        }
      ]
    },
    {
      "cell_type": "markdown",
      "metadata": {
        "id": "wuVsWVIXIuSc"
      },
      "source": [
        "**python 언어 vs c 언어**"
      ]
    },
    {
      "cell_type": "code",
      "metadata": {
        "colab": {
          "base_uri": "https://localhost:8080/"
        },
        "id": "VGXGZ_JbI3zx",
        "outputId": "b4964b98-0053-45fb-a12a-0ac034730dee"
      },
      "source": [
        "def factorial(x):\n",
        "  if x == 0:\n",
        "    return 1\n",
        "  else:\n",
        "    return x * factorial(x - 1)\n",
        "\n",
        "\n",
        "factorial(5)"
      ],
      "execution_count": null,
      "outputs": [
        {
          "output_type": "execute_result",
          "data": {
            "text/plain": [
              "120"
            ]
          },
          "metadata": {
            "tags": []
          },
          "execution_count": 2
        }
      ]
    },
    {
      "cell_type": "code",
      "metadata": {
        "colab": {
          "base_uri": "https://localhost:8080/"
        },
        "id": "nUWL0Isv6L6R",
        "outputId": "fedb48ad-25df-46a1-eb01-e5647f3dd0bb"
      },
      "source": [
        "def factorial(x):\n",
        "    fac = 1\n",
        "    for i in range(1,x+1):\n",
        "        fac *= i\n",
        "    return fac\n",
        "\n",
        "factorial(5)   "
      ],
      "execution_count": null,
      "outputs": [
        {
          "output_type": "execute_result",
          "data": {
            "text/plain": [
              "120"
            ]
          },
          "metadata": {
            "tags": []
          },
          "execution_count": 4
        }
      ]
    },
    {
      "cell_type": "markdown",
      "metadata": {
        "id": "EUrt1knYKj85"
      },
      "source": [
        "### 변수\n",
        "* 변수(Variable)는 값(자료값)을 **저장하는 공간**임\n",
        "* 변수를 만든다는 것은 숫자나 문자열과 같은 데이터를 저장할 수 있는 공간을 마련하는 것임\n",
        "* 변수 명(식별자)는 자료형을 지정하지 않고 값을 변수에 저장할 수 있음 (by 배정문) \n",
        "* C 언어와 동일하게 식별자로 변수명을 사용함\n"
      ]
    },
    {
      "cell_type": "code",
      "metadata": {
        "id": "Ml2xD1L3uy8n"
      },
      "source": [
        " x=100"
      ],
      "execution_count": null,
      "outputs": []
    },
    {
      "cell_type": "code",
      "metadata": {
        "colab": {
          "base_uri": "https://localhost:8080/"
        },
        "id": "kbwQGoxFtiwZ",
        "outputId": "a96f3a54-5ae3-4e7a-b34b-ac819f761a7c"
      },
      "source": [
        "id(x)"
      ],
      "execution_count": null,
      "outputs": [
        {
          "output_type": "execute_result",
          "data": {
            "text/plain": [
              "94699043341920"
            ]
          },
          "metadata": {},
          "execution_count": 2
        }
      ]
    },
    {
      "cell_type": "code",
      "metadata": {
        "id": "rnIG5nGcuuE1"
      },
      "source": [
        "y=100"
      ],
      "execution_count": null,
      "outputs": []
    },
    {
      "cell_type": "code",
      "metadata": {
        "id": "xNxAj74Aux3a",
        "colab": {
          "base_uri": "https://localhost:8080/"
        },
        "outputId": "61341ede-73b3-4723-ab5f-1f44499c0d8f"
      },
      "source": [
        "id(y)"
      ],
      "execution_count": null,
      "outputs": [
        {
          "output_type": "execute_result",
          "data": {
            "text/plain": [
              "94699043341920"
            ]
          },
          "metadata": {},
          "execution_count": 4
        }
      ]
    },
    {
      "cell_type": "code",
      "metadata": {
        "id": "9yXa3gxVtoUU"
      },
      "source": [
        "x =1000"
      ],
      "execution_count": null,
      "outputs": []
    },
    {
      "cell_type": "code",
      "metadata": {
        "colab": {
          "base_uri": "https://localhost:8080/"
        },
        "id": "JQvjjqDytsed",
        "outputId": "9510f1d3-0df3-4742-c5e2-5ba5dbed2d70"
      },
      "source": [
        "id(x)"
      ],
      "execution_count": null,
      "outputs": [
        {
          "output_type": "execute_result",
          "data": {
            "text/plain": [
              "140486680880272"
            ]
          },
          "metadata": {},
          "execution_count": 6
        }
      ]
    },
    {
      "cell_type": "code",
      "metadata": {
        "colab": {
          "base_uri": "https://localhost:8080/"
        },
        "id": "9IlGRLLKuf4N",
        "outputId": "5b4d36b6-5ec3-46b1-db14-b9d1dba1ea68"
      },
      "source": [
        "type(x)"
      ],
      "execution_count": null,
      "outputs": [
        {
          "output_type": "execute_result",
          "data": {
            "text/plain": [
              "int"
            ]
          },
          "metadata": {},
          "execution_count": 7
        }
      ]
    },
    {
      "cell_type": "code",
      "metadata": {
        "id": "a8iPiJiOuiRE"
      },
      "source": [],
      "execution_count": null,
      "outputs": []
    },
    {
      "cell_type": "markdown",
      "metadata": {
        "id": "K21u9eFAu0jR"
      },
      "source": [
        "### 객체 \n",
        "\n",
        "* 객체는 변수 형태의 속성(attribute)과 함수 형태의 메소드(method)를 가진것\n",
        "* 개별 객체는 자기의 속성(내부 데이터)와 메소드(내부연산)을 가짐\n",
        "* 파이썬에서는 모든 변수와 자료형이 객체로 되어 있음\n",
        "\n",
        "\n",
        "\n",
        "* 100이라는 값이 메모리에 할당되는데, 이를 객체(object)라고 부름\n",
        "* 변수 x는 100이라는 값의 객체를 가리킴\n",
        "```\n",
        "id(x)\n",
        "```"
      ]
    },
    {
      "cell_type": "markdown",
      "metadata": {
        "id": "Tn-TRziuu83u"
      },
      "source": [
        "![image.png](data:image/png;base64,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)"
      ]
    },
    {
      "cell_type": "markdown",
      "metadata": {
        "id": "jk8Pb7xJvTSI"
      },
      "source": [
        "#### 변수 이름 규칙 \n",
        "* 영문 문자와 숫자를 사용할 수 있음\n",
        "* 대소문자를 구분함  ( 변수 X 와 변수 x 는 다른 변수임)\n",
        "* 문자부터 시작해야 하며 숫자부터 시작하면 안됨\n",
        "* _(밑줄 문자)로 시작할 수 있음\n",
        "* 특수 문자(+, -, *, /, $, @, &, % 등)는 사용할 수 없음\n",
        "* 파이썬의 키워드(if, for, while, and, or 등)는 사용할 수 없음 "
      ]
    },
    {
      "cell_type": "code",
      "metadata": {
        "id": "zUWNgB1bvkSG",
        "colab": {
          "base_uri": "https://localhost:8080/",
          "height": 134
        },
        "outputId": "40f94156-b2ab-4bdb-ca93-4edd1c5dd4be"
      },
      "source": [
        "12month = '봄' "
      ],
      "execution_count": null,
      "outputs": [
        {
          "output_type": "error",
          "ename": "SyntaxError",
          "evalue": "ignored",
          "traceback": [
            "\u001b[0;36m  File \u001b[0;32m\"<ipython-input-1-cb220fa752f7>\"\u001b[0;36m, line \u001b[0;32m1\u001b[0m\n\u001b[0;31m    12month = '봄'\u001b[0m\n\u001b[0m          ^\u001b[0m\n\u001b[0;31mSyntaxError\u001b[0m\u001b[0;31m:\u001b[0m invalid syntax\n"
          ]
        }
      ]
    },
    {
      "cell_type": "markdown",
      "metadata": {
        "id": "QnussHvBTGqT"
      },
      "source": [
        "### 변수사용"
      ]
    },
    {
      "cell_type": "code",
      "metadata": {
        "id": "g803nucZK3UM",
        "colab": {
          "base_uri": "https://localhost:8080/"
        },
        "outputId": "520143c2-db3c-4cd9-86d1-30c8261f8f8c"
      },
      "source": [
        "name = \"Bob\" \n",
        "age = 15\n",
        "age = 15 \n",
        "age += 1 # increment age by 1 \n",
        "print(age)"
      ],
      "execution_count": null,
      "outputs": [
        {
          "output_type": "stream",
          "text": [
            "16\n"
          ],
          "name": "stdout"
        }
      ]
    },
    {
      "cell_type": "code",
      "metadata": {
        "id": "qYa7SORwOvDv"
      },
      "source": [
        "a = b = c = 1"
      ],
      "execution_count": null,
      "outputs": []
    },
    {
      "cell_type": "code",
      "metadata": {
        "colab": {
          "base_uri": "https://localhost:8080/"
        },
        "id": "czY0fZgzaWkk",
        "outputId": "1d339190-15a3-4483-89a7-d1f7705cdc79"
      },
      "source": [
        "a"
      ],
      "execution_count": null,
      "outputs": [
        {
          "output_type": "execute_result",
          "data": {
            "text/plain": [
              "1"
            ]
          },
          "metadata": {},
          "execution_count": 10
        }
      ]
    },
    {
      "cell_type": "code",
      "metadata": {
        "colab": {
          "base_uri": "https://localhost:8080/"
        },
        "id": "scj-SFU5aZIs",
        "outputId": "ee64af17-e63e-4829-cf9a-7cc3a4dc52bf"
      },
      "source": [
        "b"
      ],
      "execution_count": null,
      "outputs": [
        {
          "output_type": "execute_result",
          "data": {
            "text/plain": [
              "1"
            ]
          },
          "metadata": {},
          "execution_count": 11
        }
      ]
    },
    {
      "cell_type": "code",
      "metadata": {
        "colab": {
          "base_uri": "https://localhost:8080/"
        },
        "id": "PB6U8dlPP1N1",
        "outputId": "d04115ee-805d-43b8-b699-43e886792596"
      },
      "source": [
        "a, b = 3, 4\n",
        "print(a,b)"
      ],
      "execution_count": null,
      "outputs": [
        {
          "output_type": "stream",
          "text": [
            "3 4\n"
          ],
          "name": "stdout"
        }
      ]
    },
    {
      "cell_type": "code",
      "metadata": {
        "id": "FC1-MuH5ah_N"
      },
      "source": [
        "a, b = b, a"
      ],
      "execution_count": null,
      "outputs": []
    },
    {
      "cell_type": "markdown",
      "metadata": {
        "id": "ul8Rx0a6LDZd"
      },
      "source": [
        "### 자료형\n",
        "\n",
        "* 숫자형(Number)\n",
        "> 정수형, 실수형, 복소수\n",
        "\n",
        "* 문자열(String)\n",
        "> 문자, 단어 등으로 구성된 문자들의 집합\n",
        "\n",
        "* 불(bool)\n",
        ">  참(True)과 거짓(False)을 나타내는 자료형\n",
        "\n",
        "* 리스트(List)\n",
        ">  값의 생성, 삭제, 수정이 가능한 가변 배열\n",
        "\n",
        "*  튜플(Tuple)\n",
        ">  값을 변경할 수 없는 리스트\n",
        "\n",
        "*  딕셔너리(Dictionary)\n",
        "> 키를 사용하여 값을 접근하는 연관 배열(Associative array)\n",
        "\n",
        "*  집합(Set)\n",
        "> 중복을 허용하지 않고 순서가 없는 리스트\n",
        "\n",
        "\n",
        "\\* (참고) https://www.w3schools.com/python/python_datatypes.asp"
      ]
    },
    {
      "cell_type": "code",
      "metadata": {
        "colab": {
          "base_uri": "https://localhost:8080/"
        },
        "id": "MJAJCiaILI99",
        "outputId": "b31bee62-f55e-4e5c-84c8-2acf234c83eb"
      },
      "source": [
        "# 숫자형 ( 8진수와 16진수)\n",
        "\n",
        "x = 1 # int\n",
        "y = 2.8 # float\n",
        "z = 1j # complex\n",
        "print(type(x))\n",
        "print(type(y))\n",
        "print(type(z))"
      ],
      "execution_count": null,
      "outputs": [
        {
          "output_type": "stream",
          "text": [
            "<class 'int'>\n",
            "<class 'float'>\n",
            "<class 'complex'>\n"
          ],
          "name": "stdout"
        }
      ]
    },
    {
      "cell_type": "code",
      "metadata": {
        "colab": {
          "base_uri": "https://localhost:8080/"
        },
        "id": "Hk5iHL6YQolP",
        "outputId": "b6a03fc3-9270-488f-8136-08cda5a40305"
      },
      "source": [
        "print(0o10)"
      ],
      "execution_count": null,
      "outputs": [
        {
          "output_type": "stream",
          "text": [
            "8\n"
          ],
          "name": "stdout"
        }
      ]
    },
    {
      "cell_type": "code",
      "metadata": {
        "colab": {
          "base_uri": "https://localhost:8080/"
        },
        "id": "Tv5eB3PzQqYm",
        "outputId": "476f9fb2-a824-4b1e-95cf-1ff7775b756c"
      },
      "source": [
        "print(0x10)"
      ],
      "execution_count": null,
      "outputs": [
        {
          "output_type": "stream",
          "text": [
            "16\n"
          ],
          "name": "stdout"
        }
      ]
    },
    {
      "cell_type": "code",
      "metadata": {
        "colab": {
          "base_uri": "https://localhost:8080/"
        },
        "id": "wWc-6UCCQt5M",
        "outputId": "4f25a830-7c7f-4de8-f606-2c3956501f40"
      },
      "source": [
        "print(0b10)"
      ],
      "execution_count": null,
      "outputs": [
        {
          "output_type": "stream",
          "text": [
            "2\n"
          ],
          "name": "stdout"
        }
      ]
    },
    {
      "cell_type": "code",
      "metadata": {
        "colab": {
          "base_uri": "https://localhost:8080/"
        },
        "id": "z2ucN6xEQ2DT",
        "outputId": "5edad7fc-fc0b-469d-a1e8-fb6db660a3ee"
      },
      "source": [
        "type(10)"
      ],
      "execution_count": null,
      "outputs": [
        {
          "output_type": "execute_result",
          "data": {
            "text/plain": [
              "int"
            ]
          },
          "metadata": {
            "tags": []
          },
          "execution_count": 6
        }
      ]
    },
    {
      "cell_type": "code",
      "metadata": {
        "colab": {
          "base_uri": "https://localhost:8080/"
        },
        "id": "cjfWz94FQ8Ed",
        "outputId": "8969c7ef-48e0-47f8-e818-d0b4535aa199"
      },
      "source": [
        "4.2\n",
        "type(4.2)"
      ],
      "execution_count": null,
      "outputs": [
        {
          "output_type": "execute_result",
          "data": {
            "text/plain": [
              "float"
            ]
          },
          "metadata": {
            "tags": []
          },
          "execution_count": 7
        }
      ]
    },
    {
      "cell_type": "code",
      "metadata": {
        "colab": {
          "base_uri": "https://localhost:8080/"
        },
        "id": "vUs7VD6QQaAb",
        "outputId": "d21b1ab1-10dd-4c5a-c103-750b53930b00"
      },
      "source": [
        "print(123123123123123123123123123123123123123123123123 + 1)"
      ],
      "execution_count": null,
      "outputs": [
        {
          "output_type": "stream",
          "text": [
            "123123123123123123123123123123123123123123123124\n"
          ],
          "name": "stdout"
        }
      ]
    },
    {
      "cell_type": "code",
      "metadata": {
        "colab": {
          "base_uri": "https://localhost:8080/",
          "height": 35
        },
        "id": "y1_043OGT48D",
        "outputId": "7985da8b-7c37-44e0-a591-b855e2c3d5bc"
      },
      "source": [
        "head='123'\n",
        "head * 2"
      ],
      "execution_count": null,
      "outputs": [
        {
          "output_type": "execute_result",
          "data": {
            "application/vnd.google.colaboratory.intrinsic+json": {
              "type": "string"
            },
            "text/plain": [
              "'123123'"
            ]
          },
          "metadata": {
            "tags": []
          },
          "execution_count": 9
        }
      ]
    },
    {
      "cell_type": "code",
      "metadata": {
        "colab": {
          "base_uri": "https://localhost:8080/"
        },
        "id": "wWPEA_NvPNs4",
        "outputId": "89daa3d9-ddf4-49ff-ea79-da2c6563d090"
      },
      "source": [
        "myfloat = 7.0\n",
        "print(myfloat)\n",
        "myfloat = float(7)\n",
        "print(myfloat)"
      ],
      "execution_count": null,
      "outputs": [
        {
          "output_type": "stream",
          "text": [
            "7.0\n",
            "7.0\n"
          ],
          "name": "stdout"
        }
      ]
    },
    {
      "cell_type": "code",
      "metadata": {
        "colab": {
          "base_uri": "https://localhost:8080/"
        },
        "id": "7ZX0UwV-PWP7",
        "outputId": "60d1c5ea-a78a-42ad-e6c7-37bdab8126da"
      },
      "source": [
        "# 문자열 \n",
        "\n",
        "mystring = 'hello'\n",
        "print(mystring)\n",
        "mystring = \"hello\"\n",
        "print(mystring)"
      ],
      "execution_count": null,
      "outputs": [
        {
          "output_type": "stream",
          "text": [
            "hello\n",
            "hello\n"
          ],
          "name": "stdout"
        }
      ]
    },
    {
      "cell_type": "code",
      "metadata": {
        "colab": {
          "base_uri": "https://localhost:8080/",
          "height": 134
        },
        "id": "iYrsbr49Pc-x",
        "outputId": "63f21201-c11d-428f-d8f0-7b667eaa325d"
      },
      "source": [
        "mystring = \"Hello Python\\t\" 'world\"\n",
        "print(mystring)"
      ],
      "execution_count": null,
      "outputs": [
        {
          "output_type": "error",
          "ename": "SyntaxError",
          "evalue": "ignored",
          "traceback": [
            "\u001b[0;36m  File \u001b[0;32m\"<ipython-input-12-64eba404f8a8>\"\u001b[0;36m, line \u001b[0;32m1\u001b[0m\n\u001b[0;31m    mystring = \"Hello Python\\t\" 'world\"\u001b[0m\n\u001b[0m                                       ^\u001b[0m\n\u001b[0;31mSyntaxError\u001b[0m\u001b[0;31m:\u001b[0m EOL while scanning string literal\n"
          ]
        }
      ]
    },
    {
      "cell_type": "code",
      "metadata": {
        "id": "UB_EVNEmRTxw"
      },
      "source": [
        "type(\"I am a string.\")"
      ],
      "execution_count": null,
      "outputs": []
    },
    {
      "cell_type": "markdown",
      "metadata": {
        "id": "IDCq3kbKSPWJ"
      },
      "source": [
        "* 문자열의 인텍스를 통해 구성 문자를 지정할 수 있으며 인텍스의 시작은 0이며 마지막을 문자열 길이 -1 임\n",
        "\n",
        "* 인덱스의 범위를 지정하여 내부 문자열의 일부를 지정할 수 있으며 :의 왼쪽 값은 범위 시작, 오른쪽은 범위의 끝 인텍스(**자신을 포함하지 않음**)를 나타냄"
      ]
    },
    {
      "cell_type": "code",
      "metadata": {
        "id": "7hhxgNXtSI-V"
      },
      "source": [
        "mystring = \"Hello Python world\""
      ],
      "execution_count": null,
      "outputs": []
    },
    {
      "cell_type": "code",
      "metadata": {
        "id": "QyYRoVqkSx72"
      },
      "source": [
        "mystring[0]"
      ],
      "execution_count": null,
      "outputs": []
    },
    {
      "cell_type": "code",
      "metadata": {
        "id": "uU0N0HDWcoKF"
      },
      "source": [
        "mystring[-1]\n",
        "mystring[len(mystring)-1]"
      ],
      "execution_count": null,
      "outputs": []
    },
    {
      "cell_type": "code",
      "metadata": {
        "id": "Rv7JVujxTh9h"
      },
      "source": [
        "mystring[1:4]"
      ],
      "execution_count": null,
      "outputs": []
    },
    {
      "cell_type": "code",
      "metadata": {
        "id": "65OOSEqEUHdh"
      },
      "source": [
        "# 문자 개수 계산\n",
        "mystring = \"Hello Python world\"\n",
        "mystring.count('P')"
      ],
      "execution_count": null,
      "outputs": []
    },
    {
      "cell_type": "code",
      "metadata": {
        "colab": {
          "base_uri": "https://localhost:8080/"
        },
        "id": "j81XBq7sXS9K",
        "outputId": "f6cb516c-a5aa-4d71-a3c1-1b99d31530e6"
      },
      "source": [
        "b=\"Hello, World!\"  \n",
        "print(b[2:5]) "
      ],
      "execution_count": null,
      "outputs": [
        {
          "output_type": "stream",
          "text": [
            "llo\n"
          ],
          "name": "stdout"
        }
      ]
    },
    {
      "cell_type": "markdown",
      "metadata": {
        "id": "qMPQ4uyHP-iS"
      },
      "source": [
        "* 숫자형과 문자열 결합 연산"
      ]
    },
    {
      "cell_type": "code",
      "metadata": {
        "id": "HgCZtqH9P5l2"
      },
      "source": [
        "one = 1\n",
        "two = 2\n",
        "hello = \"hello\"\n",
        "\n",
        "print(one + two + hello)"
      ],
      "execution_count": null,
      "outputs": []
    },
    {
      "cell_type": "markdown",
      "metadata": {
        "id": "oIo1Mjloc1YL"
      },
      "source": [
        "* join()"
      ]
    },
    {
      "cell_type": "code",
      "metadata": {
        "colab": {
          "base_uri": "https://localhost:8080/"
        },
        "id": "ODsNacAEcqwE",
        "outputId": "8603f4db-2a75-454a-f8bd-bf1fcef28b62"
      },
      "source": [
        "print(\",\".join('abcd'))\n",
        "print(\",\".join(['a', 'b', 'c', 'd']))\n"
      ],
      "execution_count": null,
      "outputs": [
        {
          "output_type": "stream",
          "text": [
            "a,b,c,d\n",
            "a,b,c,d\n"
          ],
          "name": "stdout"
        }
      ]
    },
    {
      "cell_type": "markdown",
      "metadata": {
        "id": "iThDBLFRrNOD"
      },
      "source": [
        "### print() 문 \n",
        "* 다음 python 코드를 실행 한 후 특수문자 ('\\t'와 '\\n') 을 이해한다\n",
        "```\n",
        "print(\"안녕하세요.\\n만나서\\t\\t반갑습니다.\")\n",
        "```"
      ]
    },
    {
      "cell_type": "code",
      "metadata": {
        "colab": {
          "base_uri": "https://localhost:8080/"
        },
        "id": "kH9VkBggrka9",
        "outputId": "24bbd6e8-bae2-41a5-e17f-5dc8af61d28b"
      },
      "source": [
        "print(\"안녕하세요.\\n만나서\\t\\t반갑습니다.\")"
      ],
      "execution_count": null,
      "outputs": [
        {
          "output_type": "stream",
          "text": [
            "안녕하세요.\n",
            "만나서\t\t반갑습니다.\n"
          ],
          "name": "stdout"
        }
      ]
    },
    {
      "cell_type": "code",
      "metadata": {
        "colab": {
          "base_uri": "https://localhost:8080/"
        },
        "id": "QifOnSXqPq5N",
        "outputId": "fa0dc859-3b38-4d8f-a928-d7d3bdf34157"
      },
      "source": [
        "one = 1\n",
        "two = 2\n",
        "three = one + two\n",
        "print(three)\n",
        "\n",
        "hello = \"hello\"\n",
        "world = \"world\"\n",
        "helloworld = hello + \" \" + world\n",
        "print(helloworld)"
      ],
      "execution_count": null,
      "outputs": [
        {
          "output_type": "stream",
          "text": [
            "3\n",
            "hello world\n"
          ],
          "name": "stdout"
        }
      ]
    },
    {
      "cell_type": "markdown",
      "metadata": {
        "id": "noKZJJ3yODPu"
      },
      "source": [
        " * (문제)다음 프로그램의 수행결과를 보이시오"
      ]
    },
    {
      "cell_type": "code",
      "metadata": {
        "id": "Fn2JKGWGOHc6",
        "colab": {
          "base_uri": "https://localhost:8080/"
        },
        "outputId": "6694fa60-5923-4828-f404-1522230fd315"
      },
      "source": [
        "x = \"awesome\"\n",
        "print(\"Python is \"+ x)\n"
      ],
      "execution_count": null,
      "outputs": [
        {
          "output_type": "stream",
          "text": [
            "Python is awesome\n"
          ],
          "name": "stdout"
        }
      ]
    },
    {
      "cell_type": "markdown",
      "metadata": {
        "id": "EVI_XwjTruRJ"
      },
      "source": [
        "### 들여쓰기 \n",
        "* 들여쓰기는 코드를 읽기 쉽도록 일정한 간격을 띄워서 작성하는 방법임 \n",
        "* 파이썬에서는 수행 흐름을 제어하기는 경우 블록설정을 위해 들여쓰기를 하여야함 \n",
        "* 파이썬에서는 **들여쓰기 자체가 문법임**\n",
        "* 파이썬에서 들여쓰기 방법은 공백(스페이스) 2칸, 4칸, 탭(tab) 등 여러 가지 방법이 있음, **4칸들여쓰기** 추천\n",
        "> 파이썬 코딩 스타일 가이드(PEP 8)에서는 공백 4칸으로 규정"
      ]
    },
    {
      "cell_type": "code",
      "metadata": {
        "colab": {
          "base_uri": "https://localhost:8080/"
        },
        "id": "KRcT0NKosUKO",
        "outputId": "a5771e49-eef4-4a64-b3d2-6362b784dc85"
      },
      "source": [
        "a = 10\n",
        "if a == 10:\n",
        "   print('10입니다.')    # 들여쓰기 문법 에러"
      ],
      "execution_count": null,
      "outputs": [
        {
          "output_type": "stream",
          "text": [
            "10입니다.\n"
          ],
          "name": "stdout"
        }
      ]
    },
    {
      "cell_type": "markdown",
      "metadata": {
        "id": "bLMmN2EDjTEx"
      },
      "source": [
        "### input() 함수 사용하기"
      ]
    },
    {
      "cell_type": "code",
      "metadata": {
        "colab": {
          "base_uri": "https://localhost:8080/"
        },
        "id": "bJEkEddxjWbV",
        "outputId": "e3e469a4-95cd-43d5-887a-dced8b9e0555"
      },
      "source": [
        "x = input(\"input a number\")"
      ],
      "execution_count": null,
      "outputs": [
        {
          "output_type": "stream",
          "text": [
            "input a number10\n"
          ],
          "name": "stdout"
        }
      ]
    },
    {
      "cell_type": "code",
      "metadata": {
        "colab": {
          "base_uri": "https://localhost:8080/",
          "height": 35
        },
        "id": "_WYw2mjAjel_",
        "outputId": "cbb18923-2876-425b-ae7c-cb25014116d4"
      },
      "source": [
        "x"
      ],
      "execution_count": null,
      "outputs": [
        {
          "output_type": "execute_result",
          "data": {
            "application/vnd.google.colaboratory.intrinsic+json": {
              "type": "string"
            },
            "text/plain": [
              "'10'"
            ]
          },
          "metadata": {
            "tags": []
          },
          "execution_count": 47
        }
      ]
    },
    {
      "cell_type": "code",
      "metadata": {
        "colab": {
          "base_uri": "https://localhost:8080/"
        },
        "id": "b2leuW_Sjjxw",
        "outputId": "73b0c874-6a5f-49f1-ff81-3e36290148c1"
      },
      "source": [
        "y = input (\"input a number\")"
      ],
      "execution_count": null,
      "outputs": [
        {
          "output_type": "stream",
          "text": [
            "input a number20\n"
          ],
          "name": "stdout"
        }
      ]
    },
    {
      "cell_type": "code",
      "metadata": {
        "colab": {
          "base_uri": "https://localhost:8080/"
        },
        "id": "7-FOeCCajrW4",
        "outputId": "acdde8dd-03d3-4a35-d097-71ee00a64bf0"
      },
      "source": [
        "z = int(x) - int(y)\n",
        "z"
      ],
      "execution_count": null,
      "outputs": [
        {
          "output_type": "execute_result",
          "data": {
            "text/plain": [
              "-10"
            ]
          },
          "metadata": {
            "tags": []
          },
          "execution_count": 53
        }
      ]
    },
    {
      "cell_type": "code",
      "metadata": {
        "id": "--jMsTemQkRs",
        "colab": {
          "base_uri": "https://localhost:8080/"
        },
        "outputId": "30324360-857f-4018-9317-c8a92ea23374"
      },
      "source": [
        "print('양수를 입력해 주세요')\n",
        "x = input()\n",
        "print('양수를 입력해 주세요')\n",
        "y = input()\n",
        "a = x\n",
        "b = y\n",
        "c = int(a) + int(y)\n",
        "print('두수의 합은 %d 입니다' % c)"
      ],
      "execution_count": null,
      "outputs": [
        {
          "output_type": "stream",
          "text": [
            "양수를 입력해 주세요\n",
            "10\n",
            "양수를 입력해 주세요\n",
            "5\n",
            "두수의 합은 15 입니다\n"
          ],
          "name": "stdout"
        }
      ]
    },
    {
      "cell_type": "markdown",
      "metadata": {
        "id": "SWPHb8rtAcVd"
      },
      "source": [
        "###조건문\n",
        "> 조건식의 참(Ture)와 거짓(False)을 판별하여 실행할 문장을 선택하여 처리\n",
        "\n",
        "* if 문\n",
        "* if - else 문\n",
        "* if - elif -else 문\n"
      ]
    },
    {
      "cell_type": "markdown",
      "metadata": {
        "id": "c0Je0oydt_rq"
      },
      "source": [
        "다음 파이썬 코드의 출력결과를 예상하여 작성하시오\n",
        "```\n",
        "if 5 > 2:\n",
        "  print(\"Five is greater than two!\")\n",
        "\n",
        "```"
      ]
    },
    {
      "cell_type": "code",
      "metadata": {
        "id": "7pK8k1uCAuH1"
      },
      "source": [
        "x = 3\n",
        "y = 2"
      ],
      "execution_count": null,
      "outputs": []
    },
    {
      "cell_type": "code",
      "metadata": {
        "colab": {
          "base_uri": "https://localhost:8080/"
        },
        "id": "LwoFQSmRA-Pl",
        "outputId": "37853f7e-8d14-4d33-f0ae-3069a7235370"
      },
      "source": [
        "x == y"
      ],
      "execution_count": null,
      "outputs": [
        {
          "output_type": "execute_result",
          "data": {
            "text/plain": [
              "False"
            ]
          },
          "metadata": {},
          "execution_count": 15
        }
      ]
    },
    {
      "cell_type": "code",
      "metadata": {
        "colab": {
          "base_uri": "https://localhost:8080/"
        },
        "id": "2JGl8v0-A6eS",
        "outputId": "0d1ee5fe-72c0-471f-ceab-61412e6804c3"
      },
      "source": [
        "x != y"
      ],
      "execution_count": null,
      "outputs": [
        {
          "output_type": "execute_result",
          "data": {
            "text/plain": [
              "True"
            ]
          },
          "metadata": {},
          "execution_count": 16
        }
      ]
    },
    {
      "cell_type": "code",
      "metadata": {
        "colab": {
          "base_uri": "https://localhost:8080/"
        },
        "id": "eqT5aEG5BA8U",
        "outputId": "760c792a-9735-4ebb-e669-eb101a5c2dd8"
      },
      "source": [
        "x >= y"
      ],
      "execution_count": null,
      "outputs": [
        {
          "output_type": "execute_result",
          "data": {
            "text/plain": [
              "True"
            ]
          },
          "metadata": {},
          "execution_count": 17
        }
      ]
    },
    {
      "cell_type": "code",
      "metadata": {
        "colab": {
          "base_uri": "https://localhost:8080/"
        },
        "id": "VmMhvQWLBVp6",
        "outputId": "06752109-0d43-4750-c0fc-5054597647b8"
      },
      "source": [
        "money = 1300\n",
        "\n",
        "if money >= 1200 and money < 2000:\n",
        "   print(\"You can take a bus!\")"
      ],
      "execution_count": null,
      "outputs": [
        {
          "output_type": "stream",
          "text": [
            "You can take a bus!\n"
          ],
          "name": "stdout"
        }
      ]
    },
    {
      "cell_type": "code",
      "metadata": {
        "colab": {
          "base_uri": "https://localhost:8080/"
        },
        "id": "Bo9ea5zuBtZJ",
        "outputId": "437c1652-835f-40aa-f5f3-3d925a48f461"
      },
      "source": [
        "money = 1000\n",
        "if money >= 1200 and money < 2000:\n",
        "   print(\"You can take a bus!\")\n",
        "else:\n",
        "   print(\"There is no enough money\")"
      ],
      "execution_count": null,
      "outputs": [
        {
          "output_type": "stream",
          "text": [
            "There is no enough money\n"
          ],
          "name": "stdout"
        }
      ]
    },
    {
      "cell_type": "markdown",
      "metadata": {
        "id": "hZls4iQ8C59d"
      },
      "source": [
        "(문제)다음 조건문의 **오류** 를 찾으시오."
      ]
    },
    {
      "cell_type": "code",
      "metadata": {
        "colab": {
          "base_uri": "https://localhost:8080/"
        },
        "id": "hHhSey5TB9YV",
        "outputId": "3ed99f29-1dd4-49b9-bd96-a3fdeeeed52f"
      },
      "source": [
        "if money >= 1200 and money < 2000:\n",
        "   pass\n",
        "elif money > 2000:\n",
        "   print (\"Take a bus\")\n",
        "else:\n",
        "   print(\"Take a taxi\")\n",
        "\n",
        "print (f\"money = {money}\")"
      ],
      "execution_count": null,
      "outputs": [
        {
          "output_type": "stream",
          "text": [
            "Take a taxi\n",
            "money = 1000\n"
          ],
          "name": "stdout"
        }
      ]
    },
    {
      "cell_type": "markdown",
      "metadata": {
        "id": "_0_x5RDRDZ8U"
      },
      "source": [
        "**문제해결**"
      ]
    },
    {
      "cell_type": "code",
      "metadata": {
        "colab": {
          "base_uri": "https://localhost:8080/"
        },
        "id": "Zx8wH8__DL7B",
        "outputId": "0c89a201-b007-4fb1-ca71-f0052c7e985d"
      },
      "source": [
        "if money >= 1200 and money < 2000:\n",
        "    print (\"Take a bus\")\n",
        "elif money > 2000:\n",
        "   print (\"Take a bus\")\n",
        "else:\n",
        "   print(\"There is no enough money\")\n",
        "\n",
        "print (f\"money = {money}\")"
      ],
      "execution_count": null,
      "outputs": [
        {
          "output_type": "stream",
          "text": [
            "There is no enough money\n",
            "money = 1000\n"
          ],
          "name": "stdout"
        }
      ]
    },
    {
      "cell_type": "markdown",
      "metadata": {
        "id": "_6217oKuDp8Q"
      },
      "source": [
        "**리스트에서 원소 검사**\n",
        "```\n",
        "x in 리스트\n",
        "x in 튜플\n",
        "x in 문자열\n",
        "```"
      ]
    },
    {
      "cell_type": "code",
      "metadata": {
        "colab": {
          "base_uri": "https://localhost:8080/"
        },
        "id": "cYAIpzxgDf7V",
        "outputId": "78b32364-d81d-4a88-e7a9-47f1c9f283fe"
      },
      "source": [
        "1 in [1,2,3]"
      ],
      "execution_count": null,
      "outputs": [
        {
          "output_type": "execute_result",
          "data": {
            "text/plain": [
              "True"
            ]
          },
          "metadata": {},
          "execution_count": 22
        }
      ]
    },
    {
      "cell_type": "code",
      "metadata": {
        "colab": {
          "base_uri": "https://localhost:8080/"
        },
        "id": "6cMnQ1VUDkkI",
        "outputId": "7007fc42-01d8-4017-c302-04368b1f5f5a"
      },
      "source": [
        "x = 4\n",
        "x in [1, 2, 3]"
      ],
      "execution_count": null,
      "outputs": [
        {
          "output_type": "execute_result",
          "data": {
            "text/plain": [
              "False"
            ]
          },
          "metadata": {},
          "execution_count": 23
        }
      ]
    },
    {
      "cell_type": "code",
      "metadata": {
        "colab": {
          "base_uri": "https://localhost:8080/"
        },
        "id": "36xaTv4qES_A",
        "outputId": "22a3e098-a837-4af6-de2a-422cde375446"
      },
      "source": [
        "x = 'e'\n",
        "\n",
        "if x in ['a','e','i','o', 'u']:\n",
        "   print (f\"{x} is vowel\")\n",
        "\n"
      ],
      "execution_count": null,
      "outputs": [
        {
          "output_type": "stream",
          "text": [
            "e is vowel\n"
          ],
          "name": "stdout"
        }
      ]
    },
    {
      "cell_type": "code",
      "metadata": {
        "id": "sXoWpg6GFHFt"
      },
      "source": [],
      "execution_count": null,
      "outputs": []
    },
    {
      "cell_type": "markdown",
      "metadata": {
        "id": "9SyrhS3RFHam"
      },
      "source": [
        "### 반복문\n",
        "\n",
        "* 지정된 범위에 해당하는 만큼 반복해서 실행 \n",
        "* for문  와 while 문\n",
        "\n",
        "```\n",
        "for 변수 in 리스트|튜플|문자열:\n",
        "    실행문장1\n",
        "    실행문장2\n",
        "```"
      ]
    },
    {
      "cell_type": "code",
      "metadata": {
        "colab": {
          "base_uri": "https://localhost:8080/"
        },
        "id": "IfdO24dhFodi",
        "outputId": "baa07a8a-8d3b-4fda-e470-ca46baa6c2ba"
      },
      "source": [
        "word_list = ['one', 'two', 'three']\n",
        " \n",
        "length = 0\n",
        "for i in word_list:\n",
        "  print (f'list item = {i}')\n",
        "  length = length + 1\n",
        "\n",
        "print (f'total number of list = {length}')\n",
        "\n"
      ],
      "execution_count": null,
      "outputs": [
        {
          "output_type": "stream",
          "text": [
            "list item = one\n",
            "list item = two\n",
            "list item = three\n",
            "total number of list = 3\n"
          ],
          "name": "stdout"
        }
      ]
    },
    {
      "cell_type": "markdown",
      "metadata": {
        "id": "YgPKlvBHHxWi"
      },
      "source": [
        "(문제)다음 반복문의 **오류** 를 찾으시오"
      ]
    },
    {
      "cell_type": "code",
      "metadata": {
        "colab": {
          "base_uri": "https://localhost:8080/"
        },
        "id": "LJf26RwuHb4W",
        "outputId": "081f1097-a3ed-479b-9c89-51aca27e0ab2"
      },
      "source": [
        "sum = 0 \n",
        "n = 10 \n",
        "for i in range(n):\n",
        "  sum = sum + i\n",
        "\n",
        "print (f'sum of 10 to {n} = {sum}')"
      ],
      "execution_count": null,
      "outputs": [
        {
          "output_type": "stream",
          "text": [
            "sum of 10 to 10 = 45\n"
          ],
          "name": "stdout"
        }
      ]
    },
    {
      "cell_type": "code",
      "metadata": {
        "colab": {
          "base_uri": "https://localhost:8080/"
        },
        "id": "9Nk4Lr3uH8i5",
        "outputId": "76626b52-acac-4119-c823-9eefdd1b21ed"
      },
      "source": [
        "sum = 0 \n",
        "n = 10 \n",
        "for i in range(n+1):\n",
        "  sum = sum + i\n",
        "\n",
        "print (f'sum of 10 to {n} = {sum}')"
      ],
      "execution_count": null,
      "outputs": [
        {
          "output_type": "stream",
          "text": [
            "sum of 10 to 10 = 55\n"
          ],
          "name": "stdout"
        }
      ]
    },
    {
      "cell_type": "markdown",
      "metadata": {
        "id": "-RZM6P17IAVe"
      },
      "source": [
        "(문제) if 문과 for 문 사용하기"
      ]
    },
    {
      "cell_type": "code",
      "metadata": {
        "colab": {
          "base_uri": "https://localhost:8080/"
        },
        "id": "HdlqytRYErwb",
        "outputId": "eee6f45a-8c80-48b2-d320-338e78d11813"
      },
      "source": [
        "li = 'python'\n",
        "\n",
        "for x in li:\n",
        "  if x in ['a','e','i','o', 'u']:\n",
        "      print (f\"{li} : {x} is vowel\")\n"
      ],
      "execution_count": null,
      "outputs": [
        {
          "output_type": "stream",
          "text": [
            "python : o is vowel\n"
          ],
          "name": "stdout"
        }
      ]
    },
    {
      "cell_type": "markdown",
      "metadata": {
        "id": "Gjq0JQvbIgKs"
      },
      "source": [
        "**(활용)** for문을 활용하여 새로운 리스트 생성하기"
      ]
    },
    {
      "cell_type": "code",
      "metadata": {
        "colab": {
          "base_uri": "https://localhost:8080/"
        },
        "id": "wcuaW3NmINov",
        "outputId": "57826512-e670-4988-f4d3-c9ae98e54506"
      },
      "source": [
        "xlist = []\n",
        "n = 10\n",
        "for i in range(n+1):\n",
        "  xlist.append(i)\n",
        "print (xlist)\n"
      ],
      "execution_count": null,
      "outputs": [
        {
          "output_type": "stream",
          "text": [
            "[0, 1, 2, 3, 4, 5, 6, 7, 8, 9, 10]\n"
          ],
          "name": "stdout"
        }
      ]
    },
    {
      "cell_type": "markdown",
      "metadata": {
        "id": "WL7ADUuUJgK2"
      },
      "source": [
        "**(심화)** 생성된 리스트를 함수에 인수로 사용하기"
      ]
    },
    {
      "cell_type": "code",
      "metadata": {
        "colab": {
          "base_uri": "https://localhost:8080/"
        },
        "id": "nyOw1zKCI3Oo",
        "outputId": "8c6273bd-90e9-4e2a-f726-249f09029e00"
      },
      "source": [
        "mul = lambda x : x**2\n",
        "\n",
        "mul(2)\n",
        "ylist = []\n",
        "for x in xlist:\n",
        "  y = mul(x)\n",
        "  ylist.append(y)\n",
        "  print (f\"{y} = {x}**2\")"
      ],
      "execution_count": null,
      "outputs": [
        {
          "output_type": "stream",
          "text": [
            "0 = 0**2\n",
            "1 = 1**2\n",
            "4 = 2**2\n",
            "9 = 3**2\n",
            "16 = 4**2\n",
            "25 = 5**2\n",
            "36 = 6**2\n",
            "49 = 7**2\n",
            "64 = 8**2\n",
            "81 = 9**2\n",
            "100 = 10**2\n"
          ],
          "name": "stdout"
        }
      ]
    },
    {
      "cell_type": "code",
      "metadata": {
        "colab": {
          "base_uri": "https://localhost:8080/"
        },
        "id": "lFVVTmNLKFde",
        "outputId": "021080d1-f388-42ad-f484-73897ad1bfe8"
      },
      "source": [
        "import matplotlib.pyplot as plt\n",
        "\n",
        "plt.plot(xlist,ylist)"
      ],
      "execution_count": null,
      "outputs": [
        {
          "output_type": "execute_result",
          "data": {
            "text/plain": [
              "[<matplotlib.lines.Line2D at 0x7f4f2a262f90>]"
            ]
          },
          "metadata": {
            "tags": []
          },
          "execution_count": 7
        },
        {
          "output_type": "display_data",
          "data": {
            "image/png": "[encoded data removed]",
            "text/plain": [
              "<Figure size 432x288 with 1 Axes>"
            ]
          },
          "metadata": {
            "tags": [],
            "needs_background": "light"
          }
        }
      ]
    },
    {
      "cell_type": "markdown",
      "metadata": {
        "id": "XjFfNK05Ka5J"
      },
      "source": [
        "**함수**\n",
        "\n",
        "* 특정작업을 나타내는 코드블록\n",
        "* 사용자가 만드는 사용자 정의함수와 print() 함수와 같은 파이썬 제공 내장함수가 있음 \n",
        "\n",
        "\n",
        "> 내장함수가 있으면 최대한 활용하도록 하는것이 효과적임 \n",
        "* https://docs.python.org/ko/3/library/functions.html  \n",
        "\n",
        "``` \n",
        "def 함수명(인수):\n",
        "    명령문1\n",
        "    명령문2\n",
        "    return 1개 이상의 변수\n",
        "\n",
        "def 함수명(*인수):\n",
        "    명령문1\n",
        "    명령문2\n",
        "    return 1개 이상의 변수\n",
        "\n",
        "```\n"
      ]
    },
    {
      "cell_type": "code",
      "metadata": {
        "colab": {
          "base_uri": "https://localhost:8080/"
        },
        "id": "SCPOhvu-KvrQ",
        "outputId": "85339cac-abe3-40b4-8e61-e3a1317dee7d"
      },
      "source": [
        "def mul(x):\n",
        "  return (x**2)\n",
        "\n",
        "\n",
        "for x in xlist:\n",
        "  y = mul(x)\n",
        "  print (f\"{y} = {x}**2\")"
      ],
      "execution_count": null,
      "outputs": [
        {
          "output_type": "stream",
          "text": [
            "0 = 0**2\n",
            "1 = 1**2\n",
            "4 = 2**2\n",
            "9 = 3**2\n",
            "16 = 4**2\n",
            "25 = 5**2\n",
            "36 = 6**2\n",
            "49 = 7**2\n",
            "64 = 8**2\n",
            "81 = 9**2\n",
            "100 = 10**2\n"
          ],
          "name": "stdout"
        }
      ]
    },
    {
      "cell_type": "markdown",
      "metadata": {
        "id": "6pX_AaKxXqIl"
      },
      "source": [
        "#### 딕셔너리 \n",
        "* immutable한 키(key)와 mutable한 값(value)으로 맵핑되어 있는 순서가 없는 집합\n",
        "* 중괄호로 되어 있고 키와 값으로 구성"
      ]
    },
    {
      "cell_type": "code",
      "metadata": {
        "colab": {
          "base_uri": "https://localhost:8080/"
        },
        "id": "FYAqTLwHZQAY",
        "outputId": "84401c8d-859d-448d-c048-1cb23aee61e9"
      },
      "source": [
        "d = {\"a\" : 1, \"b\":2}\n",
        "d['a']"
      ],
      "execution_count": null,
      "outputs": [
        {
          "output_type": "execute_result",
          "data": {
            "text/plain": [
              "1"
            ]
          },
          "metadata": {
            "tags": []
          },
          "execution_count": 9
        }
      ]
    },
    {
      "cell_type": "code",
      "metadata": {
        "colab": {
          "base_uri": "https://localhost:8080/"
        },
        "id": "LhWPpZ4kXKiw",
        "outputId": "b0eba825-7e1f-4e44-9bf1-ff89bd04b3f9"
      },
      "source": [
        "d = {1:'a', 2:'b', 3:'c'}\n",
        "for x in d.keys():\n",
        "  print(d[x])"
      ],
      "execution_count": null,
      "outputs": [
        {
          "output_type": "stream",
          "text": [
            "a\n",
            "b\n",
            "c\n"
          ],
          "name": "stdout"
        }
      ]
    },
    {
      "cell_type": "code",
      "metadata": {
        "colab": {
          "base_uri": "https://localhost:8080/"
        },
        "id": "RJOuRJeaZBTL",
        "outputId": "3243c214-4544-431f-a7a3-7aa0989ba905"
      },
      "source": [
        "d[4] = 'd'\n",
        "d"
      ],
      "execution_count": null,
      "outputs": [
        {
          "output_type": "execute_result",
          "data": {
            "text/plain": [
              "{1: 'a', 2: 'b', 3: 'c', 4: 'd'}"
            ]
          },
          "metadata": {
            "tags": []
          },
          "execution_count": 11
        }
      ]
    },
    {
      "cell_type": "markdown",
      "metadata": {
        "id": "2JMdRAysYhlU"
      },
      "source": [
        "* 키로는 immutable한 값은 사용할 수 있지만, mutable한 객체는 사용할 수 없음"
      ]
    },
    {
      "cell_type": "code",
      "metadata": {
        "id": "kuhK-1xGYTA9"
      },
      "source": [
        "a = {(1,5): 5, (3,3): 3} # tuple사용"
      ],
      "execution_count": null,
      "outputs": []
    },
    {
      "cell_type": "code",
      "metadata": {
        "colab": {
          "base_uri": "https://localhost:8080/"
        },
        "id": "VyXyNx4oYT3V",
        "outputId": "ec0bfebd-4eb9-4e6a-b922-561da2b6ac9b"
      },
      "source": [
        "for x in a.keys():\n",
        "  print(a[x])"
      ],
      "execution_count": null,
      "outputs": [
        {
          "output_type": "stream",
          "text": [
            "5\n",
            "3\n"
          ],
          "name": "stdout"
        }
      ]
    },
    {
      "cell_type": "markdown",
      "metadata": {
        "id": "pwaoF3h2Yxj_"
      },
      "source": [
        "* 값은 중복될 수 있지만, 키가 중복되면 마지막 값으로 갱신됨"
      ]
    },
    {
      "cell_type": "code",
      "metadata": {
        "colab": {
          "base_uri": "https://localhost:8080/"
        },
        "id": "4JruclREYvXJ",
        "outputId": "84ff76a1-a4f6-439a-c72e-34e96e51b1ee"
      },
      "source": [
        "{\"a\" : 1, \"a\":2}"
      ],
      "execution_count": null,
      "outputs": [
        {
          "output_type": "execute_result",
          "data": {
            "text/plain": [
              "{'a': 2}"
            ]
          },
          "metadata": {
            "tags": []
          },
          "execution_count": 14
        }
      ]
    },
    {
      "cell_type": "code",
      "metadata": {
        "id": "pLg3Bcilm3Pv"
      },
      "source": [],
      "execution_count": null,
      "outputs": []
    },
    {
      "cell_type": "markdown",
      "metadata": {
        "id": "rclBDkSdm46O"
      },
      "source": [
        "#### 1에서 100 합"
      ]
    },
    {
      "cell_type": "code",
      "metadata": {
        "colab": {
          "base_uri": "https://localhost:8080/"
        },
        "id": "X40CscL1m9bE",
        "outputId": "16050867-dc36-4261-f283-ae5299437660"
      },
      "source": [
        "s = 0\n",
        "for i in range(1, 101):\n",
        "  s = s + i\n",
        "\n",
        "print (\"sum of 100 \" + str(s))"
      ],
      "execution_count": null,
      "outputs": [
        {
          "output_type": "stream",
          "text": [
            "sum of 100 5050\n"
          ],
          "name": "stdout"
        }
      ]
    }
  ]
}