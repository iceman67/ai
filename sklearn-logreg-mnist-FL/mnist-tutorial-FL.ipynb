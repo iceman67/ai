{
 "cells": [
  {
   "attachments": {},
   "cell_type": "markdown",
   "metadata": {},
   "source": [
    "https://wikidocs.net/49633"
   ]
  },
  {
   "cell_type": "code",
   "execution_count": 6,
   "metadata": {},
   "outputs": [
    {
     "name": "stdout",
     "output_type": "stream",
     "text": [
      "loss = 1.489723639190679\n",
      "1.489723639190679, 10000, \"accuracy\": 0.6108\n"
     ]
    },
    {
     "name": "stderr",
     "output_type": "stream",
     "text": [
      "/Users/mac/miniforge3/lib/python3.10/site-packages/sklearn/base.py:288: UserWarning: Trying to unpickle estimator LogisticRegression from version 1.1.3 when using version 1.2.0. This might lead to breaking code or invalid results. Use at your own risk. For more info please refer to:\n",
      "https://scikit-learn.org/stable/model_persistence.html#security-maintainability-limitations\n",
      "  warnings.warn(\n"
     ]
    }
   ],
   "source": [
    "from sklearn.model_selection import train_test_split\n",
    "from sklearn.linear_model import LogisticRegression\n",
    "from sklearn.metrics import log_loss\n",
    "from sklearn.metrics import accuracy_score\n",
    "\n",
    "import pickle\n",
    "\n",
    "import argparse\n",
    "import utils\n",
    "\n",
    "# Load MNIST dataset from https://www.openml.org/d/554\n",
    "(X_train, y_train), (X_test, y_test) = utils.load_mnist()\n",
    "\n",
    "# Create LogisticRegression Model\n",
    "with open('./model/client_A-1-minist.pkl', 'rb') as f:     \n",
    "        model = pickle.load(f)\n",
    "\n",
    "\n",
    "loss = log_loss(y_test, model.predict_proba(X_test))\n",
    "print (f'loss = {loss}')\n",
    "accuracy = model.score(X_test, y_test)\n",
    "\n",
    "print ( f'{loss}, {len(X_test)}, \"accuracy\": {accuracy}')\n",
    "\n",
    "   "
   ]
  },
  {
   "cell_type": "code",
   "execution_count": 3,
   "metadata": {},
   "outputs": [
    {
     "ename": "NameError",
     "evalue": "name 'x_test' is not defined",
     "output_type": "error",
     "traceback": [
      "\u001b[0;31m---------------------------------------------------------------------------\u001b[0m",
      "\u001b[0;31mNameError\u001b[0m                                 Traceback (most recent call last)",
      "\u001b[1;32m/Users/mac/sklearn-logreg-mnist/mnist-tutorial-FL.ipynb Cell 3\u001b[0m in \u001b[0;36m1\n\u001b[0;32m----> <a href='vscode-notebook-cell:/Users/mac/sklearn-logreg-mnist/mnist-tutorial-FL.ipynb#W2sZmlsZQ%3D%3D?line=0'>1</a>\u001b[0m y_predict \u001b[39m=\u001b[39m model\u001b[39m.\u001b[39mpredict(x_test) \n\u001b[1;32m      <a href='vscode-notebook-cell:/Users/mac/sklearn-logreg-mnist/mnist-tutorial-FL.ipynb#W2sZmlsZQ%3D%3D?line=1'>2</a>\u001b[0m score \u001b[39m=\u001b[39m accuracy_score(y_test, y_predict)\n\u001b[1;32m      <a href='vscode-notebook-cell:/Users/mac/sklearn-logreg-mnist/mnist-tutorial-FL.ipynb#W2sZmlsZQ%3D%3D?line=2'>3</a>\u001b[0m \u001b[39mprint\u001b[39m(score) \u001b[39m#1.0\u001b[39;00m\n",
      "\u001b[0;31mNameError\u001b[0m: name 'x_test' is not defined"
     ]
    }
   ],
   "source": [
    "y_predict = model.predict(x_test) \n",
    "score = accuracy_score(y_test, y_predict)\n",
    "print(score) #1.0\n"
   ]
  },
  {
   "cell_type": "code",
   "execution_count": 45,
   "metadata": {},
   "outputs": [
    {
     "name": "stdout",
     "output_type": "stream",
     "text": [
      "[[ 1.70738976  4.88240565  9.30468331 ...  0.69611281  7.30760078\n",
      "   2.70325225]\n",
      " [ 7.27424588  4.8187814   1.71006796 ...  7.28504917  4.26479948\n",
      "   0.69496361]\n",
      " [ 3.77908989  0.69847609 -0.30160185 ...  2.71371526  7.28351156\n",
      "   7.27037277]\n",
      " ...\n",
      " [-0.30769188  4.12657499  4.09785814 ...  5.75489624  8.30583842\n",
      "   3.74128212]\n",
      " [-0.26588369  2.74923769  0.71014022 ...  3.73514941  9.31092177\n",
      "   8.29742983]\n",
      " [ 1.81514046  9.30283158  3.7270524  ...  2.74244601  4.88017991\n",
      "   7.30410965]]\n"
     ]
    }
   ],
   "source": [
    "y_predict = estimator.decision_function(x_test)\n",
    "print(y_predict)"
   ]
  }
 ],
 "metadata": {
  "kernelspec": {
   "display_name": "base",
   "language": "python",
   "name": "python3"
  },
  "language_info": {
   "codemirror_mode": {
    "name": "ipython",
    "version": 3
   },
   "file_extension": ".py",
   "mimetype": "text/x-python",
   "name": "python",
   "nbconvert_exporter": "python",
   "pygments_lexer": "ipython3",
   "version": "3.10.6"
  },
  "orig_nbformat": 4,
  "vscode": {
   "interpreter": {
    "hash": "53f80ada611156878e847d16745a65a3fa62c5f82ffb779816be8fdb63764b0e"
   }
  }
 },
 "nbformat": 4,
 "nbformat_minor": 2
}
